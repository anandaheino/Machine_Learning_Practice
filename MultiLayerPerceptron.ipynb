{
 "cells": [
  {
   "cell_type": "markdown",
   "id": "f0c46fdf-0103-4124-90e8-d2622d47d3b4",
   "metadata": {},
   "source": [
    "# Neural Networks: Multilayer Perceptron (MLP) with PyTorch\n",
    "\n",
    "- Neural Networks can have a massice number of parameters, with dozens of layers, meaning the model will have a lot of work to learn and optimize everything!\n",
    "- Well, this is exactly Deep Learning \n",
    "- To help this networks building, Pytorch has a module called `nn`\n"
   ]
  },
  {
   "cell_type": "code",
   "execution_count": 4,
   "id": "1347a3ce-541b-4bbb-abbf-52475e2be769",
   "metadata": {},
   "outputs": [],
   "source": [
    "import torch\n",
    "from torchvision import datasets, transforms\n",
    "\n",
    "# for better image plotting\n",
    "%matplotlib inline\n",
    "%config InlineBackend.figure_format = 'retina'\n",
    "\n",
    "import numpy as np\n",
    "import torch\n",
    "\n",
    "import matplotlib.pyplot as plt\n",
    "import seaborn as sns"
   ]
  },
  {
   "cell_type": "code",
   "execution_count": 7,
   "id": "6468c9de-0f58-499a-99f4-ffaaf00f5f2d",
   "metadata": {},
   "outputs": [
    {
     "name": "stdout",
     "output_type": "stream",
     "text": [
      "Downloading http://yann.lecun.com/exdb/mnist/train-images-idx3-ubyte.gz\n",
      "Downloading http://yann.lecun.com/exdb/mnist/train-images-idx3-ubyte.gz to ./data\\MNIST\\raw\\train-images-idx3-ubyte.gz\n"
     ]
    },
    {
     "data": {
      "application/vnd.jupyter.widget-view+json": {
       "model_id": "4f32375564b54367be1b333421f242e0",
       "version_major": 2,
       "version_minor": 0
      },
      "text/plain": [
       "  0%|          | 0/9912422 [00:00<?, ?it/s]"
      ]
     },
     "metadata": {},
     "output_type": "display_data"
    },
    {
     "name": "stdout",
     "output_type": "stream",
     "text": [
      "Extracting ./data\\MNIST\\raw\\train-images-idx3-ubyte.gz to ./data\\MNIST\\raw\n",
      "\n",
      "Downloading http://yann.lecun.com/exdb/mnist/train-labels-idx1-ubyte.gz\n",
      "Downloading http://yann.lecun.com/exdb/mnist/train-labels-idx1-ubyte.gz to ./data\\MNIST\\raw\\train-labels-idx1-ubyte.gz\n"
     ]
    },
    {
     "data": {
      "application/vnd.jupyter.widget-view+json": {
       "model_id": "97100b4ae7ba4f2b9a28e21784bebb47",
       "version_major": 2,
       "version_minor": 0
      },
      "text/plain": [
       "  0%|          | 0/28881 [00:00<?, ?it/s]"
      ]
     },
     "metadata": {},
     "output_type": "display_data"
    },
    {
     "name": "stdout",
     "output_type": "stream",
     "text": [
      "Extracting ./data\\MNIST\\raw\\train-labels-idx1-ubyte.gz to ./data\\MNIST\\raw\n",
      "\n",
      "Downloading http://yann.lecun.com/exdb/mnist/t10k-images-idx3-ubyte.gz\n",
      "Downloading http://yann.lecun.com/exdb/mnist/t10k-images-idx3-ubyte.gz to ./data\\MNIST\\raw\\t10k-images-idx3-ubyte.gz\n"
     ]
    },
    {
     "data": {
      "application/vnd.jupyter.widget-view+json": {
       "model_id": "7f47858e2ae54bb4af52504a092ae358",
       "version_major": 2,
       "version_minor": 0
      },
      "text/plain": [
       "  0%|          | 0/1648877 [00:00<?, ?it/s]"
      ]
     },
     "metadata": {},
     "output_type": "display_data"
    },
    {
     "name": "stdout",
     "output_type": "stream",
     "text": [
      "Extracting ./data\\MNIST\\raw\\t10k-images-idx3-ubyte.gz to ./data\\MNIST\\raw\n",
      "\n",
      "Downloading http://yann.lecun.com/exdb/mnist/t10k-labels-idx1-ubyte.gz\n",
      "Downloading http://yann.lecun.com/exdb/mnist/t10k-labels-idx1-ubyte.gz to ./data\\MNIST\\raw\\t10k-labels-idx1-ubyte.gz\n"
     ]
    },
    {
     "data": {
      "application/vnd.jupyter.widget-view+json": {
       "model_id": "43449e30675e475ba32ba4f1072cab32",
       "version_major": 2,
       "version_minor": 0
      },
      "text/plain": [
       "  0%|          | 0/4542 [00:00<?, ?it/s]"
      ]
     },
     "metadata": {},
     "output_type": "display_data"
    },
    {
     "name": "stdout",
     "output_type": "stream",
     "text": [
      "Extracting ./data\\MNIST\\raw\\t10k-labels-idx1-ubyte.gz to ./data\\MNIST\\raw\n",
      "\n"
     ]
    }
   ],
   "source": [
    "# defining transforms for data normalization \n",
    "transform = transforms.Compose([transforms.ToTensor(),                  # setting PIL image --> pytorch tensor\n",
    "                                transforms.Normalize((0.5,), (0.5,))])   # B/W only have 2 channels\n",
    "\n",
    "batch_size = 64\n",
    "\n",
    "transform = transforms.Compose([transforms.ToTensor(),\n",
    "                              transforms.Normalize((0.5,), (0.5,))])   # normalize only 2 channels bc it's a B&W picture\n",
    "\n",
    "# Download and load the training data\n",
    "trainset = datasets.MNIST('./data', download=True, train=True, transform=transform)\n",
    "trainloader = torch.utils.data.DataLoader(trainset, batch_size=batch_size, shuffle=True)"
   ]
  },
  {
   "cell_type": "markdown",
   "id": "50db2bd3-8cea-4e8a-b102-0c5dd13c7448",
   "metadata": {},
   "source": [
    "### We created a  `trainloader` and now we'll pass an _iterator_ `iter(trainloader)`:\n",
    "\n",
    "```python\n",
    "for image, label in trainloader:\n",
    "    ## do things with images and labels\n",
    "```\n",
    "\n",
    "### Note that the batch_size here is 64, so let's check it out the first batch:\n",
    "- `images` is a vector with size `(64, 1, 28, 28)`, that means, 64 images / batch, $1$ color per channel  (RBG it woulb be 3 channels), the the size of the images are 28x28 pixels."
   ]
  },
  {
   "cell_type": "code",
   "execution_count": 8,
   "id": "d8982cab-3f54-4d7d-bc46-a4d7824e3ee9",
   "metadata": {},
   "outputs": [
    {
     "name": "stdout",
     "output_type": "stream",
     "text": [
      "<class 'torch.Tensor'>\n",
      "torch.Size([64, 1, 28, 28])\n",
      "torch.Size([64])\n"
     ]
    }
   ],
   "source": [
    "data_iter = iter(trainloader)\n",
    "images, labels = data_iter.next()\n",
    "print(type(images))\n",
    "print(images.shape)\n",
    "print(labels.shape)"
   ]
  },
  {
   "cell_type": "code",
   "execution_count": 15,
   "id": "9ceb5e78-27ef-4036-acef-9947c2ed160d",
   "metadata": {},
   "outputs": [
    {
     "data": {
      "image/png": "[encoded data removed]",
      "text/plain": [
       "<Figure size 864x288 with 4 Axes>"
      ]
     },
     "metadata": {
      "image/png": {
       "height": 177,
       "width": 703
      },
      "needs_background": "light"
     },
     "output_type": "display_data"
    }
   ],
   "source": [
    "fig, ax = plt.subplots(1, 4, figsize=(12,4))\n",
    "for i in range(4):\n",
    "    ax[i].imshow(images[i].numpy().squeeze(), cmap='Greys_r');"
   ]
  },
  {
   "cell_type": "markdown",
   "id": "1a4173bb-e4ea-465c-9be1-2a1f1d64f336",
   "metadata": {},
   "source": [
    "## To understand the theory behind neural networks, I'll first build one using matrix multiplication\n",
    "- After, I'll use the module `nn`\n",
    "\n",
    "## MLP layers:\n",
    "- are called *fully-connected* or *dense*\n",
    "- all units from one layer are connected to all units from the next layer\n",
    "- The input from each layer must be a 1D vector\n",
    "- So, in the MNIST example here, the 28x28 px images will be converted to tensors of 784 units\n",
    "- Thus, the tensor: `(64, 1, 28, 28)` will be converted to: `(64, 784)`\n",
    "- This procedure is called *flattening* ( 2Dtensor -------> 1Dtensor )\n",
    "\n",
    "## At this example, we have the **input**, one **hidden** and the **output** layers:"
   ]
  },
  {
   "cell_type": "code",
   "execution_count": 16,
   "id": "7b934c84-94a4-471d-af21-f240cffba46d",
   "metadata": {},
   "outputs": [],
   "source": [
    "## activation function\n",
    "def sigmoid(x):\n",
    "    return 1/(1 + torch.exp(-x))\n",
    "\n",
    "# Flattening: keeps the first dimension (64), which is the batch_size and transforms the other dimension in one\n",
    "inputs =  images.view(images.shape[0],-1)\n",
    "\n",
    "# defining the weights that connect the input layer to the hidden layer\n",
    "W1 = torch.randn(inputs.shape[1] , 256)         ###  Note that the hidden layer has 256 neurons:\n",
    "\n",
    "# defining the weights that connect the hidden layer to the output layer\n",
    "W2 = torch.randn(256, 10)             ### Note that the output layer has 10 neurons (=classify 10 digits)\n",
    "\n",
    "# defining the bias term: first fot the hidden layer and than for the output layer (same number of neurons)\n",
    "B1 = torch.randn(256)\n",
    "B2 = torch.randn(10)\n",
    "\n",
    "# compute the hidden layer terms passing the activation function:\n",
    "h = sigmoid(torch.mm(inputs,W1) + B1)        ### mm: matrix multiplication\n",
    "\n",
    "# computes the network output:\n",
    "out = torch.mm(h,W2) + B2                "
   ]
  },
  {
   "cell_type": "markdown",
   "id": "f186a267-2806-47eb-82a4-3c6b4badc804",
   "metadata": {},
   "source": [
    "## With those 10 outputs, we want to know which class does the image belong to\n",
    "- Thus, we compute the probability associated with each class\n",
    "- This probability is computed with the function **Softmax**, defined as:\n",
    "\n",
    "$$\n",
    "\\Large \\sigma(x_i) = \\cfrac{e^{x_i}}{\\sum_k^K{e^{x_k}}}\n",
    "$$\n",
    "\n",
    "- This function _squeezes_ the output to values between 0 and 1\n",
    "- Then, the value is normalized \n",
    "- The sum of the probabilities (of each class) is always going to be = 1\n",
    "\n",
    "## Defining the Softmax functiona according to the equation above:\n",
    "- dim = 1 : the sum is going through each class, not through each sample\n",
    "- The softmax returns a tensor with 64x10, that means for each image (from the batch) the class which it belongs to"
   ]
  },
  {
   "cell_type": "code",
   "execution_count": 17,
   "id": "09193ff2-4d28-45ed-bd5e-cb67dc9215ec",
   "metadata": {},
   "outputs": [],
   "source": [
    "def softmax(x):\n",
    "    \"\"\"Defining the Softmax function.\"\"\"\n",
    "    return torch.exp(x)/torch.sum(torch.exp(x),dim = 1).view(-1,1)"
   ]
  },
  {
   "cell_type": "code",
   "execution_count": 18,
   "id": "fb22ff6f-cad3-4cca-9e6a-2412b9157852",
   "metadata": {},
   "outputs": [
    {
     "name": "stdout",
     "output_type": "stream",
     "text": [
      "torch.Size([64, 10])\n"
     ]
    }
   ],
   "source": [
    "# probabilities is the output of the softmax size: (64,10) \n",
    "probabilities = softmax(out)\n",
    "\n",
    "print(probabilities.shape)"
   ]
  },
  {
   "cell_type": "code",
   "execution_count": 20,
   "id": "b56dcc42-1098-4d6a-8670-0049c9e3307a",
   "metadata": {},
   "outputs": [
    {
     "name": "stdout",
     "output_type": "stream",
     "text": [
      "tensor([1.0000, 1.0000, 1.0000, 1.0000, 1.0000, 1.0000, 1.0000, 1.0000, 1.0000,\n",
      "        1.0000, 1.0000, 1.0000, 1.0000, 1.0000, 1.0000, 1.0000, 1.0000, 1.0000,\n",
      "        1.0000, 1.0000, 1.0000, 1.0000, 1.0000, 1.0000, 1.0000, 1.0000, 1.0000,\n",
      "        1.0000, 1.0000, 1.0000, 1.0000, 1.0000, 1.0000, 1.0000, 1.0000, 1.0000,\n",
      "        1.0000, 1.0000, 1.0000, 1.0000, 1.0000, 1.0000, 1.0000, 1.0000, 1.0000,\n",
      "        1.0000, 1.0000, 1.0000, 1.0000, 1.0000, 1.0000, 1.0000, 1.0000, 1.0000,\n",
      "        1.0000, 1.0000, 1.0000, 1.0000, 1.0000, 1.0000, 1.0000, 1.0000, 1.0000,\n",
      "        1.0000])\n"
     ]
    }
   ],
   "source": [
    "# Checking the sum of the all the probabilities for 10 classes == 1\n",
    "print(probabilities.sum(dim=1))"
   ]
  },
  {
   "cell_type": "markdown",
   "id": "42a112b8-1c6b-44a0-9231-78192d23df81",
   "metadata": {},
   "source": [
    "## Building the network with `nn` pytorch\n",
    "- creating a class called `Network` which inherits from `nn.module`\n",
    "- parameters: \n",
    "- `nn.Linear`: Applies a linear transformation to the incoming data:\n",
    "    - self.hidden : input is **28x28pixels** to **256** at the hidden layer\n",
    "        - This module creates the **weights** and **bias** tensors\n",
    "        - These new tensors will be used in `forward` method \n",
    "        - To check these tensors out we can:\n",
    "            - Instantiate the network and pass `net.hidden.weight` and `net.hidden.bias`.\n",
    "    \n",
    "    - self.output : **256** from the hidden to **10** in output\n",
    "    - sigmoid and softmax (again passing dim = 1): defining the activation and output functions  \n",
    "- `Forward` method:\n",
    "    - receives \"x\" and passes the tensor for each operation"
   ]
  },
  {
   "cell_type": "code",
   "execution_count": 22,
   "id": "d65da7b2-2e17-4f67-848e-02c4e0843db4",
   "metadata": {},
   "outputs": [],
   "source": [
    "from torch import nn\n",
    "\n",
    "class Network(nn.Module):\n",
    "    def __init__(self):\n",
    "        super().__init__()\n",
    "        \n",
    "        # linear transformation 784 from input layer to 256 at the hidden layer \n",
    "        self.hidden = nn.Linear(784, 256)\n",
    "        # again, from hidden to output\n",
    "        self.output = nn.Linear(256, 10)\n",
    "        \n",
    "        # Define Sigmoid and Softmax functions\n",
    "        self.sigmoid = nn.Sigmoid()\n",
    "        self.softmax = nn.Softmax(dim=1)\n",
    "        \n",
    "    def forward(self, x):\n",
    "        # the forward method passes the x tensor through each operation\n",
    "        x = self.hidden(x)\n",
    "        x = self.sigmoid(x)\n",
    "        x = self.output(x)\n",
    "        x = self.softmax(x)\n",
    "        return x"
   ]
  },
  {
   "cell_type": "code",
   "execution_count": 23,
   "id": "2f13ab72-cb8d-4649-8e0f-567ccf6617e0",
   "metadata": {},
   "outputs": [
    {
     "data": {
      "text/plain": [
       "Network(\n",
       "  (hidden): Linear(in_features=784, out_features=256, bias=True)\n",
       "  (output): Linear(in_features=256, out_features=10, bias=True)\n",
       "  (sigmoid): Sigmoid()\n",
       "  (softmax): Softmax(dim=1)\n",
       ")"
      ]
     },
     "execution_count": 23,
     "metadata": {},
     "output_type": "execute_result"
    }
   ],
   "source": [
    "# creating the network\n",
    "model = Network()\n",
    "model"
   ]
  },
  {
   "cell_type": "markdown",
   "id": "6319acd8-da07-44a2-afb0-559b74648890",
   "metadata": {},
   "source": [
    "## Creating the Network class in a much easier way"
   ]
  },
  {
   "cell_type": "code",
   "execution_count": null,
   "id": "3f057921-c45e-498d-8f89-4fc14de49f3c",
   "metadata": {},
   "outputs": [],
   "source": [
    "import torch.nn.functional as F\n",
    "\n",
    "class Network(nn.Module):\n",
    "    def __init__(self):\n",
    "        super().__init__()\n",
    "        self.hidden = nn.Linear(784, 256)\n",
    "        self.output = nn.Linear(256, 10)\n",
    "        \n",
    "    def forward(self, x):\n",
    "        x = F.sigmoid(self.hidden(x))\n",
    "        x = F.softmax(self.output(x), dim=1\n",
    "        return x"
   ]
  },
  {
   "cell_type": "code",
   "execution_count": null,
   "id": "164f026f-ac5a-44e4-9134-514e9f274bf3",
   "metadata": {},
   "outputs": [],
   "source": []
  }
 ],
 "metadata": {
  "kernelspec": {
   "display_name": "Python 3",
   "language": "python",
   "name": "python3"
  },
  "language_info": {
   "codemirror_mode": {
    "name": "ipython",
    "version": 3
   },
   "file_extension": ".py",
   "mimetype": "text/x-python",
   "name": "python",
   "nbconvert_exporter": "python",
   "pygments_lexer": "ipython3",
   "version": "3.8.11"
  }
 },
 "nbformat": 4,
 "nbformat_minor": 5
}
