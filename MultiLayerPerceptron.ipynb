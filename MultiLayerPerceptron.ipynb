{
 "cells": [
  {
   "cell_type": "markdown",
   "id": "f0c46fdf-0103-4124-90e8-d2622d47d3b4",
   "metadata": {},
   "source": [
    "# Neural Networks: Multilayer Perceptron (MLP) with PyTorch\n",
    "\n",
    "- Neural Networks can have a massice number of parameters, with dozens of layers, meaning the model will have a lot of work to learn and optimize everything!\n",
    "- Well, this is exactly Deep Learning \n",
    "- To help this networks building, Pytorch has a module called `nn`\n"
   ]
  },
  {
   "cell_type": "code",
   "execution_count": 1,
   "id": "1347a3ce-541b-4bbb-abbf-52475e2be769",
   "metadata": {},
   "outputs": [],
   "source": [
    "# for better image plotting\n",
    "%matplotlib inline\n",
    "%config InlineBackend.figure_format = 'retina'\n",
    "\n",
    "import pandas as pd\n",
    "import numpy as np\n",
    "\n",
    "import torch\n",
    "from torchvision import datasets, transforms\n",
    "from torch import nn, optim\n",
    "from torch.autograd import Variable\n",
    "from torch.utils.data.sampler import SubsetRandomSampler\n",
    "import torch.nn.functional as F\n",
    "\n",
    "import matplotlib.pyplot as plt\n",
    "import seaborn as sns\n",
    "\n",
    "from collections import OrderedDict"
   ]
  },
  {
   "cell_type": "code",
   "execution_count": 3,
   "id": "6468c9de-0f58-499a-99f4-ffaaf00f5f2d",
   "metadata": {},
   "outputs": [],
   "source": [
    "# defining transforms for data normalization \n",
    "transform = transforms.Compose([transforms.ToTensor(),                  # setting PIL image --> pytorch tensor\n",
    "                                transforms.Normalize((0.5,), (0.5,))])   # B/W only have 2 channels\n",
    "\n",
    "batch_size = 64\n",
    "\n",
    "transform = transforms.Compose([transforms.ToTensor(),\n",
    "                              transforms.Normalize((0.5,), (0.5,))])   # normalize only 2 channels bc it's a B&W picture\n",
    "\n",
    "# Download and load the training data\n",
    "trainset = datasets.MNIST('./data', download=True, train=True, transform=transform)\n",
    "trainloader = torch.utils.data.DataLoader(trainset, batch_size=batch_size, shuffle=True)"
   ]
  },
  {
   "cell_type": "markdown",
   "id": "50db2bd3-8cea-4e8a-b102-0c5dd13c7448",
   "metadata": {},
   "source": [
    "### We created a  `trainloader` and now we'll pass an _iterator_ `iter(trainloader)`:\n",
    "\n",
    "```python\n",
    "for image, label in trainloader:\n",
    "    ## do things with images and labels\n",
    "```\n",
    "\n",
    "### Note that the batch_size here is 64, so let's check it out the first batch:\n",
    "- `images` is a vector with size `(64, 1, 28, 28)`, that means, 64 images / batch, $1$ color per channel  (RBG it woulb be 3 channels), the the size of the images are 28x28 pixels."
   ]
  },
  {
   "cell_type": "code",
   "execution_count": 4,
   "id": "d8982cab-3f54-4d7d-bc46-a4d7824e3ee9",
   "metadata": {},
   "outputs": [
    {
     "name": "stdout",
     "output_type": "stream",
     "text": [
      "<class 'torch.Tensor'>\n",
      "torch.Size([64, 1, 28, 28])\n",
      "torch.Size([64])\n"
     ]
    }
   ],
   "source": [
    "data_iter = iter(trainloader)\n",
    "images, labels = data_iter.next()\n",
    "print(type(images))\n",
    "print(images.shape)\n",
    "print(labels.shape)"
   ]
  },
  {
   "cell_type": "code",
   "execution_count": 7,
   "id": "9ceb5e78-27ef-4036-acef-9947c2ed160d",
   "metadata": {},
   "outputs": [
    {
     "data": {
      "image/png": "[encoded data removed]",
      "text/plain": [
       "<Figure size 864x288 with 4 Axes>"
      ]
     },
     "metadata": {
      "image/png": {
       "height": 177,
       "width": 703
      },
      "needs_background": "light"
     },
     "output_type": "display_data"
    }
   ],
   "source": [
    "fig, ax = plt.subplots(1, 4, figsize=(12,4))\n",
    "for i in range(4):\n",
    "    ax[i].imshow(images[i].numpy().squeeze(), cmap='Greys_r');"
   ]
  },
  {
   "cell_type": "markdown",
   "id": "1a4173bb-e4ea-465c-9be1-2a1f1d64f336",
   "metadata": {},
   "source": [
    "## To understand the theory behind neural networks, I'll first build one using matrix multiplication\n",
    "- After, I'll use the module `nn`\n",
    "\n",
    "## MLP layers:\n",
    "- are called *fully-connected* or *dense*\n",
    "- all units from one layer are connected to all units from the next layer\n",
    "- The input from each layer must be a 1D vector\n",
    "- So, in the MNIST example here, the 28x28 px images will be converted to tensors of 784 units\n",
    "- Thus, the tensor: `(64, 1, 28, 28)` will be converted to: `(64, 784)`\n",
    "- This procedure is called *flattening* ( 2Dtensor -------> 1Dtensor )\n",
    "\n",
    "## At this example, we have the **input**, one **hidden** and the **output** layers:"
   ]
  },
  {
   "cell_type": "code",
   "execution_count": 8,
   "id": "7b934c84-94a4-471d-af21-f240cffba46d",
   "metadata": {},
   "outputs": [],
   "source": [
    "## activation function\n",
    "def sigmoid(x):\n",
    "    return 1/(1 + torch.exp(-x))\n",
    "\n",
    "# Flattening: keeps the first dimension (64), which is the batch_size and transforms the other dimension in one\n",
    "inputs =  images.view(images.shape[0],-1)\n",
    "\n",
    "# defining the weights that connect the input layer to the hidden layer\n",
    "W1 = torch.randn(inputs.shape[1] , 256)         ###  Note that the hidden layer has 256 neurons:\n",
    "\n",
    "# defining the weights that connect the hidden layer to the output layer\n",
    "W2 = torch.randn(256, 10)             ### Note that the output layer has 10 neurons (=classify 10 digits)\n",
    "\n",
    "# defining the bias term: first fot the hidden layer and than for the output layer (same number of neurons)\n",
    "B1 = torch.randn(256)\n",
    "B2 = torch.randn(10)\n",
    "\n",
    "# compute the hidden layer terms passing the activation function:\n",
    "h = sigmoid(torch.mm(inputs,W1) + B1)        ### mm: matrix multiplication\n",
    "\n",
    "# computes the network output:\n",
    "out = torch.mm(h,W2) + B2                "
   ]
  },
  {
   "cell_type": "markdown",
   "id": "f186a267-2806-47eb-82a4-3c6b4badc804",
   "metadata": {},
   "source": [
    "## With those 10 outputs, we want to know which class does the image belong to\n",
    "- Thus, we compute the probability associated with each class\n",
    "- This probability is computed with the function **Softmax**, defined as:\n",
    "\n",
    "$$\n",
    "\\Large \\sigma(x_i) = \\cfrac{e^{x_i}}{\\sum_k^K{e^{x_k}}}\n",
    "$$\n",
    "\n",
    "- This function _squeezes_ the output to values between 0 and 1\n",
    "- Then, the value is normalized \n",
    "- The sum of the probabilities (of each class) is always going to be = 1\n",
    "\n",
    "## Defining the Softmax functiona according to the equation above:\n",
    "- dim = 1 : the sum is going through each class, not through each sample\n",
    "- The softmax returns a tensor with 64x10, that means for each image (from the batch) the class which it belongs to"
   ]
  },
  {
   "cell_type": "code",
   "execution_count": 9,
   "id": "09193ff2-4d28-45ed-bd5e-cb67dc9215ec",
   "metadata": {},
   "outputs": [],
   "source": [
    "def softmax(x):\n",
    "    \"\"\"Defining the Softmax function.\"\"\"\n",
    "    return torch.exp(x)/torch.sum(torch.exp(x),dim = 1).view(-1,1)"
   ]
  },
  {
   "cell_type": "code",
   "execution_count": 10,
   "id": "fb22ff6f-cad3-4cca-9e6a-2412b9157852",
   "metadata": {},
   "outputs": [
    {
     "name": "stdout",
     "output_type": "stream",
     "text": [
      "torch.Size([64, 10])\n"
     ]
    }
   ],
   "source": [
    "# probabilities is the output of the softmax size: (64,10) \n",
    "probabilities = softmax(out)\n",
    "\n",
    "print(probabilities.shape)"
   ]
  },
  {
   "cell_type": "code",
   "execution_count": 11,
   "id": "b56dcc42-1098-4d6a-8670-0049c9e3307a",
   "metadata": {},
   "outputs": [
    {
     "name": "stdout",
     "output_type": "stream",
     "text": [
      "tensor([1.0000, 1.0000, 1.0000, 1.0000, 1.0000, 1.0000, 1.0000, 1.0000, 1.0000,\n",
      "        1.0000, 1.0000, 1.0000, 1.0000, 1.0000, 1.0000, 1.0000, 1.0000, 1.0000,\n",
      "        1.0000, 1.0000, 1.0000, 1.0000, 1.0000, 1.0000, 1.0000, 1.0000, 1.0000,\n",
      "        1.0000, 1.0000, 1.0000, 1.0000, 1.0000, 1.0000, 1.0000, 1.0000, 1.0000,\n",
      "        1.0000, 1.0000, 1.0000, 1.0000, 1.0000, 1.0000, 1.0000, 1.0000, 1.0000,\n",
      "        1.0000, 1.0000, 1.0000, 1.0000, 1.0000, 1.0000, 1.0000, 1.0000, 1.0000,\n",
      "        1.0000, 1.0000, 1.0000, 1.0000, 1.0000, 1.0000, 1.0000, 1.0000, 1.0000,\n",
      "        1.0000])\n"
     ]
    }
   ],
   "source": [
    "# Checking the sum of the all the probabilities for 10 classes == 1\n",
    "print(probabilities.sum(dim=1))"
   ]
  },
  {
   "cell_type": "markdown",
   "id": "42a112b8-1c6b-44a0-9231-78192d23df81",
   "metadata": {},
   "source": [
    "## Building the network with `nn` pytorch\n",
    "- creating a class called `Network` which inherits from `nn.module`\n",
    "- parameters: \n",
    "- `nn.Linear`: Applies a linear transformation to the incoming data:\n",
    "    - self.hidden : input is **28x28pixels** to **256** at the hidden layer\n",
    "        - This module creates the **weights** and **bias** tensors\n",
    "        - These new tensors will be used in `forward` method \n",
    "        - To check these tensors out we can:\n",
    "            - Instantiate the network and pass `net.hidden.weight` and `net.hidden.bias`.\n",
    "    \n",
    "    - self.output : **256** from the hidden to **10** in output\n",
    "    - sigmoid and softmax (again passing dim = 1): defining the activation and output functions  \n",
    "- `Forward` method:\n",
    "    - receives \"x\" and passes the tensor for each operation"
   ]
  },
  {
   "cell_type": "code",
   "execution_count": 12,
   "id": "d65da7b2-2e17-4f67-848e-02c4e0843db4",
   "metadata": {},
   "outputs": [],
   "source": [
    "from torch import nn\n",
    "\n",
    "class Network(nn.Module):\n",
    "    def __init__(self):\n",
    "        super().__init__()\n",
    "        \n",
    "        # linear transformation 784 from input layer to 256 at the hidden layer \n",
    "        self.hidden = nn.Linear(784, 256)\n",
    "        # again, from hidden to output\n",
    "        self.output = nn.Linear(256, 10)\n",
    "        \n",
    "        # Define Sigmoid and Softmax functions\n",
    "        self.sigmoid = nn.Sigmoid()\n",
    "        self.softmax = nn.Softmax(dim=1)\n",
    "        \n",
    "    def forward(self, x):\n",
    "        # the forward method passes the x tensor through each operation\n",
    "        x = self.hidden(x)\n",
    "        x = self.sigmoid(x)\n",
    "        x = self.output(x)\n",
    "        x = self.softmax(x)\n",
    "        return x"
   ]
  },
  {
   "cell_type": "code",
   "execution_count": 13,
   "id": "2f13ab72-cb8d-4649-8e0f-567ccf6617e0",
   "metadata": {},
   "outputs": [
    {
     "data": {
      "text/plain": [
       "Network(\n",
       "  (hidden): Linear(in_features=784, out_features=256, bias=True)\n",
       "  (output): Linear(in_features=256, out_features=10, bias=True)\n",
       "  (sigmoid): Sigmoid()\n",
       "  (softmax): Softmax(dim=1)\n",
       ")"
      ]
     },
     "execution_count": 13,
     "metadata": {},
     "output_type": "execute_result"
    }
   ],
   "source": [
    "# creating the network\n",
    "model = Network()\n",
    "model"
   ]
  },
  {
   "cell_type": "markdown",
   "id": "6319acd8-da07-44a2-afb0-559b74648890",
   "metadata": {},
   "source": [
    "## Creating the Network class in a much easier way"
   ]
  },
  {
   "cell_type": "code",
   "execution_count": 14,
   "id": "3f057921-c45e-498d-8f89-4fc14de49f3c",
   "metadata": {},
   "outputs": [],
   "source": [
    "class Network(nn.Module):\n",
    "    def __init__(self):\n",
    "        super().__init__()\n",
    "        self.hidden = nn.Linear(784, 256)\n",
    "        self.output = nn.Linear(256, 10)\n",
    "        \n",
    "    def forward(self, x):\n",
    "        x = F.sigmoid(self.hidden(x))\n",
    "        x = F.softmax(self.output(x), dim=1)\n",
    "        return x"
   ]
  },
  {
   "cell_type": "markdown",
   "id": "48fb13fa-6c77-4a43-b617-5b3210c58c56",
   "metadata": {},
   "source": [
    "### Since [Helper](https://github.com/udacity/deep-learning-v2-pytorch/blob/master/intro-to-pytorch/helper.py) is not working here, I copied the function `view_classify` from the original file:"
   ]
  },
  {
   "cell_type": "code",
   "execution_count": 15,
   "id": "c3ad4d04-a3c0-451e-bd20-ac3f10b5b9b3",
   "metadata": {},
   "outputs": [],
   "source": [
    "def view_classify(img, ps, version=\"MNIST\"):\n",
    "    ''' Function for viewing an image and it's predicted classes.\n",
    "    '''\n",
    "    ps = ps.data.numpy().squeeze()\n",
    "\n",
    "    fig, (ax1, ax2) = plt.subplots(figsize=(6,9), ncols=2)\n",
    "    ax1.imshow(img.resize_(1, 28, 28).numpy().squeeze())\n",
    "    ax1.axis('off')\n",
    "    ax2.barh(np.arange(10), ps)\n",
    "    ax2.set_aspect(0.1)\n",
    "    ax2.set_yticks(np.arange(10))\n",
    "    if version == \"MNIST\":\n",
    "        ax2.set_yticklabels(np.arange(10))\n",
    "    elif version == \"Fashion\":\n",
    "        ax2.set_yticklabels(['T-shirt/top',\n",
    "                            'Trouser',\n",
    "                            'Pullover',\n",
    "                            'Dress',\n",
    "                            'Coat',\n",
    "                            'Sandal',\n",
    "                            'Shirt',\n",
    "                            'Sneaker',\n",
    "                            'Bag',\n",
    "                            'Ankle Boot'], size='small');\n",
    "    ax2.set_title('Class Probability')\n",
    "    ax2.set_xlim(0, 1.1)\n",
    "\n",
    "    plt.tight_layout()"
   ]
  },
  {
   "cell_type": "markdown",
   "id": "3af2f3b1-c30c-407c-ba72-840423e02421",
   "metadata": {},
   "source": [
    "### Ativation Function\n",
    "\n",
    "- the only requirement for a function to be used as activation function, is to be **non-linear**!\n",
    "- common activation functions:\n",
    "    1)  Tanh (hyperbolic tang)\n",
    "    2)  Sigmoid\n",
    "    3)  ReLU (rectified linear unit)\n",
    "\n",
    "\n",
    "- ReLU is almost always used as activation function for hidden layers"
   ]
  },
  {
   "cell_type": "code",
   "execution_count": 16,
   "id": "164f026f-ac5a-44e4-9134-514e9f274bf3",
   "metadata": {},
   "outputs": [
    {
     "data": {
      "image/png": "[encoded data removed]",
      "text/plain": [
       "<Figure size 432x648 with 2 Axes>"
      ]
     },
     "metadata": {
      "image/png": {
       "height": 235,
       "width": 424
      },
      "needs_background": "light"
     },
     "output_type": "display_data"
    }
   ],
   "source": [
    "# obtaining some images\n",
    "dataiter = iter(trainloader)\n",
    "images, labels = dataiter.next()\n",
    "\n",
    "# Reshaping this images to 1D vector \n",
    "#    New size: (batch_size, color channels, pixels) \n",
    "images.resize_(64, 1, 784)\n",
    "# OR images.resize_(images.shape[0], 1, 784) it takes the batch_size automatically\n",
    "\n",
    "# Pass the forward method \n",
    "img_idx = 2\n",
    "ps = model.forward(images[img_idx,:])\n",
    "\n",
    "img = images[img_idx]\n",
    "# View the image and the barplot of each class probability\n",
    "view_classify(img.view(1, 28, 28), ps)"
   ]
  },
  {
   "cell_type": "markdown",
   "id": "480c6e27-9491-4ec8-adf7-51c88875e49a",
   "metadata": {},
   "source": [
    "## As we can see here, our network doensn't know what digit is this, yet\n",
    "- the network was initialized with random weights\n",
    "\n",
    "\n",
    "### Using `nn.Sequential`\n",
    "- the module [`nn.Sequential`](https://pytorch.org/docs/master/nn.html#torch.nn.Sequential) helps to build simple networks, where the tensor goes through operations, passing from one to another sequentially\n",
    "- We can use this module to build a similar network:"
   ]
  },
  {
   "cell_type": "code",
   "execution_count": 17,
   "id": "79211644-7830-48d3-b889-9333b60364d0",
   "metadata": {},
   "outputs": [
    {
     "name": "stdout",
     "output_type": "stream",
     "text": [
      "Sequential(\n",
      "  (0): Linear(in_features=784, out_features=128, bias=True)\n",
      "  (1): ReLU()\n",
      "  (2): Linear(in_features=128, out_features=64, bias=True)\n",
      "  (3): ReLU()\n",
      "  (4): Linear(in_features=64, out_features=10, bias=True)\n",
      "  (5): Softmax(dim=1)\n",
      ")\n"
     ]
    },
    {
     "data": {
      "image/png": "[encoded data removed]",
      "text/plain": [
       "<Figure size 432x648 with 2 Axes>"
      ]
     },
     "metadata": {
      "image/png": {
       "height": 235,
       "width": 424
      },
      "needs_background": "light"
     },
     "output_type": "display_data"
    }
   ],
   "source": [
    "# Network Hyperparameters \n",
    "input_size = 784   \n",
    "hidden_sizes = [128, 64]\n",
    "output_size = 10\n",
    "\n",
    "# feed-forward network           # input       # output\n",
    "model = nn.Sequential(nn.Linear(input_size, hidden_sizes[0]),\n",
    "                      nn.ReLU(),\n",
    "                      nn.Linear(hidden_sizes[0], hidden_sizes[1]),\n",
    "                      nn.ReLU(),\n",
    "                      nn.Linear(hidden_sizes[1], output_size),\n",
    "                      nn.Softmax(dim=1))\n",
    "print(model)\n",
    "\n",
    "# Forward step from one sample through the network; showing the output\n",
    "images, labels = next(iter(trainloader))\n",
    "images.resize_(images.shape[0], 1, 784)\n",
    "ps = model.forward(images[0,:])\n",
    "view_classify(images[0].view(1, 28, 28), ps)"
   ]
  },
  {
   "cell_type": "markdown",
   "id": "d867f166-5c9d-4110-888b-54fab7292062",
   "metadata": {},
   "source": [
    "### - Our network still doensn't know what digit is this. \n",
    "- That's why we have to train out network and teach it what each digit looks like\n",
    "\n",
    "### MODEL:\n",
    "- input units: 784\n",
    "- hidden layers: 128\n",
    "- Activation function: ReLU\n",
    "- Another hidden layer: 64\n",
    "- Activation function: ReLU\n",
    "- Output layer: 10 (1 class per digit)\n",
    "- Softmax\n"
   ]
  },
  {
   "cell_type": "code",
   "execution_count": 20,
   "id": "3f6215c6-9a12-4294-bf8f-3014bf3ed415",
   "metadata": {},
   "outputs": [
    {
     "name": "stdout",
     "output_type": "stream",
     "text": [
      "First operation:\u001b[31m Linear(in_features=784, out_features=128, bias=True)\n",
      "\u001b[mSecond operation:\u001b[31m ReLU()\n",
      "\u001b[mThird operation:\u001b[31m Linear(in_features=128, out_features=64, bias=True)\n",
      "\u001b[m...\n"
     ]
    }
   ],
   "source": [
    "# loiking at the operations inside the model \n",
    "print('First operation:\\033[31m', model[0])\n",
    "print('\\033[mSecond operation:\\033[31m',model[1])\n",
    "print('\\033[mThird operation:\\033[31m',model[2])\n",
    "print('\\033[m...')"
   ]
  },
  {
   "cell_type": "code",
   "execution_count": 21,
   "id": "2f5761ca-786e-4bcd-b247-1dff79c7d8aa",
   "metadata": {},
   "outputs": [
    {
     "name": "stdout",
     "output_type": "stream",
     "text": [
      "\u001b[mWeights:\u001b[32m Parameter containing:\n",
      "tensor([[ 0.0042,  0.0179,  0.0178,  ...,  0.0252, -0.0075,  0.0122],\n",
      "        [-0.0062,  0.0342, -0.0249,  ..., -0.0201, -0.0004, -0.0347],\n",
      "        [ 0.0160, -0.0116, -0.0262,  ...,  0.0026, -0.0324, -0.0047],\n",
      "        ...,\n",
      "        [-0.0042, -0.0030, -0.0026,  ..., -0.0355,  0.0047,  0.0068],\n",
      "        [ 0.0123, -0.0208,  0.0304,  ..., -0.0073, -0.0245, -0.0112],\n",
      "        [ 0.0282,  0.0037, -0.0350,  ...,  0.0285,  0.0250,  0.0267]],\n",
      "       requires_grad=True)\n"
     ]
    }
   ],
   "source": [
    "print('\\033[mWeights:\\033[32m',model[0].weight)"
   ]
  },
  {
   "cell_type": "code",
   "execution_count": 22,
   "id": "330c7afd-f068-4965-9094-50dbdb69750c",
   "metadata": {},
   "outputs": [
    {
     "name": "stdout",
     "output_type": "stream",
     "text": [
      "\u001b[mBias:\u001b[32m Parameter containing:\n",
      "tensor([ 0.0115, -0.0120, -0.0193, -0.0297, -0.0123,  0.0166, -0.0100, -0.0314,\n",
      "         0.0141, -0.0155,  0.0164, -0.0041, -0.0101,  0.0108, -0.0040, -0.0055,\n",
      "         0.0257, -0.0167, -0.0070,  0.0067, -0.0254,  0.0112, -0.0308, -0.0336,\n",
      "        -0.0333,  0.0054,  0.0288, -0.0352, -0.0134, -0.0240, -0.0112,  0.0258,\n",
      "        -0.0149,  0.0188,  0.0139, -0.0351,  0.0340,  0.0158, -0.0209,  0.0141,\n",
      "        -0.0162, -0.0052,  0.0123, -0.0110, -0.0188, -0.0343, -0.0271, -0.0176,\n",
      "         0.0285,  0.0313, -0.0031,  0.0090,  0.0161, -0.0038, -0.0099, -0.0097,\n",
      "         0.0133,  0.0051,  0.0169, -0.0099,  0.0140,  0.0320, -0.0226, -0.0202,\n",
      "         0.0232, -0.0168,  0.0062, -0.0095, -0.0327,  0.0285,  0.0224,  0.0212,\n",
      "         0.0289,  0.0329,  0.0121, -0.0137, -0.0133,  0.0280,  0.0252, -0.0345,\n",
      "        -0.0165,  0.0018, -0.0216,  0.0163, -0.0074,  0.0352, -0.0267, -0.0062,\n",
      "        -0.0116, -0.0204,  0.0213, -0.0344, -0.0021, -0.0139,  0.0054, -0.0052,\n",
      "         0.0135,  0.0173, -0.0294,  0.0027,  0.0285,  0.0177, -0.0112, -0.0317,\n",
      "        -0.0152, -0.0093, -0.0305,  0.0077,  0.0235, -0.0069, -0.0258,  0.0024,\n",
      "         0.0352, -0.0171, -0.0142, -0.0318,  0.0189,  0.0019, -0.0144, -0.0075,\n",
      "         0.0045,  0.0061, -0.0351,  0.0170,  0.0172,  0.0244, -0.0070, -0.0022],\n",
      "       requires_grad=True)\n"
     ]
    }
   ],
   "source": [
    "print('\\033[mBias:\\033[32m',model[0].bias)"
   ]
  },
  {
   "cell_type": "markdown",
   "id": "9687d585-eb32-48e4-8236-084539d51909",
   "metadata": {},
   "source": [
    "## Using `OrderedDict` to organize the sequential operations\n",
    "- we can individually name each layer"
   ]
  },
  {
   "cell_type": "code",
   "execution_count": 23,
   "id": "d29c4b73-fd0c-478f-8c64-6f317e9c4120",
   "metadata": {},
   "outputs": [
    {
     "data": {
      "text/plain": [
       "Sequential(\n",
       "  (fc1): Linear(in_features=784, out_features=128, bias=True)\n",
       "  (relu1): ReLU()\n",
       "  (fc2): Linear(in_features=128, out_features=64, bias=True)\n",
       "  (relu2): ReLU()\n",
       "  (output): Linear(in_features=64, out_features=10, bias=True)\n",
       "  (softmax): Softmax(dim=1)\n",
       ")"
      ]
     },
     "execution_count": 23,
     "metadata": {},
     "output_type": "execute_result"
    }
   ],
   "source": [
    "model = nn.Sequential(OrderedDict([\n",
    "                      ('fc1', nn.Linear(input_size, hidden_sizes[0])),\n",
    "                      ('relu1', nn.ReLU()),\n",
    "                      ('fc2', nn.Linear(hidden_sizes[0], hidden_sizes[1])),\n",
    "                      ('relu2', nn.ReLU()),\n",
    "                      ('output', nn.Linear(hidden_sizes[1], output_size)),\n",
    "                      ('softmax', nn.Softmax(dim=1))]))\n",
    "model"
   ]
  },
  {
   "cell_type": "code",
   "execution_count": 24,
   "id": "8794b9d4-2c57-4540-b817-de912db21535",
   "metadata": {},
   "outputs": [
    {
     "name": "stdout",
     "output_type": "stream",
     "text": [
      "Linear(in_features=784, out_features=128, bias=True)\n",
      "Linear(in_features=784, out_features=128, bias=True)\n"
     ]
    }
   ],
   "source": [
    "print(model[0])\n",
    "print(model.fc1)"
   ]
  },
  {
   "cell_type": "code",
   "execution_count": 25,
   "id": "8c8bf650-dda9-467a-a50c-94d3bf362c62",
   "metadata": {},
   "outputs": [
    {
     "name": "stdout",
     "output_type": "stream",
     "text": [
      "Linear(in_features=64, out_features=10, bias=True)\n",
      "Linear(in_features=64, out_features=10, bias=True)\n"
     ]
    }
   ],
   "source": [
    "print(model[4])\n",
    "print(model.output)"
   ]
  },
  {
   "cell_type": "markdown",
   "id": "f0769153-7f31-4f67-a5cd-64d8ea933330",
   "metadata": {},
   "source": [
    "# Training the Neural Network\n",
    "- **loss function:** identify how our network is performing \n",
    "    - Mean squared error (MSE):\n",
    "\n",
    "$$\n",
    "\\large \\ell = \\frac{1}{2n}\\sum_i^n{\\left(y_i - \\hat{y}_i\\right)^2}\n",
    "$$\n",
    "\n",
    "\n",
    ">   $n$: number of training samples\n",
    ">\n",
    ">   $y_i$ real labels\n",
    ">\n",
    ">   $\\hat{y}_i$ estimated labels\n",
    "\n",
    "- The network make some adjustments in the weights to minimize the Loss\n",
    "- In order to find MIN(loss), we use _Gradient Descent_ \n",
    "- The gradient is the derivative vector "
   ]
  },
  {
   "cell_type": "markdown",
   "id": "c66cca08-fd49-44ed-88f1-90e7dbd3d3de",
   "metadata": {},
   "source": [
    "## Backpropagation\n",
    "- It is easier to implement the gradient descent in One-layer networks\n",
    "- To deeper networks, it's more complicated; With that in mind, researchers developed the step **Backpropagation**\n",
    "- we need to choose the learning rate ($\\alpha$) so that the update of the weights, at each step, is small enough for the method to iteratively reach the minimum loss value.\n",
    "\n",
    "## Loss function in PyTorch\n",
    "- using `nn` module, we can find a lot of loss functions\n",
    "- one example is the `nn.CrossEntropyLoss`\n",
    "- this function is usually used as `criterion`\n",
    "- multi-class classification (such as MNIST), we use Softmax to precit each class probability\n",
    "- to calculate the error itself, we must define some creterions and define the correct labels to out network\n",
    "\n",
    "Note that:\n",
    "\n",
    "> the criterion matches `nn.LogSoftmax()` and `nn.NLLLoss()` at a single class.\n",
    ">\n",
    "> The output must be a specific format (logit).\n",
    "\n",
    "Isso significa que precisamos passar diretamente a saída da rede para computar o _loss_, em vez de fornecer a saída após passar pela função Softmax. Essa saída direta (antes da Softmax) é chamada *logit* ou *scores*. Usamos os logits porque as probabilidades fornecidas pela Softmax ficam muito próximas de 0 ou 1. ([leia mais aqui](https://docs.python.org/3/tutorial/floatingpoint.html)). Ou seja, é melhor evitar calculos usando probabilidades, uma vez que é mais comum usar o log das probabilidades."
   ]
  },
  {
   "cell_type": "code",
   "execution_count": 26,
   "id": "a22c6912-7137-407a-b5b5-acfcdaaa9b5f",
   "metadata": {},
   "outputs": [
    {
     "data": {
      "text/plain": [
       "<torch.utils.data.dataloader.DataLoader at 0x23b1ad45c70>"
      ]
     },
     "execution_count": 26,
     "metadata": {},
     "output_type": "execute_result"
    }
   ],
   "source": [
    "trainloader"
   ]
  },
  {
   "cell_type": "code",
   "execution_count": 27,
   "id": "a177d2f0-1c3b-47ef-8dbb-e69507c2fbc6",
   "metadata": {},
   "outputs": [
    {
     "name": "stdout",
     "output_type": "stream",
     "text": [
      "tensor(2.3035, grad_fn=<NllLossBackward>)\n"
     ]
    }
   ],
   "source": [
    "# feed-forward network\n",
    "model = nn.Sequential(nn.Linear(784, 128),\n",
    "                      nn.ReLU(),\n",
    "                      nn.Linear(128, 64),\n",
    "                      nn.ReLU(),\n",
    "                      nn.Linear(64, 10))\n",
    "\n",
    "# Loss function\n",
    "criterion = nn.CrossEntropyLoss()\n",
    "\n",
    "# iterating through the images and labels\n",
    "images, labels = next(iter(trainloader))\n",
    "\n",
    "# flattening the image (2D to 1D)\n",
    "images = images.view(images.shape[0], -1)\n",
    "\n",
    "# Forward pass\n",
    "logits = model(images)\n",
    "\n",
    "# Calculating the error for logits and labels\n",
    "loss = criterion(logits, labels)\n",
    "\n",
    "print(loss)"
   ]
  },
  {
   "cell_type": "markdown",
   "id": "e54e3242-63be-4246-8eb0-e3416cd360e0",
   "metadata": {},
   "source": [
    "## Output function: `nn.LogSoftmax` or `F.log_softmax` \n",
    "- Then, we obtain the real probabilities using the exponential `torch.exp(output)`\n",
    "- With log-softmax output, we can compute the _negative log likelihood_, `nn.NLLLoss` , which is equivalet to the output of `nn.CrossEntropyLoss`. \n",
    "\n",
    ">**Exercício:** build a model that returns the log-softmax as output and calculate the loss using _negative log likelihood_. \n",
    ">\n",
    "> Note that for `nn.LogSoftmax` and `F.log_softmax` you need to set the parameter `dim` correctly. \n",
    "> \n",
    "> * `dim=0` computes softmax by rows, add +1 in the columns\n",
    ">\n",
    "> * `dim=1` computes softmax by columns, add +1 in the rows\n",
    "> \n",
    "> Think about the output and choose the correct `dim`"
   ]
  },
  {
   "cell_type": "code",
   "execution_count": 28,
   "id": "cf64ac4a-3b42-4e55-a590-e187bd55b007",
   "metadata": {},
   "outputs": [
    {
     "name": "stdout",
     "output_type": "stream",
     "text": [
      "tensor(2.3038, grad_fn=<NllLossBackward>)\n"
     ]
    }
   ],
   "source": [
    "# feed-forward network with the output log-softmax\n",
    "model = nn.Sequential(nn.Linear(input_size, hidden_sizes[0]), \n",
    "                      (nn.ReLU()), \n",
    "                      (nn.Linear(hidden_sizes[0], hidden_sizes[1])), \n",
    "                      (nn.ReLU()),\n",
    "                      (nn.Linear(hidden_sizes[1], output_size)),\n",
    "                      (nn.LogSoftmax(dim=1)))\n",
    "\n",
    "# defining the loss function negative log likelihood\n",
    "criterion = nn.NLLLoss()\n",
    "\n",
    "# getting the images and labels from trainloader\n",
    "images, labels = next(iter(trainloader))\n",
    "# flattening the image\n",
    "images = images.view(images.shape[0], -1)\n",
    "\n",
    "# Forward pass, getting the logps\n",
    "logps = model(images)\n",
    "\n",
    "# calculating the loss\n",
    "loss = criterion(logps, labels)\n",
    "\n",
    "print(loss)"
   ]
  },
  {
   "cell_type": "markdown",
   "id": "c0df9abd-fbf6-4d53-87a2-a490e5114ee8",
   "metadata": {
    "tags": []
   },
   "source": [
    "## Autograd\n",
    "\n",
    "- Now, let's use the _loss_ in backpropagation\n",
    "- PyTorch has the module `autograd` that computes the gradientes\n",
    "    - `autograd` stores the operations performed on each tensor\n",
    "    - then passes it back calculating the gradients\n",
    "    - Just to be sure that pytorch is actually sroting the operations, it's important to set `requires_grad = True` in the tensor\n",
    "    - To do it so, we can call `requires_grad` or at any time write `x.requires_grad_(True)`\n",
    "\n",
    "- It's also possible to deactivate the gradients calling `torch.no_grad()`:\n",
    "- Also, we can turn it ON of OFF the storage of all gradients at the same time using `torch.set_grad_enabled(True|False)`.\n",
    "\n",
    "- The gradients are related to a variable like `z`, with `z.backward()`\n",
    "\n",
    "### Creating rando  numbers from a normal distribution with mean = `0` and variance = `1`:"
   ]
  },
  {
   "cell_type": "code",
   "execution_count": 29,
   "id": "38cffce9-56e8-4078-ab48-8953f61312d1",
   "metadata": {},
   "outputs": [
    {
     "name": "stdout",
     "output_type": "stream",
     "text": [
      "tensor([[ 1.3246,  0.6318],\n",
      "        [-0.9723, -0.1335]], requires_grad=True)\n"
     ]
    }
   ],
   "source": [
    "x = torch.randn(2,2, requires_grad=True)\n",
    "print(x)"
   ]
  },
  {
   "cell_type": "code",
   "execution_count": 30,
   "id": "7f973170-a9ae-475b-9ba9-574b14068b1d",
   "metadata": {},
   "outputs": [
    {
     "name": "stdout",
     "output_type": "stream",
     "text": [
      "tensor([[1.7547, 0.3992],\n",
      "        [0.9454, 0.0178]], grad_fn=<PowBackward0>)\n"
     ]
    }
   ],
   "source": [
    "y = x**2\n",
    "print(y)"
   ]
  },
  {
   "cell_type": "markdown",
   "id": "14f44aee-9187-48cc-9a6f-d63b72a31511",
   "metadata": {},
   "source": [
    "- PowBackward0: it says that a squared operation created `y`\n",
    "\n",
    "### The autograd module keeps track of these operations\n",
    "- and knows how to compute the gradient of each one\n",
    "- thus, it can compute the gradient for chain operations\n",
    "\n",
    "### Computing the mean:"
   ]
  },
  {
   "cell_type": "code",
   "execution_count": 31,
   "id": "46da23d5-975d-43e0-976f-3e9ec07c3f17",
   "metadata": {},
   "outputs": [
    {
     "name": "stdout",
     "output_type": "stream",
     "text": [
      "tensor(0.7793, grad_fn=<MeanBackward0>)\n"
     ]
    }
   ],
   "source": [
    "z = y.mean()\n",
    "print(z)"
   ]
  },
  {
   "cell_type": "code",
   "execution_count": 32,
   "id": "dd7d1f97-c69a-4c08-9737-9baf11ab01be",
   "metadata": {},
   "outputs": [
    {
     "name": "stdout",
     "output_type": "stream",
     "text": [
      "None\n",
      "None\n"
     ]
    },
    {
     "name": "stderr",
     "output_type": "stream",
     "text": [
      "<ipython-input-32-cd4c40187c02>:2: UserWarning: The .grad attribute of a Tensor that is not a leaf Tensor is being accessed. Its .grad attribute won't be populated during autograd.backward(). If you indeed want the gradient for a non-leaf Tensor, use .retain_grad() on the non-leaf Tensor. If you access the non-leaf Tensor by mistake, make sure you access the leaf Tensor instead. See github.com/pytorch/pytorch/pull/30531 for more information.\n",
      "  print(y.grad)\n"
     ]
    }
   ],
   "source": [
    "print(x.grad)\n",
    "print(y.grad)"
   ]
  },
  {
   "cell_type": "markdown",
   "id": "5e9d186a-0031-4180-b1ad-3c32a37a58d8",
   "metadata": {},
   "source": [
    "### The proper way of computing the gradient is by executing the `.backward` in `z`\n",
    "- This will compute the gradient of `z` related to `x`, like:\n",
    "\n",
    "$$\n",
    "\\frac{\\partial z}{\\partial x} = \\frac{\\partial}{\\partial x}\\left[\\frac{1}{n}\\sum_i^n x_i^2\\right] = \\frac{x}{2}\n",
    "$$"
   ]
  },
  {
   "cell_type": "code",
   "execution_count": 33,
   "id": "877f404e-b6a9-4f38-8a75-d5336cf68ff6",
   "metadata": {},
   "outputs": [
    {
     "name": "stdout",
     "output_type": "stream",
     "text": [
      "\u001b[mGradient:\u001b[31m tensor([[ 0.6623,  0.3159],\n",
      "        [-0.4862, -0.0667]])\n",
      "\u001b[mx / 2:\u001b[31m tensor([[ 0.6623,  0.3159],\n",
      "        [-0.4862, -0.0667]], grad_fn=<DivBackward0>)\n"
     ]
    }
   ],
   "source": [
    "z.backward()\n",
    "print('\\033[mGradient:\\033[31m', x.grad)\n",
    "print('\\033[mx / 2:\\033[31m', x/2)"
   ]
  },
  {
   "cell_type": "markdown",
   "id": "f6821d71-5b4a-45c8-8a1e-362de7829fcc",
   "metadata": {},
   "source": [
    "## Merging Loss and Autograd \n",
    "- When creating a network with pytorch, every parameter is initialized with `requires_grad = True`\n",
    "- That means that when we call `loss.backward()`, the gradients of each parameter are calculated\n",
    "- These gradients are used to update the weights during gradient descent\n",
    " \n",
    "### Using _backward pass_:"
   ]
  },
  {
   "cell_type": "code",
   "execution_count": 34,
   "id": "8e19aa0d-b009-425e-a950-7f04aa886722",
   "metadata": {},
   "outputs": [],
   "source": [
    "# feed-forward network\n",
    "model = nn.Sequential(nn.Linear(784, 128),\n",
    "                      nn.ReLU(),\n",
    "                      nn.Linear(128, 64),\n",
    "                      nn.ReLU(),\n",
    "                      nn.Linear(64, 10),\n",
    "                      nn.LogSoftmax(dim=1))\n",
    "\n",
    "criterion = nn.NLLLoss()\n",
    "images, labels = next(iter(trainloader))\n",
    "images = images.view(images.shape[0], -1)\n",
    "\n",
    "logits = model(images)\n",
    "loss = criterion(logits, labels)"
   ]
  },
  {
   "cell_type": "code",
   "execution_count": 35,
   "id": "ecb694c9-bb51-4c9c-b030-7aba9d032f79",
   "metadata": {},
   "outputs": [
    {
     "name": "stdout",
     "output_type": "stream",
     "text": [
      "Before backward pass: \n",
      " None\n",
      "After backward pass: \n",
      " tensor([[-0.0023, -0.0023, -0.0023,  ..., -0.0023, -0.0023, -0.0023],\n",
      "        [ 0.0034,  0.0034,  0.0034,  ...,  0.0034,  0.0034,  0.0034],\n",
      "        [-0.0018, -0.0018, -0.0018,  ..., -0.0018, -0.0018, -0.0018],\n",
      "        ...,\n",
      "        [-0.0011, -0.0011, -0.0011,  ..., -0.0011, -0.0011, -0.0011],\n",
      "        [ 0.0009,  0.0009,  0.0009,  ...,  0.0009,  0.0009,  0.0009],\n",
      "        [-0.0063, -0.0063, -0.0063,  ..., -0.0063, -0.0063, -0.0063]])\n"
     ]
    }
   ],
   "source": [
    "print('Before backward pass: \\n', model[0].weight.grad)\n",
    "\n",
    "loss.backward()\n",
    "\n",
    "print('After backward pass: \\n', model[0].weight.grad)"
   ]
  },
  {
   "cell_type": "markdown",
   "id": "607d3fd5-d818-4d63-a355-af7458b1772f",
   "metadata": {},
   "source": [
    "## Training the Neural Network!\n",
    "- The last key here, is to select the optimizer that will be uldating the weights with gradient\n",
    "- There are some in the [`optim` package](https://pytorch.org/docs/stable/optim.html). \n",
    "- Let's try using the stochastic gradient descent (SGD) with `optim.SGD`"
   ]
  },
  {
   "cell_type": "code",
   "execution_count": 36,
   "id": "5aa22337-f1d8-46b8-9628-5675eaea8057",
   "metadata": {},
   "outputs": [],
   "source": [
    "# Optimizers require the parameters to optimize and a learning rate\n",
    "optimizer = optim.SGD(model.parameters(), lr=0.01)"
   ]
  },
  {
   "cell_type": "markdown",
   "id": "103cef6c-74da-450f-8647-9a2077bec083",
   "metadata": {},
   "source": [
    "### Training:\n",
    "\n",
    "* Forward \n",
    "* Use the output to compute the error (_loss_)\n",
    "* Backward with `loss.backward()` to calculate the gradients\n",
    "* Use the optimizer to update the weights\n",
    "\n",
    "> Let's train the network and print the changes in the gradients;\n",
    ">\n",
    "> `optimizer.zero_grad()` at each iteration (because they accumulate at each backward);\n",
    ">\n",
    "> Knowing that, we must zero the grads at each iteration to avoid further accumulation."
   ]
  },
  {
   "cell_type": "code",
   "execution_count": 37,
   "id": "e270a042-ad3f-4d03-9e8a-10f56a3b017b",
   "metadata": {},
   "outputs": [
    {
     "name": "stdout",
     "output_type": "stream",
     "text": [
      "\u001b[mInitial weights:\u001b[31m Parameter containing:\n",
      "tensor([[-0.0099, -0.0259, -0.0350,  ...,  0.0052,  0.0235,  0.0288],\n",
      "        [ 0.0228,  0.0031,  0.0300,  ..., -0.0120, -0.0298,  0.0330],\n",
      "        [-0.0099, -0.0341, -0.0133,  ..., -0.0290, -0.0070, -0.0302],\n",
      "        ...,\n",
      "        [ 0.0299, -0.0346,  0.0083,  ..., -0.0146, -0.0193,  0.0106],\n",
      "        [-0.0332,  0.0318,  0.0049,  ..., -0.0305, -0.0087, -0.0331],\n",
      "        [ 0.0146,  0.0258,  0.0168,  ..., -0.0334,  0.0040,  0.0342]],\n",
      "       requires_grad=True)\n",
      "\u001b[mGradient:\u001b[31m tensor([[ 0.0032,  0.0032,  0.0032,  ...,  0.0032,  0.0032,  0.0032],\n",
      "        [-0.0042, -0.0042, -0.0042,  ..., -0.0042, -0.0042, -0.0042],\n",
      "        [-0.0002, -0.0002, -0.0002,  ..., -0.0002, -0.0002, -0.0002],\n",
      "        ...,\n",
      "        [ 0.0010,  0.0010,  0.0010,  ...,  0.0010,  0.0010,  0.0010],\n",
      "        [-0.0023, -0.0023, -0.0023,  ..., -0.0023, -0.0023, -0.0023],\n",
      "        [ 0.0020,  0.0020,  0.0020,  ...,  0.0020,  0.0020,  0.0020]])\n"
     ]
    }
   ],
   "source": [
    "print('\\033[mInitial weights:\\033[31m', model[0].weight)\n",
    "\n",
    "images, labels = next(iter(trainloader))\n",
    "images.resize_(64, 784)\n",
    "\n",
    "# zero the accumulated grads\n",
    "optimizer.zero_grad()\n",
    "\n",
    "# Forward, backward, and update the weights\n",
    "output = model(images)\n",
    "loss = criterion(output, labels)\n",
    "loss.backward()\n",
    "print('\\033[mGradient:\\033[31m', model[0].weight.grad)"
   ]
  },
  {
   "cell_type": "code",
   "execution_count": 38,
   "id": "a1295b29-e36d-491a-ac0b-f0b660fbee9d",
   "metadata": {},
   "outputs": [
    {
     "name": "stdout",
     "output_type": "stream",
     "text": [
      "\u001b[mUpdated weights:\u001b[31m Parameter containing:\n",
      "tensor([[-0.0099, -0.0259, -0.0350,  ...,  0.0051,  0.0234,  0.0288],\n",
      "        [ 0.0228,  0.0032,  0.0300,  ..., -0.0120, -0.0298,  0.0331],\n",
      "        [-0.0099, -0.0341, -0.0133,  ..., -0.0290, -0.0070, -0.0302],\n",
      "        ...,\n",
      "        [ 0.0299, -0.0347,  0.0083,  ..., -0.0146, -0.0193,  0.0106],\n",
      "        [-0.0332,  0.0318,  0.0050,  ..., -0.0305, -0.0087, -0.0331],\n",
      "        [ 0.0146,  0.0257,  0.0168,  ..., -0.0334,  0.0040,  0.0341]],\n",
      "       requires_grad=True)\n"
     ]
    }
   ],
   "source": [
    "# Step that update the weights\n",
    "optimizer.step()\n",
    "print('\\033[mUpdated weights:\\033[31m', model[0].weight)"
   ]
  },
  {
   "cell_type": "markdown",
   "id": "4645ff9a-a837-4786-aaac-204627a43f3c",
   "metadata": {},
   "source": [
    "## Training: now it's for real!!!\n",
    "\n",
    "- EPOCH: is when we pass through all samples\n",
    "- Let's iterate through `trainloader` to use out training batches\n",
    "- For each batch the error is calculated and the backpropagation step update the weights\n"
   ]
  },
  {
   "cell_type": "code",
   "execution_count": 39,
   "id": "0bfc0329-5910-44a2-8abf-1f5f37d422c2",
   "metadata": {},
   "outputs": [
    {
     "name": "stdout",
     "output_type": "stream",
     "text": [
      "Training loss: 1.009742727983735\n",
      "Training loss: 0.38593429581983\n",
      "Training loss: 0.32734962540076995\n",
      "Training loss: 0.29461358466159815\n",
      "Training loss: 0.26883152753178247\n"
     ]
    }
   ],
   "source": [
    "## Sua solução vai aqui\n",
    "# defining the model\n",
    "model = nn.Sequential(nn.Linear(784, 128),\n",
    "                      nn.ReLU(),\n",
    "                      nn.Linear(128, 64),\n",
    "                      nn.ReLU(),\n",
    "                      nn.Linear(64, 10),\n",
    "                      nn.LogSoftmax(dim=1))\n",
    "# Criterion\n",
    "criterion = nn.NLLLoss()\n",
    "# Optimizers require the parameters to optimize and a learning rate\n",
    "optimizer = optim.SGD(model.parameters(), lr=0.01)\n",
    "\n",
    "\n",
    "# TODO: defina o modelo, o critério e o atualizador\n",
    "\n",
    "epochs = 5\n",
    "for e in range(epochs):\n",
    "    running_loss = 0\n",
    "    \n",
    "    for images, labels in trainloader:\n",
    "        # Flatten MNIST images into a 784 long vector\n",
    "        images = images.view(images.shape[0], -1)\n",
    "     \n",
    "        # zero the accumulated grads\n",
    "        optimizer.zero_grad()\n",
    "\n",
    "        # Forward, backward, and update the weights\n",
    "        output = model(images)\n",
    "        loss = criterion(output, labels)\n",
    "        loss.backward()\n",
    "        optimizer.step()\n",
    "        \n",
    "        running_loss += loss.item()\n",
    "    else:\n",
    "        print(f\"Training loss: {running_loss/len(trainloader)}\")"
   ]
  },
  {
   "cell_type": "code",
   "execution_count": 40,
   "id": "ad2cb91b-f4b1-4a21-9ca6-0512bf0ad245",
   "metadata": {},
   "outputs": [
    {
     "data": {
      "image/png": "[encoded data removed]",
      "text/plain": [
       "<Figure size 432x648 with 2 Axes>"
      ]
     },
     "metadata": {
      "image/png": {
       "height": 235,
       "width": 424
      },
      "needs_background": "light"
     },
     "output_type": "display_data"
    }
   ],
   "source": [
    "images, labels = next(iter(trainloader))\n",
    "\n",
    "img = images[0].view(1, 784)\n",
    "# gradient OFF\n",
    "with torch.no_grad():\n",
    "    logps = model(img)\n",
    "\n",
    "# We need the exp to see the real predictions\n",
    "ps = torch.exp(logps)\n",
    "view_classify(img.view(1, 28, 28), ps)"
   ]
  },
  {
   "cell_type": "markdown",
   "id": "b759e9fb-0eac-4ad1-9eef-67cb77f08af1",
   "metadata": {},
   "source": [
    "## GREAT! Our model works :)\n",
    "\n",
    "# Creating a Neutal Network model frmo scratch\n",
    "### 1) NeuralNetwork Class \n",
    "- inherits from the `nn.Module`\n",
    "- `__init__` defines the layers: input, 2 hidden and output\n",
    "- method `forward` receives x, flatten the tensor, passes the activation function (ReLU) for each layer, and the output layer is computed with `log_softmax`, passing the columns (dim=1).\n",
    "### 2) NeuralNetwork_reg Class\n",
    "- `__init__` defines the layers: input, 2 hidden and output; and defines the regularization `dropout` with probability of 0.2\n",
    "- method `forward` receives x, flatten the tensor, passes the activation function (ReLU) inside the `dropout` regularization function (which will deactivate 20% of the neurons at each iteration, to help balance the weights properlly) for each layer, and the output layer is computed as before, passing the `log_softmax` (dim=1).\n",
    "\n",
    "## Creating a function `model_pipeline` to evaluate different scenarios\n",
    "1) transformations: \n",
    "    1) `ToTensor()` \n",
    "    \n",
    "    2) `RandomHorizontalFlip`\n",
    "    \n",
    "     ![RandomHorizontalFlip](https://pytorch.org/vision/stable/_images/sphx_glr_plot_transforms_020.png)\n",
    "     \n",
    "    3) `RandomRotation` \n",
    "    \n",
    "     ![RandomRotation](https://pytorch.org/vision/stable/_images/sphx_glr_plot_transforms_009.png)\n",
    "     \n",
    "    4) `RandomPerspective`\n",
    "    \n",
    "     ![RandomPerspective](https://pytorch.org/vision/stable/_images/sphx_glr_plot_transforms_008.png)"
   ]
  },
  {
   "cell_type": "code",
   "execution_count": 57,
   "id": "ab43bf5c-0703-48dc-8372-49295cb26c42",
   "metadata": {},
   "outputs": [],
   "source": [
    "# NeuralNetwork class Inherit from nn.Module\n",
    "## --> without regularization\n",
    "\n",
    "class NeuralNetwork(nn.Module):\n",
    "    def __init__(self): \n",
    "        super().__init__()\n",
    "        # defining the layers and neurons\n",
    "        self.fc1 = nn.Linear(784, 256)\n",
    "        self.fc2 = nn.Linear(256, 128)\n",
    "        self.fc3 = nn.Linear(128, 64)\n",
    "        self.fc4 = nn.Linear(64, 10)\n",
    "        \n",
    "    def forward(self, x):\n",
    "        # flattening the tensor\n",
    "        x = x.view(x.shape[0], -1)\n",
    "        # forward step\n",
    "        x = F.relu(self.fc1(x))\n",
    "        x = F.relu(self.fc2(x))\n",
    "        x = F.relu(self.fc3(x))\n",
    "        x = F.log_softmax(self.fc4(x), dim=1)\n",
    "        \n",
    "        return x"
   ]
  },
  {
   "cell_type": "code",
   "execution_count": 58,
   "id": "e4810312-3337-4e33-8b58-4f7c8eb91c56",
   "metadata": {},
   "outputs": [],
   "source": [
    "## ---> With regularization: Dropout\n",
    "\n",
    "class NeuralNetwork_reg(nn.Module):\n",
    "    def __init__(self): \n",
    "        super().__init__()\n",
    "        self.fc1 = nn.Linear(784, 256)\n",
    "        self.fc2 = nn.Linear(256, 128)\n",
    "        self.fc3 = nn.Linear(128, 64)\n",
    "        self.fc4 = nn.Linear(64, 10)\n",
    "        self.dropout = nn.Dropout(p=0.2)\n",
    "        \n",
    "    def forward(self, x):\n",
    "        # flattening the tensor\n",
    "        x = x.view(x.shape[0], -1)\n",
    "        # forward step\n",
    "        x = self.dropout(F.relu(self.fc1(x)))\n",
    "        x = self.dropout(F.relu(self.fc2(x)))\n",
    "        x = self.dropout(F.relu(self.fc3(x)))\n",
    "        x = F.log_softmax(self.fc4(x), dim=1)\n",
    "        \n",
    "        return x"
   ]
  },
  {
   "cell_type": "code",
   "execution_count": 59,
   "id": "741df475-ea51-49cd-a819-bc13d34fad45",
   "metadata": {},
   "outputs": [],
   "source": [
    "def model_pipeline(train_dataset, test_dataset,                   # Mandatory parameters \n",
    "                   horizontal_flip=False, flip_percentage=0.5,              # transformations\n",
    "                   random_rotation=False, rotation_degree=20, \n",
    "                   random_perspective=False, distortion_scale=0.6, \n",
    "                   validation_size=0.2, reg=False, loss = 'cross', optimizer = 'adam',   # model parameters\n",
    "                   batch_size=200, epochs = 5, lr_rate=0.002):                            \n",
    "    \n",
    "    \"\"\"This function builds and trains a neural network model.\n",
    "    ---> Transforms:\n",
    "        1) horizontal_flip: True or False (default = False).\n",
    "        - flip_percentage: probability of the image being flipped (default = 0.5).\n",
    "        2) random_rotation: True or False (default = False).\n",
    "        - rotation_degree: degree that the image will rotate (default = 20).\n",
    "        3) random_perspective: True or False (default = False).\n",
    "        - distortion_scale: argument to control the degree of distortion and ranges from 0 to 1 (default = 0.6).\n",
    "        4) validation_size: size of the train samples that will be used \n",
    "           to validate the model (default = 0.2).\n",
    "   ---> Model, Loss and Optimizer:\n",
    "        5) reg: True or False (default = False)| If the model will be defined with or without regularization.\n",
    "        6) Loss functions: passed as a string. Options: \"cross\", \"poiss\", \"gauss\", \"nll\".\n",
    "        7) Optimizer functions: passed as a string. Options: \"adam\", \"adamax\", \"asgd\".\n",
    "   ---> Other parameters:\n",
    "        8) batch_size: number of batches to pass into the dataloader (default = 200).\n",
    "        9) epochs: defining the number of epochs (default = 5).\n",
    "        10) lr_rate: the rate that the SGD will learn and reduce the loss function (default = 0.002).\n",
    "        \"\"\" \n",
    "    # creating transform pipeline\n",
    "    if horizontal_flip:\n",
    "        transformations = transforms.Compose([transforms.RandomHorizontalFlip(flip_percentage)])\n",
    "    if random_rotation:\n",
    "        transformations = transforms.Compose([transforms.RandomRotation(rotation_degree)])\n",
    "    if random_perspective:\n",
    "        transformations = transforms.compose([transforms.RandomPerspective(distortion_scale)])\n",
    "\n",
    "    transformations = transforms.Compose([transforms.ToTensor()])\n",
    "\n",
    "    # Get the size of our train set\n",
    "    training_size = len(train_dataset)\n",
    "\n",
    "    # then, we create a list of indices from 0 to training size range\n",
    "    indices = list(range(training_size))\n",
    "\n",
    "    # Shuffling the indices\n",
    "    np.random.shuffle(indices)\n",
    "\n",
    "    # The shuffled index will split the validation and training datasets using numpy \"floor\" method:\n",
    "    index_split = int(np.floor(training_size * validation_size))  # floor of the scalar `x` is the largest integer\n",
    "\n",
    "    # Then, we get the training and validation set indices passing the index split \n",
    "    validation_indices, training_indices = indices[:index_split], indices[index_split:]\n",
    "\n",
    "    # Using SubsetRandomSampler we sample elements randomly from a list of indices\n",
    "    training_sample = SubsetRandomSampler(training_indices)\n",
    "    validation_sample = SubsetRandomSampler(validation_indices)\n",
    "   \n",
    "    # creating the data loader, passing the sampler created above\n",
    "    train_loader = torch.utils.data.DataLoader(train_dataset, batch_size=batch_size, sampler=training_sample)\n",
    "    valid_loader = torch.utils.data.DataLoader(train_dataset, batch_size=batch_size, sampler=validation_sample)\n",
    "    test_loader = torch.utils.data.DataLoader(test_dataset, batch_size=batch_size)\n",
    "    \n",
    "    # defining the model with or without regularization\n",
    "    if reg:       # if True the model will be instantiated with regularization (dropout)\n",
    "        model = NeuralNetwork_reg()\n",
    "    elif reg == False:         # if False, the model won't have regularization\n",
    "        model = NeuralNetwork()\n",
    "        \n",
    "    # LOSS\n",
    "    if loss == 'cross':\n",
    "        criterion = nn.CrossEntropyLoss() \n",
    "    elif loss == 'poiss':\n",
    "        criterion = nn.PoissonNLLLoss() \n",
    "    elif loss == 'gauss':\n",
    "        criterion = nn.GaussianNLLLoss()\n",
    "    elif loss == 'nll':\n",
    "        criterion = nn.NLLLoss()\n",
    "    \n",
    "    # OPTIMIZER\n",
    "    if optimizer == 'adam':    \n",
    "        optimizer = optim.Adam(model.parameters(), lr=lr_rate)\n",
    "    if optimizer == 'adamax': \n",
    "        optimizer = optim.Adamax(model.parameters(), lr=lr_rate)\n",
    "    if optimizer == 'asgd': \n",
    "        optimizer = optim.ASGD(model.parameters(), lr=lr_rate)\n",
    "    \n",
    "    train_losses, test_losses = [], []\n",
    "    for e in range(epochs):\n",
    "        running_loss = 0\n",
    "        for image, label in train_loader:\n",
    "            optimizer.zero_grad()\n",
    "            log_ps = model(image)\n",
    "            loss = criterion(log_ps, label)\n",
    "            loss.backward()\n",
    "            optimizer.step()\n",
    "            running_loss+=loss.item()\n",
    "        else:\n",
    "            test_loss = 0\n",
    "            accuracy = 0\n",
    "            with torch.no_grad():\n",
    "                model.eval()\n",
    "                for image, label in test_loader:         \n",
    "                    log_ps = model.forward(image)\n",
    "                    prob = torch.exp(log_ps)\n",
    "                    test_loss+= criterion(log_ps, label)\n",
    "                    k_prob, k_class = prob.topk(1, dim=1)\n",
    "                    equals = k_class == label.view(*k_class.shape)\n",
    "                    accuracy+= torch.mean(equals.type(torch.FloatTensor))\n",
    "            model.train()\n",
    "        train_losses.append(running_loss/len(train_loader))\n",
    "        test_losses.append(test_loss/len(test_loader))\n",
    "        print(\"Epoch: {}/{}...\".format(e+1, epochs),\n",
    "              \"Training Loss: {:.3f}...\".format(train_losses[-1]),\n",
    "              \"Test Loss: {:.3f}...\".format(test_losses[-1]),\n",
    "              \"Test Accuracy: {:.3f}\".format(accuracy/len(test_loader)))\n",
    "        \n",
    "     # plotting the image and the probability barplot   \n",
    "    images, labels = next(iter(trainloader))\n",
    "\n",
    "    img = images[0].view(1, 784)\n",
    "    # gradient OFF\n",
    "    with torch.no_grad():\n",
    "        logps = model(img)\n",
    "\n",
    "    # We need the exp to see the real predictions\n",
    "    ps = torch.exp(logps)\n",
    "    view_classify(img.view(1, 28, 28), ps)\n",
    "    \n",
    "    return (accuracy/len(test_loader))"
   ]
  },
  {
   "cell_type": "markdown",
   "id": "bcbf555d-6e6c-46d5-8fd1-b64015d346e5",
   "metadata": {},
   "source": [
    "## Testing the classes and the function with KMNIST:"
   ]
  },
  {
   "cell_type": "code",
   "execution_count": 60,
   "id": "759ff34b-a8e5-447e-8eab-b973a6b4b6d7",
   "metadata": {},
   "outputs": [],
   "source": [
    "# Define as transformações para normalizar os dados\n",
    "transform = transforms.Compose([transforms.ToTensor(),\n",
    "                                transforms.Normalize((0.5,), (0.5,))])\n",
    "\n",
    "# Baixa e carrega o conjunto de treinamento\n",
    "trainset = datasets.KMNIST('./data/', download=True, train=True, transform=transform)\n",
    "trainloader = torch.utils.data.DataLoader(trainset, batch_size=64, shuffle=True)\n",
    "\n",
    "# baixa e carrega o conjunto de testes\n",
    "testset = datasets.KMNIST('./data/', download=True, train=False, transform=transform)\n",
    "testloader = torch.utils.data.DataLoader(testset, batch_size=64, shuffle=True)"
   ]
  },
  {
   "cell_type": "code",
   "execution_count": 61,
   "id": "720b51d6-c4e6-471f-ad57-6597966374c3",
   "metadata": {},
   "outputs": [
    {
     "name": "stdout",
     "output_type": "stream",
     "text": [
      "Epoch: 1/10... Training Loss: 0.600... Test Loss: 0.679... Test Accuracy: 0.784\n",
      "Epoch: 2/10... Training Loss: 0.260... Test Loss: 0.523... Test Accuracy: 0.846\n",
      "Epoch: 3/10... Training Loss: 0.184... Test Loss: 0.493... Test Accuracy: 0.859\n",
      "Epoch: 4/10... Training Loss: 0.144... Test Loss: 0.452... Test Accuracy: 0.875\n",
      "Epoch: 5/10... Training Loss: 0.119... Test Loss: 0.466... Test Accuracy: 0.871\n",
      "Epoch: 6/10... Training Loss: 0.095... Test Loss: 0.422... Test Accuracy: 0.889\n",
      "Epoch: 7/10... Training Loss: 0.082... Test Loss: 0.458... Test Accuracy: 0.884\n",
      "Epoch: 8/10... Training Loss: 0.075... Test Loss: 0.456... Test Accuracy: 0.887\n",
      "Epoch: 9/10... Training Loss: 0.065... Test Loss: 0.448... Test Accuracy: 0.890\n",
      "Epoch: 10/10... Training Loss: 0.056... Test Loss: 0.509... Test Accuracy: 0.887\n"
     ]
    },
    {
     "data": {
      "text/plain": [
       "(tensor(0.8868),\n",
       " [0.6004472625131408,\n",
       "  0.2604226647565762,\n",
       "  0.18357002244641382,\n",
       "  0.14414394362829624,\n",
       "  0.11870396547795584,\n",
       "  0.09537440713029355,\n",
       "  0.08199890553175161,\n",
       "  0.07505622790195048,\n",
       "  0.0652781190079016,\n",
       "  0.05577265790197998],\n",
       " [tensor(0.6792),\n",
       "  tensor(0.5234),\n",
       "  tensor(0.4926),\n",
       "  tensor(0.4517),\n",
       "  tensor(0.4663),\n",
       "  tensor(0.4220),\n",
       "  tensor(0.4580),\n",
       "  tensor(0.4563),\n",
       "  tensor(0.4479),\n",
       "  tensor(0.5087)])"
      ]
     },
     "execution_count": 61,
     "metadata": {},
     "output_type": "execute_result"
    },
    {
     "data": {
      "image/png": "[encoded data removed]",
      "text/plain": [
       "<Figure size 432x648 with 2 Axes>"
      ]
     },
     "metadata": {
      "image/png": {
       "height": 235,
       "width": 424
      },
      "needs_background": "light"
     },
     "output_type": "display_data"
    }
   ],
   "source": [
    "model_pipeline(trainset, testset, random_rotation=True, rotation_degree=90, flip_percentage=0.2, epochs=10, lr_rate=0.002)"
   ]
  },
  {
   "cell_type": "code",
   "execution_count": null,
   "id": "2ec3b69e-5206-4136-881a-b10c1f302264",
   "metadata": {},
   "outputs": [],
   "source": []
  }
 ],
 "metadata": {
  "kernelspec": {
   "display_name": "Python 3",
   "language": "python",
   "name": "python3"
  },
  "language_info": {
   "codemirror_mode": {
    "name": "ipython",
    "version": 3
   },
   "file_extension": ".py",
   "mimetype": "text/x-python",
   "name": "python",
   "nbconvert_exporter": "python",
   "pygments_lexer": "ipython3",
   "version": "3.8.11"
  }
 },
 "nbformat": 4,
 "nbformat_minor": 5
}
