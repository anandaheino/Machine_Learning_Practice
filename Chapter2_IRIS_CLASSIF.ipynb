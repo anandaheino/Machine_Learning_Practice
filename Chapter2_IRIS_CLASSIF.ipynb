{
 "cells": [
  {
   "cell_type": "markdown",
   "metadata": {},
   "source": [
    "# Ref Book: \n",
    "\n",
    "Hands-On Machine Learning with scikit-learn and Scientific Python Toolkits: A practical guide to implementing supervised and unsupervised machine learning algorithms in Python\n",
    "\n",
    "Tarek Amr - 2020\n",
    "\n",
    "## Chapter 2 - Iris Dataset (Scikit-learn)\n",
    " - Classification problem\n",
    " - Three species are covered: Setosa, Versicolor, and Virginica. \n",
    " - FEATURES: length and the widths of the sepal and petal of each plant \n",
    " - TARGET: Setosa, a Versicolor, or a Virginica \n",
    " \n",
    "Our task is to be able to identify the species of a plant given its sepal and petal dimensions."
   ]
  },
  {
   "cell_type": "code",
   "execution_count": 2,
   "metadata": {},
   "outputs": [],
   "source": [
    "from sklearn.datasets import load_iris\n",
    "import pandas as pd\n",
    "import numpy as np\n",
    "\n",
    "# Instance the Iris dataset into iris variable\n",
    "iris = load_iris()"
   ]
  },
  {
   "cell_type": "code",
   "execution_count": 3,
   "metadata": {},
   "outputs": [
    {
     "data": {
      "text/plain": [
       "['DESCR', 'data', 'feature_names', 'filename', 'target', 'target_names']"
      ]
     },
     "execution_count": 3,
     "metadata": {},
     "output_type": "execute_result"
    }
   ],
   "source": [
    "# Using dir , we can see what methods and attributes the dataset provides:\n",
    "dir(iris)"
   ]
  },
  {
   "cell_type": "code",
   "execution_count": 4,
   "metadata": {},
   "outputs": [
    {
     "name": "stdout",
     "output_type": "stream",
     "text": [
      ".. _iris_dataset:\n",
      "\n",
      "Iris plants dataset\n",
      "--------------------\n",
      "\n",
      "**Data Set Characteristics:**\n",
      "\n",
      "    :Number of Instances: 150 (50 in each of three classes)\n",
      "    :Number of Attributes: 4 numeric, predictive attributes and the class\n",
      "    :Attribute Information:\n",
      "        - sepal length in cm\n",
      "        - sepal width in cm\n",
      "        - petal length in cm\n",
      "        - petal width in cm\n",
      "        - class:\n",
      "                - Iris-Setosa\n",
      "                - Iris-Versicolour\n",
      "                - Iris-Virginica\n",
      "                \n",
      "    :Summary Statistics:\n",
      "\n",
      "    ============== ==== ==== ======= ===== ====================\n",
      "                    Min  Max   Mean    SD   Class Correlation\n",
      "    ============== ==== ==== ======= ===== ====================\n",
      "    sepal length:   4.3  7.9   5.84   0.83    0.7826\n",
      "    sepal width:    2.0  4.4   3.05   0.43   -0.4194\n",
      "    petal length:   1.0  6.9   3.76   1.76    0.9490  (high!)\n",
      "    petal width:    0.1  2.5   1.20   0.76    0.9565  (high!)\n",
      "    ============== ==== ==== ======= ===== ====================\n",
      "\n",
      "    :Missing Attribute Values: None\n",
      "    :Class Distribution: 33.3% for each of 3 classes.\n",
      "    :Creator: R.A. Fisher\n",
      "    :Donor: Michael Marshall (MARSHALL%PLU@io.arc.nasa.gov)\n",
      "    :Date: July, 1988\n",
      "\n",
      "The famous Iris database, first used by Sir R.A. Fisher. The dataset is taken\n",
      "from Fisher's paper. Note that it's the same as in R, but not as in the UCI\n",
      "Machine Learning Repository, which has two wrong data points.\n",
      "\n",
      "This is perhaps the best known database to be found in the\n",
      "pattern recognition literature.  Fisher's paper is a classic in the field and\n",
      "is referenced frequently to this day.  (See Duda & Hart, for example.)  The\n",
      "data set contains 3 classes of 50 instances each, where each class refers to a\n",
      "type of iris plant.  One class is linearly separable from the other 2; the\n",
      "latter are NOT linearly separable from each other.\n",
      "\n",
      ".. topic:: References\n",
      "\n",
      "   - Fisher, R.A. \"The use of multiple measurements in taxonomic problems\"\n",
      "     Annual Eugenics, 7, Part II, 179-188 (1936); also in \"Contributions to\n",
      "     Mathematical Statistics\" (John Wiley, NY, 1950).\n",
      "   - Duda, R.O., & Hart, P.E. (1973) Pattern Classification and Scene Analysis.\n",
      "     (Q327.D83) John Wiley & Sons.  ISBN 0-471-22361-1.  See page 218.\n",
      "   - Dasarathy, B.V. (1980) \"Nosing Around the Neighborhood: A New System\n",
      "     Structure and Classification Rule for Recognition in Partially Exposed\n",
      "     Environments\".  IEEE Transactions on Pattern Analysis and Machine\n",
      "     Intelligence, Vol. PAMI-2, No. 1, 67-71.\n",
      "   - Gates, G.W. (1972) \"The Reduced Nearest Neighbor Rule\".  IEEE Transactions\n",
      "     on Information Theory, May 1972, 431-433.\n",
      "   - See also: 1988 MLC Proceedings, 54-64.  Cheeseman et al\"s AUTOCLASS II\n",
      "     conceptual clustering system finds 3 classes in the data.\n",
      "   - Many, many more ...\n"
     ]
    }
   ],
   "source": [
    "print(iris.DESCR)"
   ]
  },
  {
   "cell_type": "markdown",
   "metadata": {},
   "source": [
    "## This description holds some useful information:\n",
    "- The data is composed of 150 rows (or 150 samples)... small dataset\n",
    "- We have to think on how to deal with this fact when evaluating our model.\n",
    "- Some classification algorithms can only deal with two class labels; we call them binary classifiers. \n",
    "- But the decision tree algorithm can deal with more than two classes, so we have no problems this time.\n",
    "- The data is balanced; there are 50 samples for each class. \n",
    "- There is four numeric features: sepal length , sepal width , petal length , and petal width\n",
    "- There are no missing attribute values.\n",
    "- The petal dimensions correlate with the class values more than the sepal dimensions... Understanding the data is useful, but the problem here is that this correlation is calculated for the entire dataset. Ideally, we will only calculate it for our training data. Anyway, let's IGNORE this information for now and just use it for a sanity check later on."
   ]
  },
  {
   "cell_type": "code",
   "execution_count": 5,
   "metadata": {},
   "outputs": [
    {
     "data": {
      "text/plain": [
       "array(['setosa', 'versicolor', 'virginica'], dtype='<U10')"
      ]
     },
     "execution_count": 5,
     "metadata": {},
     "output_type": "execute_result"
    }
   ],
   "source": [
    "# Nome das classes:\n",
    "iris.target_names"
   ]
  },
  {
   "cell_type": "markdown",
   "metadata": {},
   "source": [
    "## Opening the Data into a DataFrame:\n"
   ]
  },
  {
   "cell_type": "code",
   "execution_count": 6,
   "metadata": {},
   "outputs": [
    {
     "data": {
      "text/html": [
       "<div>\n",
       "<style scoped>\n",
       "    .dataframe tbody tr th:only-of-type {\n",
       "        vertical-align: middle;\n",
       "    }\n",
       "\n",
       "    .dataframe tbody tr th {\n",
       "        vertical-align: top;\n",
       "    }\n",
       "\n",
       "    .dataframe thead th {\n",
       "        text-align: right;\n",
       "    }\n",
       "</style>\n",
       "<table border=\"1\" class=\"dataframe\">\n",
       "  <thead>\n",
       "    <tr style=\"text-align: right;\">\n",
       "      <th></th>\n",
       "      <th>sepal length (cm)</th>\n",
       "      <th>sepal width (cm)</th>\n",
       "      <th>petal length (cm)</th>\n",
       "      <th>petal width (cm)</th>\n",
       "      <th>target</th>\n",
       "    </tr>\n",
       "  </thead>\n",
       "  <tbody>\n",
       "    <tr>\n",
       "      <th>0</th>\n",
       "      <td>5.1</td>\n",
       "      <td>3.5</td>\n",
       "      <td>1.4</td>\n",
       "      <td>0.2</td>\n",
       "      <td>0</td>\n",
       "    </tr>\n",
       "    <tr>\n",
       "      <th>1</th>\n",
       "      <td>4.9</td>\n",
       "      <td>3.0</td>\n",
       "      <td>1.4</td>\n",
       "      <td>0.2</td>\n",
       "      <td>0</td>\n",
       "    </tr>\n",
       "    <tr>\n",
       "      <th>2</th>\n",
       "      <td>4.7</td>\n",
       "      <td>3.2</td>\n",
       "      <td>1.3</td>\n",
       "      <td>0.2</td>\n",
       "      <td>0</td>\n",
       "    </tr>\n",
       "    <tr>\n",
       "      <th>3</th>\n",
       "      <td>4.6</td>\n",
       "      <td>3.1</td>\n",
       "      <td>1.5</td>\n",
       "      <td>0.2</td>\n",
       "      <td>0</td>\n",
       "    </tr>\n",
       "    <tr>\n",
       "      <th>4</th>\n",
       "      <td>5.0</td>\n",
       "      <td>3.6</td>\n",
       "      <td>1.4</td>\n",
       "      <td>0.2</td>\n",
       "      <td>0</td>\n",
       "    </tr>\n",
       "    <tr>\n",
       "      <th>...</th>\n",
       "      <td>...</td>\n",
       "      <td>...</td>\n",
       "      <td>...</td>\n",
       "      <td>...</td>\n",
       "      <td>...</td>\n",
       "    </tr>\n",
       "    <tr>\n",
       "      <th>145</th>\n",
       "      <td>6.7</td>\n",
       "      <td>3.0</td>\n",
       "      <td>5.2</td>\n",
       "      <td>2.3</td>\n",
       "      <td>2</td>\n",
       "    </tr>\n",
       "    <tr>\n",
       "      <th>146</th>\n",
       "      <td>6.3</td>\n",
       "      <td>2.5</td>\n",
       "      <td>5.0</td>\n",
       "      <td>1.9</td>\n",
       "      <td>2</td>\n",
       "    </tr>\n",
       "    <tr>\n",
       "      <th>147</th>\n",
       "      <td>6.5</td>\n",
       "      <td>3.0</td>\n",
       "      <td>5.2</td>\n",
       "      <td>2.0</td>\n",
       "      <td>2</td>\n",
       "    </tr>\n",
       "    <tr>\n",
       "      <th>148</th>\n",
       "      <td>6.2</td>\n",
       "      <td>3.4</td>\n",
       "      <td>5.4</td>\n",
       "      <td>2.3</td>\n",
       "      <td>2</td>\n",
       "    </tr>\n",
       "    <tr>\n",
       "      <th>149</th>\n",
       "      <td>5.9</td>\n",
       "      <td>3.0</td>\n",
       "      <td>5.1</td>\n",
       "      <td>1.8</td>\n",
       "      <td>2</td>\n",
       "    </tr>\n",
       "  </tbody>\n",
       "</table>\n",
       "<p>150 rows × 5 columns</p>\n",
       "</div>"
      ],
      "text/plain": [
       "     sepal length (cm)  sepal width (cm)  petal length (cm)  petal width (cm)  \\\n",
       "0                  5.1               3.5                1.4               0.2   \n",
       "1                  4.9               3.0                1.4               0.2   \n",
       "2                  4.7               3.2                1.3               0.2   \n",
       "3                  4.6               3.1                1.5               0.2   \n",
       "4                  5.0               3.6                1.4               0.2   \n",
       "..                 ...               ...                ...               ...   \n",
       "145                6.7               3.0                5.2               2.3   \n",
       "146                6.3               2.5                5.0               1.9   \n",
       "147                6.5               3.0                5.2               2.0   \n",
       "148                6.2               3.4                5.4               2.3   \n",
       "149                5.9               3.0                5.1               1.8   \n",
       "\n",
       "     target  \n",
       "0         0  \n",
       "1         0  \n",
       "2         0  \n",
       "3         0  \n",
       "4         0  \n",
       "..      ...  \n",
       "145       2  \n",
       "146       2  \n",
       "147       2  \n",
       "148       2  \n",
       "149       2  \n",
       "\n",
       "[150 rows x 5 columns]"
      ]
     },
     "execution_count": 6,
     "metadata": {},
     "output_type": "execute_result"
    }
   ],
   "source": [
    "df = pd.DataFrame(iris.data, columns=iris.feature_names)\n",
    "df['target'] = pd.Series(iris.target)\n",
    "df"
   ]
  },
  {
   "cell_type": "markdown",
   "metadata": {},
   "source": [
    "# We can see that the TARGET column has de class IDs\n",
    " - For more clarity, we can also create a new column called target_names , where we can map our numerical target values to the class names:\n"
   ]
  },
  {
   "cell_type": "code",
   "execution_count": 7,
   "metadata": {},
   "outputs": [
    {
     "data": {
      "text/html": [
       "<div>\n",
       "<style scoped>\n",
       "    .dataframe tbody tr th:only-of-type {\n",
       "        vertical-align: middle;\n",
       "    }\n",
       "\n",
       "    .dataframe tbody tr th {\n",
       "        vertical-align: top;\n",
       "    }\n",
       "\n",
       "    .dataframe thead th {\n",
       "        text-align: right;\n",
       "    }\n",
       "</style>\n",
       "<table border=\"1\" class=\"dataframe\">\n",
       "  <thead>\n",
       "    <tr style=\"text-align: right;\">\n",
       "      <th></th>\n",
       "      <th>sepal length (cm)</th>\n",
       "      <th>sepal width (cm)</th>\n",
       "      <th>petal length (cm)</th>\n",
       "      <th>petal width (cm)</th>\n",
       "      <th>target</th>\n",
       "      <th>target_names</th>\n",
       "    </tr>\n",
       "  </thead>\n",
       "  <tbody>\n",
       "    <tr>\n",
       "      <th>73</th>\n",
       "      <td>6.1</td>\n",
       "      <td>2.8</td>\n",
       "      <td>4.7</td>\n",
       "      <td>1.2</td>\n",
       "      <td>1</td>\n",
       "      <td>versicolor</td>\n",
       "    </tr>\n",
       "    <tr>\n",
       "      <th>18</th>\n",
       "      <td>5.7</td>\n",
       "      <td>3.8</td>\n",
       "      <td>1.7</td>\n",
       "      <td>0.3</td>\n",
       "      <td>0</td>\n",
       "      <td>setosa</td>\n",
       "    </tr>\n",
       "    <tr>\n",
       "      <th>118</th>\n",
       "      <td>7.7</td>\n",
       "      <td>2.6</td>\n",
       "      <td>6.9</td>\n",
       "      <td>2.3</td>\n",
       "      <td>2</td>\n",
       "      <td>virginica</td>\n",
       "    </tr>\n",
       "    <tr>\n",
       "      <th>78</th>\n",
       "      <td>6.0</td>\n",
       "      <td>2.9</td>\n",
       "      <td>4.5</td>\n",
       "      <td>1.5</td>\n",
       "      <td>1</td>\n",
       "      <td>versicolor</td>\n",
       "    </tr>\n",
       "    <tr>\n",
       "      <th>76</th>\n",
       "      <td>6.8</td>\n",
       "      <td>2.8</td>\n",
       "      <td>4.8</td>\n",
       "      <td>1.4</td>\n",
       "      <td>1</td>\n",
       "      <td>versicolor</td>\n",
       "    </tr>\n",
       "    <tr>\n",
       "      <th>31</th>\n",
       "      <td>5.4</td>\n",
       "      <td>3.4</td>\n",
       "      <td>1.5</td>\n",
       "      <td>0.4</td>\n",
       "      <td>0</td>\n",
       "      <td>setosa</td>\n",
       "    </tr>\n",
       "  </tbody>\n",
       "</table>\n",
       "</div>"
      ],
      "text/plain": [
       "     sepal length (cm)  sepal width (cm)  petal length (cm)  petal width (cm)  \\\n",
       "73                 6.1               2.8                4.7               1.2   \n",
       "18                 5.7               3.8                1.7               0.3   \n",
       "118                7.7               2.6                6.9               2.3   \n",
       "78                 6.0               2.9                4.5               1.5   \n",
       "76                 6.8               2.8                4.8               1.4   \n",
       "31                 5.4               3.4                1.5               0.4   \n",
       "\n",
       "     target target_names  \n",
       "73        1   versicolor  \n",
       "18        0       setosa  \n",
       "118       2    virginica  \n",
       "78        1   versicolor  \n",
       "76        1   versicolor  \n",
       "31        0       setosa  "
      ]
     },
     "execution_count": 7,
     "metadata": {},
     "output_type": "execute_result"
    }
   ],
   "source": [
    "df['target_names'] = df['target'].apply(lambda y: iris.target_names[y])\n",
    "\n",
    "# A random sample from the dataframe: 6 rows, and we use random_state with the same \n",
    "# seed to produce equal results, everytime \n",
    "df.sample(n=6, random_state=42)"
   ]
  },
  {
   "cell_type": "markdown",
   "metadata": {},
   "source": [
    "## Splitting the data\n",
    "Let's split the DataFrame into 2: \n",
    "- 70% of the records goes into the training set\n",
    "- 30% goes into testing set\n",
    "- choice of 70/30 is arbitrary\n",
    "\n",
    "We will use the `train_test_split()` "
   ]
  },
  {
   "cell_type": "code",
   "execution_count": 8,
   "metadata": {},
   "outputs": [],
   "source": [
    "from sklearn.model_selection import train_test_split\n",
    "\n",
    "df_train, df_test = train_test_split(df, test_size=0.3)"
   ]
  },
  {
   "cell_type": "code",
   "execution_count": 9,
   "metadata": {},
   "outputs": [
    {
     "name": "stdout",
     "output_type": "stream",
     "text": [
      "Nº Rows in TEST:   45\n",
      "Nº Rows in TRAIN: 105\n"
     ]
    }
   ],
   "source": [
    "# checking how many rows in the test and train DataFrames\n",
    "print('Nº Rows in TEST:  ', df_test.shape[0])\n",
    "print('Nº Rows in TRAIN:', df_train.shape[0])"
   ]
  },
  {
   "cell_type": "markdown",
   "metadata": {},
   "source": [
    "The feature_names method in iris contains a list of the corresponding column names to our features. \n",
    "## Creating our `x` and `y` sets, as follows:\n"
   ]
  },
  {
   "cell_type": "code",
   "execution_count": 10,
   "metadata": {},
   "outputs": [],
   "source": [
    "x_train = df_train[iris.feature_names]\n",
    "x_test = df_test[iris.feature_names]\n",
    "\n",
    "y_train = df_train['target']\n",
    "y_test = df_test['target']"
   ]
  },
  {
   "cell_type": "code",
   "execution_count": 11,
   "metadata": {},
   "outputs": [
    {
     "data": {
      "text/html": [
       "<div>\n",
       "<style scoped>\n",
       "    .dataframe tbody tr th:only-of-type {\n",
       "        vertical-align: middle;\n",
       "    }\n",
       "\n",
       "    .dataframe tbody tr th {\n",
       "        vertical-align: top;\n",
       "    }\n",
       "\n",
       "    .dataframe thead th {\n",
       "        text-align: right;\n",
       "    }\n",
       "</style>\n",
       "<table border=\"1\" class=\"dataframe\">\n",
       "  <thead>\n",
       "    <tr style=\"text-align: right;\">\n",
       "      <th></th>\n",
       "      <th>sepal length (cm)</th>\n",
       "      <th>sepal width (cm)</th>\n",
       "      <th>petal length (cm)</th>\n",
       "      <th>petal width (cm)</th>\n",
       "    </tr>\n",
       "  </thead>\n",
       "  <tbody>\n",
       "    <tr>\n",
       "      <th>9</th>\n",
       "      <td>4.9</td>\n",
       "      <td>3.1</td>\n",
       "      <td>1.5</td>\n",
       "      <td>0.1</td>\n",
       "    </tr>\n",
       "    <tr>\n",
       "      <th>26</th>\n",
       "      <td>5.0</td>\n",
       "      <td>3.4</td>\n",
       "      <td>1.6</td>\n",
       "      <td>0.4</td>\n",
       "    </tr>\n",
       "    <tr>\n",
       "      <th>75</th>\n",
       "      <td>6.6</td>\n",
       "      <td>3.0</td>\n",
       "      <td>4.4</td>\n",
       "      <td>1.4</td>\n",
       "    </tr>\n",
       "    <tr>\n",
       "      <th>66</th>\n",
       "      <td>5.6</td>\n",
       "      <td>3.0</td>\n",
       "      <td>4.5</td>\n",
       "      <td>1.5</td>\n",
       "    </tr>\n",
       "    <tr>\n",
       "      <th>62</th>\n",
       "      <td>6.0</td>\n",
       "      <td>2.2</td>\n",
       "      <td>4.0</td>\n",
       "      <td>1.0</td>\n",
       "    </tr>\n",
       "  </tbody>\n",
       "</table>\n",
       "</div>"
      ],
      "text/plain": [
       "    sepal length (cm)  sepal width (cm)  petal length (cm)  petal width (cm)\n",
       "9                 4.9               3.1                1.5               0.1\n",
       "26                5.0               3.4                1.6               0.4\n",
       "75                6.6               3.0                4.4               1.4\n",
       "66                5.6               3.0                4.5               1.5\n",
       "62                6.0               2.2                4.0               1.0"
      ]
     },
     "execution_count": 11,
     "metadata": {},
     "output_type": "execute_result"
    }
   ],
   "source": [
    "x_train.head()"
   ]
  },
  {
   "cell_type": "code",
   "execution_count": 12,
   "metadata": {},
   "outputs": [
    {
     "data": {
      "text/plain": [
       "9      0\n",
       "26     0\n",
       "75     1\n",
       "66     1\n",
       "62     1\n",
       "      ..\n",
       "34     0\n",
       "100    2\n",
       "118    2\n",
       "37     0\n",
       "40     0\n",
       "Name: target, Length: 105, dtype: int64"
      ]
     },
     "execution_count": 12,
     "metadata": {},
     "output_type": "execute_result"
    }
   ],
   "source": [
    "y_train"
   ]
  },
  {
   "cell_type": "markdown",
   "metadata": {},
   "source": [
    "## Training the model DecisionTreeClassifier and using it for prediction\n",
    "\n",
    "To get a feel for how everything works, we will train our algorithm using its default\n",
    "configuration for now. \n"
   ]
  },
  {
   "cell_type": "code",
   "execution_count": 13,
   "metadata": {},
   "outputs": [],
   "source": [
    "from sklearn.tree import DecisionTreeClassifier\n",
    "\n",
    "# It is common to call the classifier instance clf\n",
    "clf = DecisionTreeClassifier()"
   ]
  },
  {
   "cell_type": "code",
   "execution_count": 14,
   "metadata": {},
   "outputs": [
    {
     "data": {
      "text/plain": [
       "DecisionTreeClassifier(ccp_alpha=0.0, class_weight=None, criterion='gini',\n",
       "                       max_depth=None, max_features=None, max_leaf_nodes=None,\n",
       "                       min_impurity_decrease=0.0, min_impurity_split=None,\n",
       "                       min_samples_leaf=1, min_samples_split=2,\n",
       "                       min_weight_fraction_leaf=0.0, presort='deprecated',\n",
       "                       random_state=None, splitter='best')"
      ]
     },
     "execution_count": 14,
     "metadata": {},
     "output_type": "execute_result"
    }
   ],
   "source": [
    "# training the model using fit()\n",
    "clf.fit(x_train, y_train)"
   ]
  },
  {
   "cell_type": "code",
   "execution_count": 15,
   "metadata": {},
   "outputs": [],
   "source": [
    "# calling the fit() method, the clf instance is trained and ready to be used for\n",
    "#predictions, so we call the predict() method on x_test\n",
    "\n",
    "y_test_predicted = clf.predict(x_test)"
   ]
  },
  {
   "cell_type": "markdown",
   "metadata": {},
   "source": [
    "## Evaluating our predictions\n",
    "As we have `y_test_predict` , all we need now is to compare it to `y_test` to check how\n",
    "good our predictions are. \n",
    "\n",
    "- Metrics for evaluating a classifier: precision , recall , and accuracy . \n",
    "\n",
    "The Iris dataset is a balanced dataset; it has the same number of instances for each class. Therefore, it is apt to use the accuracy metric here."
   ]
  },
  {
   "cell_type": "code",
   "execution_count": 16,
   "metadata": {},
   "outputs": [
    {
     "data": {
      "text/plain": [
       "1.0"
      ]
     },
     "execution_count": 16,
     "metadata": {},
     "output_type": "execute_result"
    }
   ],
   "source": [
    "from sklearn.metrics import accuracy_score\n",
    "\n",
    "accuracy = accuracy_score(y_test, y_test_predicted)\n",
    "accuracy"
   ]
  },
  {
   "cell_type": "code",
   "execution_count": 17,
   "metadata": {},
   "outputs": [
    {
     "name": "stdout",
     "output_type": "stream",
     "text": [
      "0.0\n",
      "1.0\n"
     ]
    }
   ],
   "source": [
    "from sklearn.metrics import r2_score\n",
    "\n",
    "# Erro quadrático RSS\n",
    "def calc_rss(y,predicted):\n",
    "    return float(((predicted - y) ** 2).sum())\n",
    "\n",
    "rss = calc_rss(y_test, y_test_predicted)\n",
    "print(rss)\n",
    "\n",
    "# ajuste R² \n",
    "r2 = r2_score(y_test, y_test_predicted)\n",
    "print(r2)"
   ]
  },
  {
   "cell_type": "markdown",
   "metadata": {},
   "source": [
    "## Which features were more important?\n",
    "We may now ask ourselves, Which features did the model find more useful in deciding the iris species? Luckily, DecisionTreeClassifier has a method called `feature_importances_` , which is computed after the classifier is fitted and scores how important each feature is to the model's decision. In the following code snippet, we will create a DataFrames where we will put the features' names and their importance together and then sort the features by their importance:"
   ]
  },
  {
   "cell_type": "code",
   "execution_count": 18,
   "metadata": {},
   "outputs": [
    {
     "data": {
      "text/html": [
       "<div>\n",
       "<style scoped>\n",
       "    .dataframe tbody tr th:only-of-type {\n",
       "        vertical-align: middle;\n",
       "    }\n",
       "\n",
       "    .dataframe tbody tr th {\n",
       "        vertical-align: top;\n",
       "    }\n",
       "\n",
       "    .dataframe thead th {\n",
       "        text-align: right;\n",
       "    }\n",
       "</style>\n",
       "<table border=\"1\" class=\"dataframe\">\n",
       "  <thead>\n",
       "    <tr style=\"text-align: right;\">\n",
       "      <th></th>\n",
       "      <th>feature_importances</th>\n",
       "    </tr>\n",
       "    <tr>\n",
       "      <th>feature_names</th>\n",
       "      <th></th>\n",
       "    </tr>\n",
       "  </thead>\n",
       "  <tbody>\n",
       "    <tr>\n",
       "      <th>petal length (cm)</th>\n",
       "      <td>0.553657</td>\n",
       "    </tr>\n",
       "    <tr>\n",
       "      <th>petal width (cm)</th>\n",
       "      <td>0.413010</td>\n",
       "    </tr>\n",
       "    <tr>\n",
       "      <th>sepal length (cm)</th>\n",
       "      <td>0.019048</td>\n",
       "    </tr>\n",
       "    <tr>\n",
       "      <th>sepal width (cm)</th>\n",
       "      <td>0.014286</td>\n",
       "    </tr>\n",
       "  </tbody>\n",
       "</table>\n",
       "</div>"
      ],
      "text/plain": [
       "                   feature_importances\n",
       "feature_names                         \n",
       "petal length (cm)             0.553657\n",
       "petal width (cm)              0.413010\n",
       "sepal length (cm)             0.019048\n",
       "sepal width (cm)              0.014286"
      ]
     },
     "execution_count": 18,
     "metadata": {},
     "output_type": "execute_result"
    }
   ],
   "source": [
    "df_importances = pd.DataFrame(\n",
    "    {\n",
    "    'feature_names': iris.feature_names,  \n",
    "     'feature_importances': clf.feature_importances_\n",
    "    }\n",
    ").sort_values('feature_importances', ascending=False).set_index('feature_names')\n",
    "\n",
    "df_importances"
   ]
  },
  {
   "cell_type": "markdown",
   "metadata": {},
   "source": [
    "## Displaying the internal tree decisions\n",
    "We can also print the internal structure of the learned tree using the following code\n",
    "snippet:"
   ]
  },
  {
   "cell_type": "code",
   "execution_count": 19,
   "metadata": {},
   "outputs": [
    {
     "name": "stdout",
     "output_type": "stream",
     "text": [
      "|--- petal length (cm) <= 2.4\n",
      "|   |--- class: 0\n",
      "|--- petal length (cm) >  2.4\n",
      "|   |--- petal width (cm) <= 1.8\n",
      "|   |   |--- petal length (cm) <= 5.0\n",
      "|   |   |   |--- petal width (cm) <= 1.7\n",
      "|   |   |   |   |--- class: 1\n",
      "|   |   |   |--- petal width (cm) >  1.7\n",
      "|   |   |   |   |--- class: 2\n",
      "|   |   |--- petal length (cm) >  5.0\n",
      "|   |   |   |--- petal width (cm) <= 1.6\n",
      "|   |   |   |   |--- class: 2\n",
      "|   |   |   |--- petal width (cm) >  1.6\n",
      "|   |   |   |   |--- sepal length (cm) <= 6.9\n",
      "|   |   |   |   |   |--- class: 1\n",
      "|   |   |   |   |--- sepal length (cm) >  6.9\n",
      "|   |   |   |   |   |--- class: 2\n",
      "|   |--- petal width (cm) >  1.8\n",
      "|   |   |--- petal length (cm) <= 4.9\n",
      "|   |   |   |--- sepal width (cm) <= 3.0\n",
      "|   |   |   |   |--- class: 2\n",
      "|   |   |   |--- sepal width (cm) >  3.0\n",
      "|   |   |   |   |--- class: 1\n",
      "|   |   |--- petal length (cm) >  4.9\n",
      "|   |   |   |--- class: 2\n",
      "\n"
     ]
    }
   ],
   "source": [
    "from sklearn.tree import export_text\n",
    "\n",
    "print(export_text(clf, feature_names=iris.feature_names, spacing=3, decimals=1))"
   ]
  },
  {
   "cell_type": "markdown",
   "metadata": {},
   "source": [
    "If you print the complete dataset description, you will notice that toward the end, it says\n",
    "the following:\n",
    "\n",
    "One class is linearly separable from the other two; the latter are NOT linearly separable\n",
    "from each other.\n",
    "\n",
    "This means that one class is easier to separate from the other two, while the other two are\n",
    "harder to separate from each other. Now, look at the internal tree's structure. You may\n",
    "notice that in the first step, it decided that anything with a petal width below or equal t\n",
    "0.8 belongs to class 0 ( Setosa ). Then, for petal widths above 0.8 , the tree kept on\n",
    "branching, trying to differentiate between classes 1 and 2 ( Versicolor and Virginica ).\n",
    "Generally, the harder it is to separate classes, the deeper the branching goes.\n",
    "\n",
    "# Checking overfitting by comparing:\n",
    "the classifier's accuracy on the test set to its accuracy on the training set. Having a much\n",
    "higher score for your training set compared to the test set is a sign of\n",
    "overfitting.\n",
    "\n",
    "https://machinelearningmastery.com/overfitting-machine-learning-models/\n",
    "\n",
    "We care about overfitting because it is a common cause for “poor generalization” of the model as measured by high “generalization error.” That is error made by the model when making predictions on new data.\n",
    "\n",
    "This means, if our model has poor performance, maybe it is because it has overfit."
   ]
  },
  {
   "cell_type": "code",
   "execution_count": 20,
   "metadata": {},
   "outputs": [
    {
     "name": "stdout",
     "output_type": "stream",
     "text": [
      "With no MAX_DEPTH() defined, our comparison of TEST and TRAIN is:\n",
      "\n",
      "1.0\n",
      "1.0\n"
     ]
    }
   ],
   "source": [
    "# Comparing test and train accuracy\n",
    "accuracy_test = accuracy_score(y_test, y_test_predicted)\n",
    "\n",
    "y_train_predicted = clf.predict(x_train)\n",
    "accuracy_train = accuracy_score(y_train, y_train_predicted)\n",
    "print('With no MAX_DEPTH() defined, our comparison of TEST and TRAIN is:\\n')\n",
    "print(accuracy_test)\n",
    "print(accuracy_train)"
   ]
  },
  {
   "cell_type": "markdown",
   "metadata": {},
   "source": [
    "# What to do now to get a more reliable score?\n",
    "\n",
    "let's run the whole process of data splitting, training, and predicting,\n",
    "more than once, and get the distribution of the different accuracy scores we get each time.\n",
    "\n",
    "Generating different train and test splits is called cross-validation. This helps us have a\n",
    "more reliable estimation of our model's accuracy. What we did in the previous section is\n",
    "one of many cross-validation strategies called repeated random sub-sampling validation, or\n",
    "Monte Carlo cross-validation."
   ]
  },
  {
   "cell_type": "code",
   "execution_count": 21,
   "metadata": {},
   "outputs": [
    {
     "name": "stdout",
     "output_type": "stream",
     "text": [
      "Average Score: 0.949 [5th percentile: 0.911 & 95th percentile:0.978]\n"
     ]
    },
    {
     "data": {
      "image/png": "[encoded data removed]",
      "text/plain": [
       "<Figure size 432x288 with 1 Axes>"
      ]
     },
     "metadata": {
      "needs_background": "light"
     },
     "output_type": "display_data"
    }
   ],
   "source": [
    "# A list to store the score from each iteration\n",
    "accuracy_scores = []\n",
    "\n",
    "for _ in range(100):\n",
    "    # At each iteration we freshly split our data\n",
    "    df_train, df_test = train_test_split(df, test_size=0.3)\n",
    "    x_train = df_train[iris.feature_names]\n",
    "    x_test = df_test[iris.feature_names]\n",
    "    y_train = df_train['target']\n",
    "    y_test = df_test['target']\n",
    "    # We then create a new classifier\n",
    "    clf = DecisionTreeClassifier()\n",
    "    # And use it for training and prediction\n",
    "    clf.fit(x_train, y_train)\n",
    "    y_pred = clf.predict(x_test)\n",
    "    # Finally, we append the score to our list\n",
    "    accuracy_scores.append(round(accuracy_score(y_test, y_pred), 3))\n",
    "    \n",
    "# Better convert accuracy_scores from a list into a series\n",
    "# Pandas series provides statistical methods to use later\n",
    "accuracy_scores = pd.Series(accuracy_scores)\n",
    "\n",
    "accuracy_scores.plot(\n",
    "    title='Distribution of classifier accuracy',\n",
    "    kind='box')\n",
    "print('Average Score: {:.3} [5th percentile: {:.3} & 95th percentile:{:.3}]'.format(\n",
    "    accuracy_scores.mean(),\n",
    "    accuracy_scores.quantile(.05),\n",
    "    accuracy_scores.quantile(.95)))"
   ]
  },
  {
   "cell_type": "markdown",
   "metadata": {},
   "source": [
    "# ShuffleSplit\n",
    "scikit-learn's `ShuffleSplit` module provides us with the functionality to perform [Monte\n",
    "Carlo cross-validation](https://towardsdatascience.com/cross-validation-k-fold-vs-monte-carlo-e54df2fc179b). Rather than us splitting the data ourselves, ShuffleSplit gives us\n",
    "lists of indices to use for splitting our data. In the following code, we are going to use the\n",
    "DataFrame's loc() method and the indices we get from ShuffleSplit to randomly split\n",
    "the dataset into 100 training and test pairs:"
   ]
  },
  {
   "cell_type": "code",
   "execution_count": 22,
   "metadata": {},
   "outputs": [],
   "source": [
    "from sklearn.model_selection import ShuffleSplit\n",
    "\n",
    "accuracy_scores = []\n",
    "\n",
    "# instance shuffle split\n",
    "rs = ShuffleSplit(n_splits = 100, test_size = 0.3)\n",
    "\n",
    "# Now we jave 100 pairs os indices\n",
    "for train_index, test_index in rs.split(df):\n",
    "    x_train = df.loc[train_index, iris.feature_names]\n",
    "    x_test = df.loc[test_index, iris.feature_names]\n",
    "    y_train = df.loc[train_index, 'target']\n",
    "    y_test = df.loc[test_index, 'target']\n",
    "    \n",
    "    clf = DecisionTreeClassifier()\n",
    "    clf.fit(x_train, y_train)\n",
    "    y_pred = clf.predict(x_test)\n",
    "    \n",
    "    accuracy_scores.append(round(accuracy_score(y_test, y_pred), 3))\n",
    "\n",
    "accuracy_scores = pd.Series(accuracy_scores)\n",
    "    \n",
    "#accuracy_scores\n"
   ]
  },
  {
   "cell_type": "markdown",
   "metadata": {},
   "source": [
    "Alternatively, we can simplify the preceding code even further by using scikit-\n",
    "learn's `cross_validate` functionality. This time, we are not event splitting the data into\n",
    "training and test sets ourselves. We will give cross_validate the x and y values for the\n",
    "entire set, and then give it our ShuffleSplit instance for it to use internally to split the\n",
    "data. We also give it the classifier and specify what kind of scoring metric to use. When\n",
    "done, it will give us back a list with the calculated test set scores:"
   ]
  },
  {
   "cell_type": "code",
   "execution_count": 23,
   "metadata": {},
   "outputs": [],
   "source": [
    "from sklearn.model_selection import cross_validate\n",
    "\n",
    "dlf = DecisionTreeClassifier()\n",
    "rs = ShuffleSplit(n_splits=100, test_size=0.3)\n",
    "\n",
    "x = df[iris.feature_names]\n",
    "y = df['target']\n",
    "\n",
    "# application of cross validation method passing the estimator (clf), X, y, cross valid generator (cv) \n",
    "# and We also give it the classifier and specify what kind of scoring metric to use. \n",
    "cross_validation_results = cross_validate(clf, x, y, cv=rs, scoring='accuracy')\n"
   ]
  },
  {
   "cell_type": "code",
   "execution_count": 24,
   "metadata": {},
   "outputs": [
    {
     "data": {
      "text/plain": [
       "dict_keys(['fit_time', 'score_time', 'test_score'])"
      ]
     },
     "execution_count": 24,
     "metadata": {},
     "output_type": "execute_result"
    }
   ],
   "source": [
    "cross_validation_results.keys()"
   ]
  },
  {
   "cell_type": "code",
   "execution_count": 25,
   "metadata": {},
   "outputs": [
    {
     "data": {
      "text/plain": [
       "0     0.933333\n",
       "1     0.955556\n",
       "2     0.955556\n",
       "3     0.955556\n",
       "4     0.955556\n",
       "        ...   \n",
       "95    0.977778\n",
       "96    0.933333\n",
       "97    0.911111\n",
       "98    0.888889\n",
       "99    0.977778\n",
       "Length: 100, dtype: float64"
      ]
     },
     "execution_count": 25,
     "metadata": {},
     "output_type": "execute_result"
    }
   ],
   "source": [
    "accuracy_scores = pd.Series(cross_validation_results['test_score'])\n",
    "accuracy_scores"
   ]
  },
  {
   "cell_type": "code",
   "execution_count": 26,
   "metadata": {},
   "outputs": [
    {
     "name": "stdout",
     "output_type": "stream",
     "text": [
      "Average Score: 0.946 [5th percentile: 0.889 & 95th percentile:0.978]\n"
     ]
    },
    {
     "data": {
      "image/png": "[encoded data removed]",
      "text/plain": [
       "<Figure size 432x288 with 1 Axes>"
      ]
     },
     "metadata": {
      "needs_background": "light"
     },
     "output_type": "display_data"
    }
   ],
   "source": [
    "accuracy_scores.plot(\n",
    "    title='Distribution of classifier accuracy',\n",
    "    kind='box')\n",
    "print('Average Score: {:.3} [5th percentile: {:.3} & 95th percentile:{:.3}]'.format(\n",
    "    accuracy_scores.mean(),\n",
    "    accuracy_scores.quantile(.05),\n",
    "    accuracy_scores.quantile(.95)))"
   ]
  },
  {
   "cell_type": "markdown",
   "metadata": {},
   "source": [
    "## Cross-validation is recommended when dealing with a small dataset\n",
    "since a group of\n",
    "accuracy scores will give us a better understanding of the classifier's performance\n",
    "compared to a single score calculated after a single trial."
   ]
  },
  {
   "cell_type": "markdown",
   "metadata": {},
   "source": [
    "# Tuning the hyperparameters for higher accuracy\n",
    "\n",
    "Now that we have learned how to evaluate the model's accuracy more reliably using the\n",
    "ShuffleSplit cross-validation method, it is time to test our earlier hypothesis: \n",
    "#### would a smaller tree be more accurate?\n",
    "\n",
    "Let's follow the steps:\n",
    "1. Split the data into training and test sets."
   ]
  },
  {
   "cell_type": "code",
   "execution_count": 27,
   "metadata": {},
   "outputs": [],
   "source": [
    "# split train and test data, using test size os 0.25 this time\n",
    "df_train, df_test = train_test_split(df, test_size=0.25)\n",
    "\n",
    "x_train = df_train[iris.feature_names]\n",
    "x_test = df_test[iris.feature_names]\n",
    "\n",
    "y_train = df_train['target']\n",
    "y_test = df_test['target']"
   ]
  },
  {
   "cell_type": "markdown",
   "metadata": {},
   "source": [
    "2. Keep the test side to one side now.\n",
    "\n",
    "3. Limit the tree's growth using different values of max_depth .\n",
    "\n",
    "4. For each max_depth setting, we will use the ShuffleSplit cross-validation method on the training set to get an estimation of the classifier's accuracy."
   ]
  },
  {
   "cell_type": "code",
   "execution_count": 28,
   "metadata": {},
   "outputs": [
    {
     "data": {
      "text/plain": [
       "4"
      ]
     },
     "execution_count": 28,
     "metadata": {},
     "output_type": "execute_result"
    }
   ],
   "source": [
    "# check the depth of the tree\n",
    "clf.get_depth()"
   ]
  },
  {
   "cell_type": "code",
   "execution_count": 29,
   "metadata": {},
   "outputs": [
    {
     "name": "stdout",
     "output_type": "stream",
     "text": [
      "@ max_depth = 1: accuracy_scores: 0.5 ~ 0.718\n",
      "@ max_depth = 2: accuracy_scores: 0.886 ~ 0.968\n",
      "@ max_depth = 3: accuracy_scores: 0.889 ~ 1.0\n",
      "@ max_depth = 4: accuracy_scores: 0.857 ~ 0.964\n",
      "@ max_depth = 5: accuracy_scores: 0.889 ~ 1.0\n",
      "@ max_depth = 6: accuracy_scores: 0.893 ~ 0.968\n"
     ]
    }
   ],
   "source": [
    "for max_depth in range(1, 7):\n",
    "    # We initialize a new classifier each iteration with different max_depth\n",
    "    clf = DecisionTreeClassifier(max_depth=max_depth)\n",
    "    \n",
    "    # We also initialize our shuffle splitter\n",
    "    rs = ShuffleSplit(n_splits=20, test_size=0.25)\n",
    "    cv_results = cross_validate(clf, x_train, y_train, cv=rs, scoring='accuracy')\n",
    "    accuracy_scores = pd.Series(cv_results['test_score'])\n",
    "    \n",
    "    print('@ max_depth = {}: accuracy_scores: {} ~ {}'.format(max_depth,accuracy_scores.quantile(.1).round(3),accuracy_scores.quantile(.9).round(3)))"
   ]
  },
  {
   "cell_type": "markdown",
   "metadata": {},
   "source": [
    "### We can see that the `max_depth` = 3 = 5 = 6\n",
    "- accuracy_scores: 0.925 ~ 1.0\n",
    "### So we can use the minimun Max_depth = 3 in our model!\n",
    "\n",
    "5. Once we decide which value to use for max_depth , we will train the algorithm one last time on the entire training set and predict on the test set."
   ]
  },
  {
   "cell_type": "code",
   "execution_count": 30,
   "metadata": {},
   "outputs": [
    {
     "data": {
      "text/plain": [
       "0.9473684210526315"
      ]
     },
     "execution_count": 30,
     "metadata": {},
     "output_type": "execute_result"
    }
   ],
   "source": [
    "clf = DecisionTreeClassifier(max_depth=3)\n",
    "\n",
    "clf.fit(x_train, y_train)\n",
    "\n",
    "y_pred = clf.predict(x_test)\n",
    "\n",
    "accuracy_score(y_test, y_pred)"
   ]
  },
  {
   "cell_type": "markdown",
   "metadata": {},
   "source": [
    "## Visualizing the tree's decision boundaries\n",
    "In addition to printing the classifier's decision and descriptive statistics about its accuracy.\n",
    "\n",
    "As we already know by now,\n",
    "decision trees pick one feature at a time and try to split the data accordingly. Nevertheless,\n",
    "it is important to be able to visualize those decisions as well.\n",
    "\n",
    "When the tree made a decision to split the data around a petal width of 0.8 , you can think\n",
    "of it as drawing a horizontal line in the right-hand side graph at the value of 0.8 .\n",
    "\n",
    "Then,\n",
    "with every later split, the tree splits the space further using combinations of horizontal and\n",
    "vertical lines. By knowing this, you should not expect the algorithm to use curves or 45-\n",
    "degree lines to separate the classes."
   ]
  },
  {
   "cell_type": "code",
   "execution_count": 31,
   "metadata": {},
   "outputs": [],
   "source": [
    "import matplotlib.pyplot as plt\n",
    "\n",
    "# Created by Richard Johansson of the University of Gothenburg\n",
    "# The docstring and comments were added by me :)\n",
    "\n",
    "def plot_decision_boundary(clf, x, y):\n",
    "    \"\"\"Function that receives the classification model, the features (X) \n",
    "    and the target (y).\n",
    "    ---> The function returns a counter plot with the Tree's Decision Boundaries \n",
    "    (as vertical and horizontal lines, showing the delimitation of the model).\"\"\"\n",
    "    feature_names = x.columns\n",
    "    x, y = x.values, y.values\n",
    "    x_min, x_max = x[:,0].min(), x[:,0].max()\n",
    "    y_min, y_max = x[:,1].min(), x[:,1].max()\n",
    "    step = 0.02\n",
    "    \n",
    "    # Returning the coordinate matrices from coordinate vectors\n",
    "    xx, yy = np.meshgrid(np.arange(x_min, x_max, step),\n",
    "                         np.arange(y_min, y_max, step))\n",
    "    \n",
    "    # Translation of slice objects to concatenation along the second axis\n",
    "    Z = clf.predict(np.c_[xx.ravel(), yy.ravel()])\n",
    "    \n",
    "    # Putting at the same shape as 'xx' coordinate matrice\n",
    "    Z = Z.reshape(xx.shape)\n",
    "    \n",
    "    # Plotting the Tree's Decision Boundaries\n",
    "    plt.figure(figsize=(12,8))\n",
    "    plt.contourf(xx, yy, Z, cmap='Paired_r', alpha=0.25)\n",
    "    plt.contour(xx, yy, Z, colors='k', linewidths=0.7)\n",
    "    plt.scatter(x[:,0], x[:,1], c=y, edgecolors='k')\n",
    "    plt.title(\"Tree's Decision Boundaries\")\n",
    "    plt.xlabel(feature_names[0])\n",
    "    plt.ylabel(feature_names[1])"
   ]
  },
  {
   "cell_type": "markdown",
   "metadata": {},
   "source": [
    "- As we've seen before, the petal lenght and width are the most important features;\n",
    "- The others, doens't really impact the model.\n",
    "- So, we will use only two features: \n",
    "   - `petal lenght`\n",
    "   - `petal width`"
   ]
  },
  {
   "cell_type": "code",
   "execution_count": 32,
   "metadata": {},
   "outputs": [
    {
     "data": {
      "image/png": "[encoded data removed]",
      "text/plain": [
       "<Figure size 864x576 with 1 Axes>"
      ]
     },
     "metadata": {
      "needs_background": "light"
     },
     "output_type": "display_data"
    }
   ],
   "source": [
    "# Selecting the features (Series)\n",
    "x = df[['petal width (cm)', 'petal length (cm)']]\n",
    "\n",
    "# Selecting the target (Series)\n",
    "y = df['target']\n",
    "\n",
    "# Making the model with pre-analysed max_depth = 3\n",
    "max_depth_opt = 3\n",
    "clf = DecisionTreeClassifier(max_depth=max_depth_opt)\n",
    "\n",
    "# Training the model with x and y, without spliting the data\n",
    "clf.fit(x, y)\n",
    "\n",
    "# Applying the function that plots the Tree's Decision Boundaries\n",
    "plot_decision_boundary(clf, x, y)"
   ]
  },
  {
   "cell_type": "markdown",
   "metadata": {},
   "source": [
    "# Feature engineering"
   ]
  },
  {
   "cell_type": "code",
   "execution_count": 34,
   "metadata": {},
   "outputs": [],
   "source": [
    "df['petal length x width (cm)'] = df['petal length (cm)'] * df['petal width (cm)']\n",
    "df['sepal length x width (cm)'] = df['sepal length (cm)'] * df['sepal width (cm)']"
   ]
  },
  {
   "cell_type": "code",
   "execution_count": 36,
   "metadata": {},
   "outputs": [
    {
     "data": {
      "text/html": [
       "<div>\n",
       "<style scoped>\n",
       "    .dataframe tbody tr th:only-of-type {\n",
       "        vertical-align: middle;\n",
       "    }\n",
       "\n",
       "    .dataframe tbody tr th {\n",
       "        vertical-align: top;\n",
       "    }\n",
       "\n",
       "    .dataframe thead th {\n",
       "        text-align: right;\n",
       "    }\n",
       "</style>\n",
       "<table border=\"1\" class=\"dataframe\">\n",
       "  <thead>\n",
       "    <tr style=\"text-align: right;\">\n",
       "      <th></th>\n",
       "      <th>sepal length (cm)</th>\n",
       "      <th>sepal width (cm)</th>\n",
       "      <th>petal length (cm)</th>\n",
       "      <th>petal width (cm)</th>\n",
       "      <th>target</th>\n",
       "      <th>target_names</th>\n",
       "      <th>petal length x width (cm)</th>\n",
       "      <th>sepal length x width (cm)</th>\n",
       "    </tr>\n",
       "  </thead>\n",
       "  <tbody>\n",
       "    <tr>\n",
       "      <th>0</th>\n",
       "      <td>5.1</td>\n",
       "      <td>3.5</td>\n",
       "      <td>1.4</td>\n",
       "      <td>0.2</td>\n",
       "      <td>0</td>\n",
       "      <td>setosa</td>\n",
       "      <td>0.28</td>\n",
       "      <td>17.85</td>\n",
       "    </tr>\n",
       "    <tr>\n",
       "      <th>1</th>\n",
       "      <td>4.9</td>\n",
       "      <td>3.0</td>\n",
       "      <td>1.4</td>\n",
       "      <td>0.2</td>\n",
       "      <td>0</td>\n",
       "      <td>setosa</td>\n",
       "      <td>0.28</td>\n",
       "      <td>14.70</td>\n",
       "    </tr>\n",
       "    <tr>\n",
       "      <th>2</th>\n",
       "      <td>4.7</td>\n",
       "      <td>3.2</td>\n",
       "      <td>1.3</td>\n",
       "      <td>0.2</td>\n",
       "      <td>0</td>\n",
       "      <td>setosa</td>\n",
       "      <td>0.26</td>\n",
       "      <td>15.04</td>\n",
       "    </tr>\n",
       "    <tr>\n",
       "      <th>3</th>\n",
       "      <td>4.6</td>\n",
       "      <td>3.1</td>\n",
       "      <td>1.5</td>\n",
       "      <td>0.2</td>\n",
       "      <td>0</td>\n",
       "      <td>setosa</td>\n",
       "      <td>0.30</td>\n",
       "      <td>14.26</td>\n",
       "    </tr>\n",
       "    <tr>\n",
       "      <th>4</th>\n",
       "      <td>5.0</td>\n",
       "      <td>3.6</td>\n",
       "      <td>1.4</td>\n",
       "      <td>0.2</td>\n",
       "      <td>0</td>\n",
       "      <td>setosa</td>\n",
       "      <td>0.28</td>\n",
       "      <td>18.00</td>\n",
       "    </tr>\n",
       "    <tr>\n",
       "      <th>...</th>\n",
       "      <td>...</td>\n",
       "      <td>...</td>\n",
       "      <td>...</td>\n",
       "      <td>...</td>\n",
       "      <td>...</td>\n",
       "      <td>...</td>\n",
       "      <td>...</td>\n",
       "      <td>...</td>\n",
       "    </tr>\n",
       "    <tr>\n",
       "      <th>145</th>\n",
       "      <td>6.7</td>\n",
       "      <td>3.0</td>\n",
       "      <td>5.2</td>\n",
       "      <td>2.3</td>\n",
       "      <td>2</td>\n",
       "      <td>virginica</td>\n",
       "      <td>11.96</td>\n",
       "      <td>20.10</td>\n",
       "    </tr>\n",
       "    <tr>\n",
       "      <th>146</th>\n",
       "      <td>6.3</td>\n",
       "      <td>2.5</td>\n",
       "      <td>5.0</td>\n",
       "      <td>1.9</td>\n",
       "      <td>2</td>\n",
       "      <td>virginica</td>\n",
       "      <td>9.50</td>\n",
       "      <td>15.75</td>\n",
       "    </tr>\n",
       "    <tr>\n",
       "      <th>147</th>\n",
       "      <td>6.5</td>\n",
       "      <td>3.0</td>\n",
       "      <td>5.2</td>\n",
       "      <td>2.0</td>\n",
       "      <td>2</td>\n",
       "      <td>virginica</td>\n",
       "      <td>10.40</td>\n",
       "      <td>19.50</td>\n",
       "    </tr>\n",
       "    <tr>\n",
       "      <th>148</th>\n",
       "      <td>6.2</td>\n",
       "      <td>3.4</td>\n",
       "      <td>5.4</td>\n",
       "      <td>2.3</td>\n",
       "      <td>2</td>\n",
       "      <td>virginica</td>\n",
       "      <td>12.42</td>\n",
       "      <td>21.08</td>\n",
       "    </tr>\n",
       "    <tr>\n",
       "      <th>149</th>\n",
       "      <td>5.9</td>\n",
       "      <td>3.0</td>\n",
       "      <td>5.1</td>\n",
       "      <td>1.8</td>\n",
       "      <td>2</td>\n",
       "      <td>virginica</td>\n",
       "      <td>9.18</td>\n",
       "      <td>17.70</td>\n",
       "    </tr>\n",
       "  </tbody>\n",
       "</table>\n",
       "<p>150 rows × 8 columns</p>\n",
       "</div>"
      ],
      "text/plain": [
       "     sepal length (cm)  sepal width (cm)  petal length (cm)  petal width (cm)  \\\n",
       "0                  5.1               3.5                1.4               0.2   \n",
       "1                  4.9               3.0                1.4               0.2   \n",
       "2                  4.7               3.2                1.3               0.2   \n",
       "3                  4.6               3.1                1.5               0.2   \n",
       "4                  5.0               3.6                1.4               0.2   \n",
       "..                 ...               ...                ...               ...   \n",
       "145                6.7               3.0                5.2               2.3   \n",
       "146                6.3               2.5                5.0               1.9   \n",
       "147                6.5               3.0                5.2               2.0   \n",
       "148                6.2               3.4                5.4               2.3   \n",
       "149                5.9               3.0                5.1               1.8   \n",
       "\n",
       "     target target_names  petal length x width (cm)  sepal length x width (cm)  \n",
       "0         0       setosa                       0.28                      17.85  \n",
       "1         0       setosa                       0.28                      14.70  \n",
       "2         0       setosa                       0.26                      15.04  \n",
       "3         0       setosa                       0.30                      14.26  \n",
       "4         0       setosa                       0.28                      18.00  \n",
       "..      ...          ...                        ...                        ...  \n",
       "145       2    virginica                      11.96                      20.10  \n",
       "146       2    virginica                       9.50                      15.75  \n",
       "147       2    virginica                      10.40                      19.50  \n",
       "148       2    virginica                      12.42                      21.08  \n",
       "149       2    virginica                       9.18                      17.70  \n",
       "\n",
       "[150 rows x 8 columns]"
      ]
     },
     "execution_count": 36,
     "metadata": {},
     "output_type": "execute_result"
    }
   ],
   "source": [
    "df"
   ]
  },
  {
   "cell_type": "markdown",
   "metadata": {},
   "source": [
    "The following code will plot the classes versus the newly derived features:"
   ]
  },
  {
   "cell_type": "code",
   "execution_count": 48,
   "metadata": {},
   "outputs": [
    {
     "name": "stderr",
     "output_type": "stream",
     "text": [
      "/home/anandaheino/anaconda3/lib/python3.7/site-packages/ipykernel_launcher.py:15: UserWarning: Matplotlib is currently using module://ipykernel.pylab.backend_inline, which is a non-GUI backend, so cannot show the figure.\n",
      "  from ipykernel import kernelapp as app\n"
     ]
    },
    {
     "data": {
      "image/png": "[encoded data removed]",
      "text/plain": [
       "<Figure size 432x216 with 1 Axes>"
      ]
     },
     "metadata": {
      "needs_background": "light"
     },
     "output_type": "display_data"
    }
   ],
   "source": [
    "fig, ax = plt.subplots(1, 1, figsize=(6, 3));\n",
    "\n",
    "h_label = 'petal length (cm)'\n",
    "v_label = 'petal width (cm)'\n",
    "\n",
    "for c in df['target'].value_counts().index.tolist():\n",
    "    df[df['target'] == c].plot(title='Class distribution vs PETAL features',\n",
    "                               kind='scatter', x=h_label, y=v_label, \n",
    "                               color=['r', 'g', 'b'][c], # Each class different color\n",
    "                               marker=f'${c}$', # Use class id as marker\n",
    "                               s=64, alpha=0.5, ax=ax)\n",
    "\n",
    "    \n",
    "\n",
    "fig.show()"
   ]
  },
  {
   "cell_type": "code",
   "execution_count": 49,
   "metadata": {},
   "outputs": [
    {
     "name": "stderr",
     "output_type": "stream",
     "text": [
      "/home/anandaheino/anaconda3/lib/python3.7/site-packages/ipykernel_launcher.py:13: UserWarning: Matplotlib is currently using module://ipykernel.pylab.backend_inline, which is a non-GUI backend, so cannot show the figure.\n",
      "  del sys.path[0]\n"
     ]
    },
    {
     "data": {
      "image/png": "[encoded data removed]",
      "text/plain": [
       "<Figure size 432x216 with 1 Axes>"
      ]
     },
     "metadata": {
      "needs_background": "light"
     },
     "output_type": "display_data"
    }
   ],
   "source": [
    "fig, ax = plt.subplots(1, 1, figsize=(6, 3));\n",
    "\n",
    "h_label = 'sepal length (cm)'\n",
    "v_label = 'sepal width (cm)'\n",
    "\n",
    "for c in df['target'].value_counts().index.tolist():\n",
    "    df[df['target'] == c].plot(title='Class distribution vs SEPAL features',\n",
    "                               kind='scatter', x=h_label, y=v_label, \n",
    "                               color=['r', 'g', 'b'][c], # Each class different color\n",
    "                               marker=f'${c}$', # Use class id as marker\n",
    "                               s=64, alpha=0.5, ax=ax)\n",
    "    \n",
    "fig.show()"
   ]
  },
  {
   "cell_type": "code",
   "execution_count": 50,
   "metadata": {},
   "outputs": [
    {
     "name": "stderr",
     "output_type": "stream",
     "text": [
      "/home/anandaheino/anaconda3/lib/python3.7/site-packages/ipykernel_launcher.py:13: UserWarning: Matplotlib is currently using module://ipykernel.pylab.backend_inline, which is a non-GUI backend, so cannot show the figure.\n",
      "  del sys.path[0]\n"
     ]
    },
    {
     "data": {
      "image/png": "[encoded data removed]",
      "text/plain": [
       "<Figure size 432x216 with 1 Axes>"
      ]
     },
     "metadata": {
      "needs_background": "light"
     },
     "output_type": "display_data"
    }
   ],
   "source": [
    "fig, ax = plt.subplots(1, 1, figsize=(6, 3));\n",
    "\n",
    "h_label = 'petal length x width (cm)'\n",
    "v_label = 'sepal length x width (cm)'\n",
    "\n",
    "for c in df['target'].value_counts().index.tolist():\n",
    "    df[df['target'] == c].plot(title='Class distribution vs the NEWLY derived features',\n",
    "                               kind='scatter', x=h_label, y=v_label, \n",
    "                               color=['r', 'g', 'b'][c], # Each class different color\n",
    "                               marker=f'${c}$', # Use class id as marker\n",
    "                               s=64, alpha=0.5, ax=ax)\n",
    "\n",
    "fig.show()"
   ]
  },
  {
   "cell_type": "markdown",
   "metadata": {},
   "source": [
    "# This new projection looks better! \n",
    "- The Data is better vertically separable;\n",
    "- So, let's train two classifiers—one on theoriginal features and one on the newly derived features\n",
    "- Let's compare their accuracies. \n",
    "\n"
   ]
  },
  {
   "cell_type": "code",
   "execution_count": 95,
   "metadata": {},
   "outputs": [],
   "source": [
    "# Both features for future comparison \n",
    "features_orig = iris.feature_names\n",
    "features_new = ['petal length x width (cm)', 'sepal length x width (cm)']\n",
    "\n",
    "# Creating accuracy scores lists of both \n",
    "accuracy_scores_orig = []\n",
    "accuracy_scores_new = []"
   ]
  },
  {
   "cell_type": "code",
   "execution_count": 96,
   "metadata": {},
   "outputs": [],
   "source": [
    "# Iterating in 500 random splitting, training and storing the scores in each list\n",
    "for c in range(1, 501):\n",
    "    \n",
    "    df_train, df_test = train_test_split(df, test_size=0.3)\n",
    "    \n",
    "    x_train_orig = df_train[features_orig]\n",
    "    x_test_orig = df_test[features_orig]\n",
    "    x_train_new = df_train[features_new]\n",
    "    x_test_new = df_test[features_new]\n",
    "    \n",
    "    y_train = df_train['target']\n",
    "    y_test = df_test['target']\n",
    "    \n",
    "    # Setting the optimal max_depth as 3\n",
    "    clf_orig = DecisionTreeClassifier(max_depth=3)\n",
    "    clf_new = DecisionTreeClassifier(max_depth=3)\n",
    "    \n",
    "    # Training both models\n",
    "    clf_orig.fit(x_train_orig, y_train)\n",
    "    clf_new.fit(x_train_new, y_train)\n",
    "    \n",
    "    # predicting the results for both models, using the x_test variable\n",
    "    y_pred_orig = clf_orig.predict(x_test_orig)\n",
    "    y_pred_new = clf_new.predict(x_test_new)\n",
    "    \n",
    "    # Comparing the results using the predicted y and the test y, also appending the the list:\n",
    "    accuracy_scores_orig.append(round(accuracy_score(y_test, y_pred_orig),3))\n",
    "    accuracy_scores_new.append(round(accuracy_score(y_test, y_pred_new),3))"
   ]
  },
  {
   "cell_type": "code",
   "execution_count": 97,
   "metadata": {},
   "outputs": [],
   "source": [
    "# Transforming the lists into Series\n",
    "accuracy_scores_orig = pd.Series(accuracy_scores_orig)\n",
    "accuracy_scores_new = pd.Series(accuracy_scores_new)"
   ]
  },
  {
   "cell_type": "markdown",
   "metadata": {},
   "source": [
    "# Box plots to compare the accuracies of the two classifiers:"
   ]
  },
  {
   "cell_type": "code",
   "execution_count": 101,
   "metadata": {},
   "outputs": [
    {
     "name": "stderr",
     "output_type": "stream",
     "text": [
      "/home/anandaheino/anaconda3/lib/python3.7/site-packages/ipykernel_launcher.py:7: UserWarning: Matplotlib is currently using module://ipykernel.pylab.backend_inline, which is a non-GUI backend, so cannot show the figure.\n",
      "  import sys\n"
     ]
    },
    {
     "data": {
      "image/png": "[encoded data removed]",
      "text/plain": [
       "<Figure size 864x216 with 2 Axes>"
      ]
     },
     "metadata": {
      "needs_background": "light"
     },
     "output_type": "display_data"
    }
   ],
   "source": [
    "fig, axs = plt.subplots(1, 2, figsize=(12, 3), sharey=True);\n",
    "\n",
    "accuracy_scores_orig.plot(title='Distribution of classifier accuracy [Original Features]',kind='box',grid=True,ax=axs[0])\n",
    "\n",
    "accuracy_scores_new.plot(title='Distribution of classifier accuracy [New Features]',kind='box',grid=True,ax=axs[1])\n",
    "\n",
    "fig.show()"
   ]
  },
  {
   "cell_type": "code",
   "execution_count": null,
   "metadata": {},
   "outputs": [],
   "source": []
  }
 ],
 "metadata": {
  "kernelspec": {
   "display_name": "Python 3",
   "language": "python",
   "name": "python3"
  },
  "language_info": {
   "codemirror_mode": {
    "name": "ipython",
    "version": 3
   },
   "file_extension": ".py",
   "mimetype": "text/x-python",
   "name": "python",
   "nbconvert_exporter": "python",
   "pygments_lexer": "ipython3",
   "version": "3.9.6"
  }
 },
 "nbformat": 4,
 "nbformat_minor": 4
}
