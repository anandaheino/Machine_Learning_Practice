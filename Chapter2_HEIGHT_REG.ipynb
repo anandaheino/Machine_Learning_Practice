{
 "cells": [
  {
   "cell_type": "markdown",
   "metadata": {},
   "source": [
    "# Predicting people's heights\n",
    "\n",
    "### Say we have two populations. \n",
    "\n",
    "Population `1` has :\n",
    "- an average height of 155 cm for females\n",
    "- standard deviation of 4\n",
    "- average height of 175 cm for males\n",
    "- with a standard deviation of 5 \n",
    "\n",
    "Population `2` has: \n",
    "- an average height of 165 cm for females\n",
    "- with a standarddeviation of 15\n",
    "- average height of 185 cm for males\n",
    "- standard deviation of 12 \n",
    "\n",
    "### We decide to take 200 males and 200 females from each population."
   ]
  },
  {
   "cell_type": "code",
   "execution_count": 1,
   "metadata": {},
   "outputs": [],
   "source": [
    "import numpy as np\n",
    "\n",
    "# Nº os samples:\n",
    "n = 200"
   ]
  },
  {
   "cell_type": "code",
   "execution_count": 2,
   "metadata": {},
   "outputs": [],
   "source": [
    "# Generating random samples from a normal gaussian distribution\n",
    "height_pop1_f = np.random.normal(loc=155, scale=4, size=n)\n",
    "height_pop1_m = np.random.normal(loc=175, scale=5, size=n)\n",
    "height_pop2_f = np.random.normal(loc=165, scale=15, size=n)\n",
    "height_pop2_m = np.random.normal(loc=185, scale=12, size=n)"
   ]
  },
  {
   "cell_type": "code",
   "execution_count": 3,
   "metadata": {},
   "outputs": [],
   "source": [
    "# We group all females together and all males together\n",
    "height_f = np.concatenate([height_pop1_f, height_pop2_f])\n",
    "height_m = np.concatenate([height_pop1_m, height_pop2_m])"
   ]
  },
  {
   "cell_type": "code",
   "execution_count": 4,
   "metadata": {},
   "outputs": [],
   "source": [
    "import pandas as pd\n",
    "\n",
    "# label 1 = female and 2 = male\n",
    "df_height = pd.DataFrame({'Gender': [1 for i in range(height_f.size)] +\n",
    "                          [2 for i in range(height_m.size)],\n",
    "                          'Height': np.concatenate((height_f, height_m))})"
   ]
  },
  {
   "cell_type": "code",
   "execution_count": 5,
   "metadata": {},
   "outputs": [
    {
     "data": {
      "text/html": [
       "<div>\n",
       "<style scoped>\n",
       "    .dataframe tbody tr th:only-of-type {\n",
       "        vertical-align: middle;\n",
       "    }\n",
       "\n",
       "    .dataframe tbody tr th {\n",
       "        vertical-align: top;\n",
       "    }\n",
       "\n",
       "    .dataframe thead th {\n",
       "        text-align: right;\n",
       "    }\n",
       "</style>\n",
       "<table border=\"1\" class=\"dataframe\">\n",
       "  <thead>\n",
       "    <tr style=\"text-align: right;\">\n",
       "      <th></th>\n",
       "      <th>Gender</th>\n",
       "      <th>Height</th>\n",
       "    </tr>\n",
       "  </thead>\n",
       "  <tbody>\n",
       "    <tr>\n",
       "      <th>0</th>\n",
       "      <td>1</td>\n",
       "      <td>154.552789</td>\n",
       "    </tr>\n",
       "    <tr>\n",
       "      <th>1</th>\n",
       "      <td>1</td>\n",
       "      <td>148.377204</td>\n",
       "    </tr>\n",
       "    <tr>\n",
       "      <th>2</th>\n",
       "      <td>1</td>\n",
       "      <td>155.868969</td>\n",
       "    </tr>\n",
       "    <tr>\n",
       "      <th>3</th>\n",
       "      <td>1</td>\n",
       "      <td>153.947964</td>\n",
       "    </tr>\n",
       "    <tr>\n",
       "      <th>4</th>\n",
       "      <td>1</td>\n",
       "      <td>153.571907</td>\n",
       "    </tr>\n",
       "    <tr>\n",
       "      <th>...</th>\n",
       "      <td>...</td>\n",
       "      <td>...</td>\n",
       "    </tr>\n",
       "    <tr>\n",
       "      <th>795</th>\n",
       "      <td>2</td>\n",
       "      <td>184.019698</td>\n",
       "    </tr>\n",
       "    <tr>\n",
       "      <th>796</th>\n",
       "      <td>2</td>\n",
       "      <td>183.301816</td>\n",
       "    </tr>\n",
       "    <tr>\n",
       "      <th>797</th>\n",
       "      <td>2</td>\n",
       "      <td>172.798531</td>\n",
       "    </tr>\n",
       "    <tr>\n",
       "      <th>798</th>\n",
       "      <td>2</td>\n",
       "      <td>185.511930</td>\n",
       "    </tr>\n",
       "    <tr>\n",
       "      <th>799</th>\n",
       "      <td>2</td>\n",
       "      <td>151.727894</td>\n",
       "    </tr>\n",
       "  </tbody>\n",
       "</table>\n",
       "<p>800 rows × 2 columns</p>\n",
       "</div>"
      ],
      "text/plain": [
       "     Gender      Height\n",
       "0         1  154.552789\n",
       "1         1  148.377204\n",
       "2         1  155.868969\n",
       "3         1  153.947964\n",
       "4         1  153.571907\n",
       "..      ...         ...\n",
       "795       2  184.019698\n",
       "796       2  183.301816\n",
       "797       2  172.798531\n",
       "798       2  185.511930\n",
       "799       2  151.727894\n",
       "\n",
       "[800 rows x 2 columns]"
      ]
     },
     "execution_count": 5,
     "metadata": {},
     "output_type": "execute_result"
    }
   ],
   "source": [
    "df_height"
   ]
  },
  {
   "cell_type": "markdown",
   "metadata": {},
   "source": [
    "Let's plot our fictional data using histograms to see the height distributions among each\n",
    "gender:"
   ]
  },
  {
   "cell_type": "code",
   "execution_count": 6,
   "metadata": {},
   "outputs": [
    {
     "name": "stderr",
     "output_type": "stream",
     "text": [
      "/home/anandaheino/anaconda3/lib/python3.7/site-packages/ipykernel_launcher.py:12: UserWarning: Matplotlib is currently using module://ipykernel.pylab.backend_inline, which is a non-GUI backend, so cannot show the figure.\n",
      "  if sys.path[0] == '':\n"
     ]
    },
    {
     "data": {
      "image/png": "[encoded data removed]",
      "text/plain": [
       "<Figure size 720x360 with 1 Axes>"
      ]
     },
     "metadata": {
      "needs_background": "light"
     },
     "output_type": "display_data"
    }
   ],
   "source": [
    "import matplotlib.pyplot as plt\n",
    "\n",
    "fig, ax = plt.subplots(1,1, figsize=(10, 5))\n",
    "\n",
    "df_height[df_height['Gender'] == 1]['Height'].plot(\n",
    "    label='Female', kind='hist', bins=10, alpha=0.7, ax=ax)\n",
    "\n",
    "df_height[df_height['Gender'] == 2]['Height'].plot(\n",
    "    label='Male', kind= 'hist', bins=10, alpha=0.7, ax=ax)\n",
    "\n",
    "ax.legend()\n",
    "fig.show()"
   ]
  },
  {
   "cell_type": "markdown",
   "metadata": {},
   "source": [
    "## The resulting distributions are not symmetrical. \n",
    "\n",
    "Although normal distributions are symmetrical, these artificial distributions are made of two sub-distributions combined. \n",
    "\n",
    "We can use this line of code to see that their mean and median are different:\n"
   ]
  },
  {
   "cell_type": "code",
   "execution_count": 7,
   "metadata": {},
   "outputs": [
    {
     "data": {
      "text/html": [
       "<div>\n",
       "<style scoped>\n",
       "    .dataframe tbody tr th:only-of-type {\n",
       "        vertical-align: middle;\n",
       "    }\n",
       "\n",
       "    .dataframe tbody tr th {\n",
       "        vertical-align: top;\n",
       "    }\n",
       "\n",
       "    .dataframe thead tr th {\n",
       "        text-align: left;\n",
       "    }\n",
       "\n",
       "    .dataframe thead tr:last-of-type th {\n",
       "        text-align: right;\n",
       "    }\n",
       "</style>\n",
       "<table border=\"1\" class=\"dataframe\">\n",
       "  <thead>\n",
       "    <tr>\n",
       "      <th></th>\n",
       "      <th colspan=\"2\" halign=\"left\">Height</th>\n",
       "    </tr>\n",
       "    <tr>\n",
       "      <th></th>\n",
       "      <th>mean</th>\n",
       "      <th>median</th>\n",
       "    </tr>\n",
       "    <tr>\n",
       "      <th>Gender</th>\n",
       "      <th></th>\n",
       "      <th></th>\n",
       "    </tr>\n",
       "  </thead>\n",
       "  <tbody>\n",
       "    <tr>\n",
       "      <th>1</th>\n",
       "      <td>160.78</td>\n",
       "      <td>157.69</td>\n",
       "    </tr>\n",
       "    <tr>\n",
       "      <th>2</th>\n",
       "      <td>180.52</td>\n",
       "      <td>178.71</td>\n",
       "    </tr>\n",
       "  </tbody>\n",
       "</table>\n",
       "</div>"
      ],
      "text/plain": [
       "        Height        \n",
       "          mean  median\n",
       "Gender                \n",
       "1       160.78  157.69\n",
       "2       180.52  178.71"
      ]
     },
     "execution_count": 7,
     "metadata": {},
     "output_type": "execute_result"
    }
   ],
   "source": [
    "df_height.groupby('Gender')[['Height']].agg([np.mean, np.median]).round(2)"
   ]
  },
  {
   "cell_type": "markdown",
   "metadata": {},
   "source": [
    "### 1 FEATURE: gender\n",
    "### TERGET: height  "
   ]
  },
  {
   "cell_type": "code",
   "execution_count": 10,
   "metadata": {},
   "outputs": [],
   "source": [
    "from sklearn.model_selection import train_test_split\n",
    "\n",
    "df_train, df_test = train_test_split(df_height, test_size=0.3)\n",
    "\n",
    "x_train, x_test = df_train[['Gender']], df_test[['Gender']]\n",
    "y_train, y_test = df_train[['Height']], df_test[['Height']]"
   ]
  },
  {
   "cell_type": "markdown",
   "metadata": {},
   "source": [
    "In regression we want the members of each group to have target values that are as close as possible to the predictions they make. \n",
    "\n",
    "### scikit-learn implements two criteria to achieve this goal:\n",
    "\n",
    "1) Mean absolute error (MAE or L1)\n",
    "\n",
    "2) Mean squared error (MSE or L2)\n",
    "\n",
    "## Let's now compare the effect of the splitting criteria on our height dataset:"
   ]
  },
  {
   "cell_type": "code",
   "execution_count": 16,
   "metadata": {},
   "outputs": [
    {
     "name": "stdout",
     "output_type": "stream",
     "text": [
      "\n",
      "criterion=\u001b[33mmse\u001b[m:\n",
      "\n",
      "|--- Gender <= 1.5\n",
      "|   |--- value: [160.1]\n",
      "|--- Gender >  1.5\n",
      "|   |--- value: [180.5]\n",
      "\n",
      "\n",
      "criterion=\u001b[33mmae\u001b[m:\n",
      "\n",
      "|--- Gender <= 1.5\n",
      "|   |--- value: [157.3]\n",
      "|--- Gender >  1.5\n",
      "|   |--- value: [178.7]\n",
      "\n"
     ]
    }
   ],
   "source": [
    "from sklearn.tree import export_text\n",
    "from sklearn.tree import DecisionTreeRegressor\n",
    "\n",
    "for criterion in ['mse', 'mae']:\n",
    "    rgrsr = DecisionTreeRegressor(criterion=criterion)    # Here we pass the Criterion, MSE or MAE\n",
    "    rgrsr.fit(x_train, y_train)\n",
    "    print(f'\\ncriterion=\\033[33m{criterion}\\033[m:\\n')\n",
    "    print(export_text(rgrsr, feature_names=['Gender'], spacing=3,decimals=1))   # Showing the Decision tree"
   ]
  },
  {
   "cell_type": "code",
   "execution_count": 7,
   "metadata": {},
   "outputs": [
    {
     "data": {
      "text/html": [
       "<div>\n",
       "<style scoped>\n",
       "    .dataframe tbody tr th:only-of-type {\n",
       "        vertical-align: middle;\n",
       "    }\n",
       "\n",
       "    .dataframe tbody tr th {\n",
       "        vertical-align: top;\n",
       "    }\n",
       "\n",
       "    .dataframe thead tr th {\n",
       "        text-align: left;\n",
       "    }\n",
       "\n",
       "    .dataframe thead tr:last-of-type th {\n",
       "        text-align: right;\n",
       "    }\n",
       "</style>\n",
       "<table border=\"1\" class=\"dataframe\">\n",
       "  <thead>\n",
       "    <tr>\n",
       "      <th></th>\n",
       "      <th colspan=\"2\" halign=\"left\">Height</th>\n",
       "    </tr>\n",
       "    <tr>\n",
       "      <th></th>\n",
       "      <th>mean</th>\n",
       "      <th>median</th>\n",
       "    </tr>\n",
       "    <tr>\n",
       "      <th>Gender</th>\n",
       "      <th></th>\n",
       "      <th></th>\n",
       "    </tr>\n",
       "  </thead>\n",
       "  <tbody>\n",
       "    <tr>\n",
       "      <th>1</th>\n",
       "      <td>160.78</td>\n",
       "      <td>157.69</td>\n",
       "    </tr>\n",
       "    <tr>\n",
       "      <th>2</th>\n",
       "      <td>180.52</td>\n",
       "      <td>178.71</td>\n",
       "    </tr>\n",
       "  </tbody>\n",
       "</table>\n",
       "</div>"
      ],
      "text/plain": [
       "        Height        \n",
       "          mean  median\n",
       "Gender                \n",
       "1       160.78  157.69\n",
       "2       180.52  178.71"
      ]
     },
     "execution_count": 7,
     "metadata": {},
     "output_type": "execute_result"
    }
   ],
   "source": [
    "df_height.groupby('Gender')[['Height']].agg([np.mean, np.median]).round(2)"
   ]
  },
  {
   "cell_type": "markdown",
   "metadata": {},
   "source": [
    "### As expected:\n",
    "- whit MSE, the predictions were close to the mean of each gender\n",
    "- whit MAE, the predictions were close to the median."
   ]
  },
  {
   "cell_type": "markdown",
   "metadata": {},
   "source": [
    "# Regressor's evaluation\n",
    "\n",
    "The very same MSE and MAE scores can also be used to evaluate a regressor's accuracy.\n",
    "\n",
    "We use them to compare the regressor's predictions to the actual targets in the test set"
   ]
  },
  {
   "cell_type": "code",
   "execution_count": 21,
   "metadata": {},
   "outputs": [
    {
     "name": "stdout",
     "output_type": "stream",
     "text": [
      "\n",
      "criterion=\u001b[33mmse\u001b[m:\n",
      "\n",
      "\n",
      "MSE: 138.18951878642125\n",
      "\n",
      "MAE: 9.023771869667803\n",
      "\n",
      "criterion=\u001b[33mmae\u001b[m:\n",
      "\n",
      "\n",
      "MSE: 150.1739596990521\n",
      "\n",
      "MAE: 8.954301928129262\n",
      "----------------------------------------------------------------------------------------------------\n"
     ]
    }
   ],
   "source": [
    "from sklearn.metrics import mean_absolute_error, mean_squared_error\n",
    "\n",
    "for criterion in ['mse', 'mae']:\n",
    "    rgrsr = DecisionTreeRegressor(criterion=criterion)    # Here we pass the Criterion, MSE or MAE\n",
    "    rgrsr.fit(x_train, y_train)\n",
    "    y_test_pred = rgrsr.predict(x_test)\n",
    "    print(f'\\ncriterion=\\033[33m{criterion}\\033[m:\\n')\n",
    "    print('\\nMSE:', mean_squared_error(y_test, y_test_pred))\n",
    "    print('\\nMAE:', mean_absolute_error(y_test, y_test_pred))\n",
    "    \n",
    "print('--'*50)"
   ]
  },
  {
   "cell_type": "markdown",
   "metadata": {},
   "source": [
    "## -  Using MAE as the splitting criterion: gives a lower MAE at test time.\n",
    "## - Using MSE as the splitting criterion: gives a lower MSE at test time. \n",
    "\n",
    "So, if the aim is to reduce the predictions errors (based on a certain metric), it is\n",
    "advised to use the same metric when growing your tree at the time of training.\n",
    "\n",
    "# Setting sample weights\n",
    "\n",
    "Both the decision tree classifiers and the regressors allow us to give more or less emphasis to the individual training samples via setting their weights while fitting. \n",
    "\n",
    "This is a common feature in many estimators, and decision trees are no exception here. \n",
    "\n",
    "To see the effect of sample weights, we are going to give 10 times more weight to users above 150 cm versus the remaining users:"
   ]
  },
  {
   "cell_type": "code",
   "execution_count": 26,
   "metadata": {},
   "outputs": [
    {
     "data": {
      "text/plain": [
       "424    167.378955\n",
       "684    181.078168\n",
       "750    185.035894\n",
       "313    164.224056\n",
       "517    177.444166\n",
       "          ...    \n",
       "58     157.288365\n",
       "109    156.522893\n",
       "168    155.687277\n",
       "583    177.599959\n",
       "245    166.322864\n",
       "Name: Height, Length: 560, dtype: float64"
      ]
     },
     "execution_count": 26,
     "metadata": {},
     "output_type": "execute_result"
    }
   ],
   "source": [
    "y_train['Height']"
   ]
  },
  {
   "cell_type": "code",
   "execution_count": 30,
   "metadata": {},
   "outputs": [
    {
     "name": "stdout",
     "output_type": "stream",
     "text": [
      "\n",
      "criterion=\u001b[33m MSE \u001b[m:\n",
      "\n",
      "|--- Gender <= 1.5\n",
      "|   |--- value: [161.3]\n",
      "|--- Gender >  1.5\n",
      "|   |--- value: [180.5]\n",
      "\n"
     ]
    }
   ],
   "source": [
    "rgrsr = DecisionTreeRegressor(criterion='mse')\n",
    "sample_weight = y_train['Height'].apply(lambda h: 10 if h > 150 else 1)\n",
    "rgrsr.fit(x_train, y_train, sample_weight=sample_weight)\n",
    "\n",
    "print(f'\\ncriterion=\\033[33m MSE \\033[m:\\n')\n",
    "print(export_text(rgrsr, feature_names=['Gender'], spacing=3,decimals=1))   # Showing the Decision tree"
   ]
  },
  {
   "cell_type": "code",
   "execution_count": 31,
   "metadata": {},
   "outputs": [
    {
     "name": "stdout",
     "output_type": "stream",
     "text": [
      "\n",
      "criterion=\u001b[33m MAE \u001b[m:\n",
      "\n",
      "|--- Gender <= 1.5\n",
      "|   |--- value: [151.1]\n",
      "|--- Gender >  1.5\n",
      "|   |--- value: [178.7]\n",
      "\n"
     ]
    }
   ],
   "source": [
    "rgrsr = DecisionTreeRegressor(criterion='mae')\n",
    "sample_weight = y_train['Height'].apply(lambda h: 10 if h <= 150 else 1)\n",
    "rgrsr.fit(x_train, y_train, sample_weight=sample_weight)\n",
    "\n",
    "print(f'\\ncriterion=\\033[33m MAE \\033[m:\\n')\n",
    "print(export_text(rgrsr, feature_names=['Gender'], spacing=3,decimals=1))   # Showing the Decision tree"
   ]
  },
  {
   "cell_type": "code",
   "execution_count": null,
   "metadata": {},
   "outputs": [],
   "source": []
  }
 ],
 "metadata": {
  "kernelspec": {
   "display_name": "Python 3",
   "language": "python",
   "name": "python3"
  },
  "language_info": {
   "codemirror_mode": {
    "name": "ipython",
    "version": 3
   },
   "file_extension": ".py",
   "mimetype": "text/x-python",
   "name": "python",
   "nbconvert_exporter": "python",
   "pygments_lexer": "ipython3",
   "version": "3.7.6"
  }
 },
 "nbformat": 4,
 "nbformat_minor": 4
}
