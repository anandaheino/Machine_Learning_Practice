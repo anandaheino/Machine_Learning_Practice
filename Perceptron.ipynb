{
 "cells": [
  {
   "cell_type": "markdown",
   "id": "a233d743-cc9c-4529-ab2b-9c9eec735a10",
   "metadata": {},
   "source": [
    "# Perceptron \n",
    "\n",
    "- It's a basic model of Neural Network\n",
    "- This algorith uses a step function to its classification\n",
    "- It is a model of a single neuron that can be used for two-class classification problems\n",
    "- It provides the foundation for later developing much larger networks (like Multi Layer Perceptron)\n",
    "- It was one of the first models\n",
    "    - _STEP_ function for binary classification\n",
    "    - X1 and X2 multiplies by the wights and compare it with the BIAS\n",
    "        - higher than X0 = bias = 1 ---> entra na classe 1\n",
    "        - lower than X0 = bias ----> classe 0\n",
    "    - X0 . theta0 + X1 . theta1 + X2 . theta2 \n",
    "\n",
    "![perceptron](https://c.mql5.com/2/41/512210577402.png)\n",
    "\n",
    "## Introduction\n",
    "\n",
    "Perceptron was inspired in the human brain, specifically by the information processing of a single neural cell called a neuron.\n",
    "\n",
    "Invented by Frank Rosenblatt, based in **McCulloch-Pitts** 's neuron.\n",
    "\n",
    "- McCulloch-Pitts was different because it didn't had weights.\n",
    "- This was a major advance for the perceptron, with weights we can do much more\n",
    "- It's very basic, so now it's not used anymore ( perceptron )\n",
    "- But the concept is simple and important for further comprehension\n",
    "- The neuron's type is SIGMOIDAL -> trades the step function for the sigmoide function\n",
    "\n",
    "## Implementation"
   ]
  },
  {
   "cell_type": "code",
   "execution_count": 4,
   "id": "04ad2913-85e0-47a1-9e0e-3716ac8cae6d",
   "metadata": {},
   "outputs": [
    {
     "data": {
      "image/png": "[encoded data removed]",
      "text/plain": [
       "<Figure size 800x600 with 1 Axes>"
      ]
     },
     "metadata": {},
     "output_type": "display_data"
    }
   ],
   "source": [
    "import numpy as np\n",
    "import matplotlib.pyplot as plt\n",
    "from sklearn import datasets\n",
    "\n",
    "# generating data for classification\n",
    "X, y = datasets.make_blobs(n_samples=150,n_features=2,\n",
    "                           centers=2,cluster_std=1.05,\n",
    "                           random_state=2)\n",
    "\n",
    "#Plotting\n",
    "fig = plt.figure(figsize=(8,6))\n",
    "plt.plot(X[:, 0][y == 0], X[:, 1][y == 0], 'r^')\n",
    "plt.plot(X[:, 0][y == 1], X[:, 1][y == 1], 'bs')\n",
    "plt.xlabel(\"feature 1\")\n",
    "plt.ylabel(\"feature 2\")\n",
    "plt.title('Random data classification in 2 classes')\n",
    "plt.show()"
   ]
  },
  {
   "cell_type": "code",
   "execution_count": 5,
   "id": "6de120ff-9019-4bf3-90ad-0ecb867d5bec",
   "metadata": {},
   "outputs": [],
   "source": [
    "# implementing the Perceptron:\n",
    "learning_rate = 0.5  # setting the learning rate, it's like the step of the coast function.\n",
    "epochs = 100         # Number of iterations\n",
    "\n",
    "# m-> trainning samples\n",
    "# n-> features for each sample\n",
    "m, n = X.shape"
   ]
  },
  {
   "cell_type": "code",
   "execution_count": 7,
   "id": "a83f77bd-46d9-46ed-8edc-062aebb40449",
   "metadata": {},
   "outputs": [],
   "source": [
    "# creating the step function:\n",
    "def step_func(z):\n",
    "    return 1.0 if (z > 0) else 0.0"
   ]
  },
  {
   "cell_type": "code",
   "execution_count": 9,
   "id": "52487deb-3f97-4ea2-80b7-ee2290afc56d",
   "metadata": {},
   "outputs": [],
   "source": [
    "# starting the weights (theta) with zero\n",
    "# n+1 number of weighs + 1 that is the bias\n",
    "theta = np.zeros((n+1,1))\n",
    "\n",
    "# list of the missed results - wrongly classified for each iteration\n",
    "n_miss_list = []\n",
    "\n",
    "# trainning\n",
    "for epoch in range(epochs):    # epochs = 100\n",
    "\n",
    "    # variável que armazena número de amostras classificadas com rótulo errado.\n",
    "    n_miss = 0\n",
    "\n",
    "    # each trainning sample\n",
    "    for idx, x_i in enumerate(X):\n",
    "\n",
    "        # 1 is the first position of the feature vector\n",
    "        # that value is multiplied by the weight, theta_0, that meand, the bias\n",
    "        x_i = np.insert(x_i, 0, 1).reshape(-1,1)\n",
    "\n",
    "        # estimating the new label\n",
    "        y_hat = step_func(np.dot(x_i.T, theta))\n",
    "\n",
    "        # Compare the predicted label with the real one\n",
    "        # squeeze removes one dimension\n",
    "        if (np.squeeze(y_hat) - y[idx]) != 0:\n",
    "            # if the classifier make some mistake, the error != 0, the weights (theta) will be optimized \n",
    "            theta += learning_rate*((y[idx] - y_hat)*x_i)\n",
    "\n",
    "            # error count \n",
    "            n_miss += 1\n",
    "\n",
    "    # at the end of this epoch, the error count is added at the list\n",
    "    n_miss_list.append(n_miss)"
   ]
  },
  {
   "cell_type": "markdown",
   "id": "32a1f367-5006-49ff-9527-e04256d2e944",
   "metadata": {},
   "source": [
    "## Evaluating the model:"
   ]
  },
  {
   "cell_type": "code",
   "execution_count": null,
   "id": "d94995af-b8a0-4b1f-89de-edd5df804946",
   "metadata": {},
   "outputs": [],
   "source": [
    "# y = mx+c = theta0.X0 + theta1.X1 + theta2.X2\n",
    "# Resolvendo podemos encontrar m e c\n",
    "x1 = [min(X[:,0]), max(X[:,0])]\n",
    "m = -theta[1]/theta[2]\n",
    "c = -theta[0]/theta[2]\n",
    "x2 = m*x1 + c\n",
    "\n",
    "# Plotting\n",
    "fig = plt.figure(figsize=(10,8))\n",
    "plt.plot(X[:, 0][y==0], X[:, 1][y==0], \"r^\")\n",
    "plt.plot(X[:, 0][y==1], X[:, 1][y==1], \"bs\")\n",
    "plt.xlabel(\"característica 1\")\n",
    "plt.ylabel(\"característica 2\")\n",
    "plt.title('Algoritmo Perceptron')\n",
    "plt.plot(x1, x2, 'y-')"
   ]
  }
 ],
 "metadata": {
  "kernelspec": {
   "display_name": "Python 3",
   "language": "python",
   "name": "python3"
  },
  "language_info": {
   "codemirror_mode": {
    "name": "ipython",
    "version": 3
   },
   "file_extension": ".py",
   "mimetype": "text/x-python",
   "name": "python",
   "nbconvert_exporter": "python",
   "pygments_lexer": "ipython3",
   "version": "3.9.6"
  }
 },
 "nbformat": 4,
 "nbformat_minor": 5
}
