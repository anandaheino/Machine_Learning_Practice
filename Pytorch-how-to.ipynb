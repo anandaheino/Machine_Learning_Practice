{
 "cells": [
  {
   "cell_type": "markdown",
   "id": "5dd7d850-3709-446b-8059-e8f76ecc0e55",
   "metadata": {},
   "source": [
    "# Introduction to PyTorch\n",
    "\n",
    "- [PyTorch](http://pytorch.org/) it's a framework for developing and training neural networks. \n",
    "- It's very similar to numpy, but here, `array` is called `tensors`\n",
    "- `tensors` make the communication between CPU and GPU much easier than `arrays`\n",
    "- also, pytorch has usefull functions to calculate gradients (which is great for backpropagation tasks) and build neural networks\n",
    "- compared with tensorflow and other frameworks, pytorch is better to work with python / numpy / scipy\n",
    "\n",
    "Simple machine learning models (e.g. like perceptron, and linear and logistic regression) must solve linear equations like:\n",
    "\n",
    "$$\n",
    "\\begin{align}\n",
    "y &= f(w_1 x_1 + w_2 x_2 + b) \\\\\n",
    "y &= f\\left(\\sum_i w_i x_i +b \\right)\n",
    "\\end{align}\n",
    "$$\n",
    "\n",
    "representing with vectors:\n",
    "\n",
    "$$\n",
    "h = \\begin{bmatrix}\n",
    "x_1 \\, x_2 \\cdots  x_n\n",
    "\\end{bmatrix}\n",
    "\\cdot \n",
    "\\begin{bmatrix}\n",
    "           w_1 \\\\\n",
    "           w_2 \\\\\n",
    "           \\vdots \\\\\n",
    "           w_n\n",
    "\\end{bmatrix}\n",
    "$$\n",
    "\n",
    "\n",
    "## Tensors\n",
    "\n",
    "- Linear algebra with `tensors`, matrix genaralization, and other math areas are  exactly what machine algorithms do..\n",
    "   - vector is a 1D tensor\n",
    "   - matrix is a 2D tensor\n",
    "   - a 3D array is a 3D tensor (e.g. RBG images)\n"
   ]
  },
  {
   "cell_type": "code",
   "execution_count": 3,
   "id": "964a7260-5f76-4c4f-b955-3264c1508d4a",
   "metadata": {},
   "outputs": [],
   "source": [
    "import torch"
   ]
  },
  {
   "cell_type": "code",
   "execution_count": 4,
   "id": "46982451-b1c8-4846-9e11-305dea1d4404",
   "metadata": {},
   "outputs": [],
   "source": [
    "def activation_function_sigmoid(x):\n",
    "    \"\"\" Defining the activation function - Sigmoid\n",
    "    \n",
    "        Args:\n",
    "        ---------\n",
    "        x: torch.Tensor\n",
    "        return: Sigmoid f(x)\n",
    "    \"\"\"\n",
    "    return 1/(1+torch.exp(-x))"
   ]
  },
  {
   "cell_type": "code",
   "execution_count": 5,
   "id": "4081220b-02ab-419a-9601-288203539976",
   "metadata": {},
   "outputs": [],
   "source": [
    "### GENERATING RANDOM DATA\n",
    "torch.manual_seed(7) # Setting the seed for replicable results\n",
    "\n",
    "# creating a tensor with 1 line (because we have only 1 sample) and 5 columns (5 features per sample), \n",
    "features = torch.randn((1, 5))     #   torch.randn ---> normal distribution with mean=0 and variance=1\n",
    "\n",
    "# generating wandom weights for the model: randn_like \n",
    "weights = torch.randn_like(features)   # it generates other tensors with the same characteristics of \"features\"\n",
    "\n",
    "# BIAS term - it's a tensor with only 1 line and 1 column\n",
    "bias = torch.randn((1, 1))"
   ]
  },
  {
   "cell_type": "code",
   "execution_count": 6,
   "id": "b61b3a6c-4138-4dc5-8eeb-0950fd3e1ce0",
   "metadata": {},
   "outputs": [
    {
     "name": "stdout",
     "output_type": "stream",
     "text": [
      "features: tensor([[-0.1468,  0.7861,  0.9468, -1.1143,  1.6908]])\n",
      "weights:  tensor([[-0.8948, -0.3556,  1.2324,  0.1382, -1.6822]])\n",
      "bias:     tensor([[0.3177]])\n"
     ]
    }
   ],
   "source": [
    "print('features:', features)\n",
    "print('weights: ', weights)\n",
    "print('bias:    ', bias)"
   ]
  },
  {
   "cell_type": "markdown",
   "id": "92abe124-0dc5-41a8-8c43-b70a537c0091",
   "metadata": {},
   "source": [
    "* Just like `arrays`, `tensors` can be added, subtracted, multiplied, etc.\n",
    "* the advantage here, it that we can use the GPU \n",
    "\n",
    "## Example: computing the output of a neuron model"
   ]
  },
  {
   "cell_type": "code",
   "execution_count": 7,
   "id": "676a2ff8-ed47-43aa-bc83-92caa52d86e3",
   "metadata": {},
   "outputs": [
    {
     "name": "stdout",
     "output_type": "stream",
     "text": [
      "option 1:  tensor([[0.1595]])\n",
      "option 2:  tensor([[0.1595]])\n",
      "option 3:  tensor([[0.1595]])\n"
     ]
    }
   ],
   "source": [
    "### HOW TO PREDICT THE OUTPUT OF THE NEURON:\n",
    "\n",
    "# Just like numpy, we can use torch.sum(), assim como o métodos .sum() nos tensores.\n",
    "\n",
    "# torch.sum(w * f + b) which is the 1st degree equation\n",
    "y1 = activation_function_sigmoid(torch.sum(features * weights) + bias)\n",
    "print('option 1: ', y1)\n",
    "\n",
    "# .sum()\n",
    "y2 = activation_function_sigmoid((features * weights).sum() + bias)\n",
    "print('option 2: ', y2)\n",
    "\n",
    "# or we can multiply the matrixes (+effective, especially with GPUs) using torch.mm() or torch.matmul()\n",
    "#  torch.mm()\n",
    "y3 = activation_function_sigmoid(torch.mm(features, weights.view(5,1)) + bias)\n",
    "print('option 3: ', y3)"
   ]
  },
  {
   "cell_type": "markdown",
   "id": "c5ad94a0-0d99-48aa-8dab-6d130c178a19",
   "metadata": {},
   "source": [
    "- As we can see, we have here 3 ways of getting to the same result!\n",
    "- Note that in 3rd option, we had to reshape our tensor weights by calling 'view(5,1)'\n",
    "- The error would be `RuntimeError: mat1 and mat2 shapes cannot be multiplied (1x5 and 1x5)`\n",
    "- To reshape our vector, we can use:\n",
    "\n",
    "    1) `tensor.shape`\n",
    "\n",
    "    2) `tensor.reshape()`\n",
    "\n",
    "    3) `tensor.resize_()`\n",
    "\n",
    "    4) `tensor.view()`"
   ]
  },
  {
   "cell_type": "code",
   "execution_count": 8,
   "id": "0e0ebeb0-95ff-44e0-a758-5d63b9b73351",
   "metadata": {},
   "outputs": [
    {
     "ename": "RuntimeError",
     "evalue": "mat1 and mat2 shapes cannot be multiplied (1x5 and 1x5)",
     "output_type": "error",
     "traceback": [
      "\u001b[1;31m---------------------------------------------------------------------------\u001b[0m",
      "\u001b[1;31mRuntimeError\u001b[0m                              Traceback (most recent call last)",
      "\u001b[1;32m<ipython-input-8-d14ea8ff5ba6>\u001b[0m in \u001b[0;36m<module>\u001b[1;34m\u001b[0m\n\u001b[1;32m----> 1\u001b[1;33m \u001b[0mtorch\u001b[0m\u001b[1;33m.\u001b[0m\u001b[0mmm\u001b[0m\u001b[1;33m(\u001b[0m\u001b[0mfeatures\u001b[0m\u001b[1;33m,\u001b[0m \u001b[0mweights\u001b[0m\u001b[1;33m)\u001b[0m   \u001b[1;31m# ERROR: just to show how it  would be if we didnt reshape the tensor weights\u001b[0m\u001b[1;33m\u001b[0m\u001b[1;33m\u001b[0m\u001b[0m\n\u001b[0m",
      "\u001b[1;31mRuntimeError\u001b[0m: mat1 and mat2 shapes cannot be multiplied (1x5 and 1x5)"
     ]
    }
   ],
   "source": [
    "#torch.mm(features, weights)   # ERROR: just to show how it  would be if we didnt reshape the tensor weights"
   ]
  },
  {
   "cell_type": "markdown",
   "id": "00d7b81f-c1b4-4323-9ff0-3e02918b93fd",
   "metadata": {},
   "source": [
    "## Converting between Numpy **and** Pytorch"
   ]
  },
  {
   "cell_type": "code",
   "execution_count": 10,
   "id": "738d091c-d4de-4f7a-8190-a83fd0e3a52c",
   "metadata": {},
   "outputs": [
    {
     "data": {
      "text/plain": [
       "array([[0.47506785, 0.62539407, 0.571893  ],\n",
       "       [0.947377  , 0.86909497, 0.53773338],\n",
       "       [0.09605942, 0.24226119, 0.11633336],\n",
       "       [0.89349753, 0.39697777, 0.89883288]])"
      ]
     },
     "execution_count": 10,
     "metadata": {},
     "output_type": "execute_result"
    }
   ],
   "source": [
    "import numpy as np\n",
    "# generating a random numpy array of 4 lines and 3 columns\n",
    "a = np.random.rand(4,3)\n",
    "a"
   ]
  },
  {
   "cell_type": "code",
   "execution_count": 11,
   "id": "f5ef6aca-a58d-486c-9d3c-7929feb6cbe1",
   "metadata": {},
   "outputs": [
    {
     "data": {
      "text/plain": [
       "tensor([[0.4751, 0.6254, 0.5719],\n",
       "        [0.9474, 0.8691, 0.5377],\n",
       "        [0.0961, 0.2423, 0.1163],\n",
       "        [0.8935, 0.3970, 0.8988]], dtype=torch.float64)"
      ]
     },
     "execution_count": 11,
     "metadata": {},
     "output_type": "execute_result"
    }
   ],
   "source": [
    "# Converting to tensor\n",
    "b = torch.from_numpy(a)\n",
    "b"
   ]
  },
  {
   "cell_type": "code",
   "execution_count": 12,
   "id": "af3b2114-e021-4255-bf6f-fdc1db87dca3",
   "metadata": {},
   "outputs": [
    {
     "data": {
      "text/plain": [
       "array([[0.47506785, 0.62539407, 0.571893  ],\n",
       "       [0.947377  , 0.86909497, 0.53773338],\n",
       "       [0.09605942, 0.24226119, 0.11633336],\n",
       "       [0.89349753, 0.39697777, 0.89883288]])"
      ]
     },
     "execution_count": 12,
     "metadata": {},
     "output_type": "execute_result"
    }
   ],
   "source": [
    "# converting back to numpy\n",
    "b.numpy()"
   ]
  },
  {
   "cell_type": "code",
   "execution_count": 13,
   "id": "b670dc14-6dd4-4ff3-88c6-37ea37d72dfe",
   "metadata": {},
   "outputs": [
    {
     "name": "stdout",
     "output_type": "stream",
     "text": [
      "tensor([[0.9501, 1.2508, 1.1438],\n",
      "        [1.8948, 1.7382, 1.0755],\n",
      "        [0.1921, 0.4845, 0.2327],\n",
      "        [1.7870, 0.7940, 1.7977]], dtype=torch.float64)\n",
      "[[0.95013569 1.25078814 1.143786  ]\n",
      " [1.894754   1.73818994 1.07546675]\n",
      " [0.19211885 0.48452238 0.23266671]\n",
      " [1.78699506 0.79395554 1.79766577]]\n"
     ]
    }
   ],
   "source": [
    "# if we change an object 'inplace', we change both objects\n",
    "# so, if we multiply 'b' by 2, in-place (passing the inplace version of mul: 'mul_')\n",
    "b.mul_(2)\n",
    "print(b)\n",
    "print(a)"
   ]
  },
  {
   "cell_type": "markdown",
   "id": "40c3df2e-e57f-477b-8679-8d5a50559686",
   "metadata": {},
   "source": [
    "## Linear Regression with PyTorch\n"
   ]
  },
  {
   "cell_type": "code",
   "execution_count": 14,
   "id": "a52be85c-2949-48e8-9f8d-2a1f33be1fa8",
   "metadata": {},
   "outputs": [],
   "source": [
    "import torch\n",
    "from torch.autograd import Variable   # variable that will be altered by gradient descent\n",
    "from torch.nn import functional as F"
   ]
  },
  {
   "cell_type": "code",
   "execution_count": 15,
   "id": "0b72d767-6252-4bff-8d59-6860e304a742",
   "metadata": {},
   "outputs": [
    {
     "name": "stdout",
     "output_type": "stream",
     "text": [
      "PyTorch version:  1.9.0\n",
      "Using GPU:  True\n",
      "GPU:  GeForce GTX 1660 Ti with Max-Q Design\n"
     ]
    }
   ],
   "source": [
    "# checking if the PyTorch version is using GPU\n",
    "print('PyTorch version: ', torch.__version__)\n",
    "print('Using GPU: ', torch.cuda.is_available())\n",
    "\n",
    "if torch.cuda.is_available():    \n",
    "    print('GPU: ',torch.cuda.get_device_name(torch.cuda.current_device()))"
   ]
  },
  {
   "cell_type": "markdown",
   "id": "c7e3efb9-8568-4a98-8e84-5ded134f7cf1",
   "metadata": {},
   "source": [
    "- At this moment, I'm not using a GPU so the message was `False`\n",
    "### Generating random samples"
   ]
  },
  {
   "cell_type": "code",
   "execution_count": 16,
   "id": "17776d07-3b25-4e47-aa3b-400be6b96b93",
   "metadata": {},
   "outputs": [
    {
     "data": {
      "text/plain": [
       "tensor([[10.],\n",
       "        [ 9.],\n",
       "        [ 3.],\n",
       "        [ 2.]])"
      ]
     },
     "execution_count": 16,
     "metadata": {},
     "output_type": "execute_result"
    }
   ],
   "source": [
    "x_data = Variable(torch.Tensor([[10.0], [9.0], [3.0], [2.0]]))\n",
    "y_data = Variable(torch.Tensor([[90.0], [80.0], [50.0], [30.0]]))\n",
    "x_data"
   ]
  },
  {
   "cell_type": "markdown",
   "id": "00a6e84c-0446-466b-8dcd-214bb013ccd2",
   "metadata": {},
   "source": [
    "### Configuring the class of our Linear Regression model\n",
    "- which will inherit from `torch.nn.Module`\n",
    "- Defining `__init__`: which inherit from the super and we add a linear layer `self.linear` with 1 feature and 1 output\n",
    "- Weights and bias are inside the layer, that why we don't define them again\n",
    "- Method `forward`: pass the instructions of the model from the input to the output\n",
    "- Linear function is very simple, so we receive $x$ and predict a value ($\\hat{y}$) for $y$."
   ]
  },
  {
   "cell_type": "code",
   "execution_count": 69,
   "id": "76dfd5f8-99f8-4dfa-b9eb-289d018ef3de",
   "metadata": {},
   "outputs": [],
   "source": [
    "class LinearRegression(torch.nn.Module):\n",
    "    def __init__(self):\n",
    "        super(LinearRegression, self).__init__()\n",
    "        self.linear = torch.nn.Linear(1, 1)  #first is the number of features, second is number of output\n",
    "    \n",
    "    # the define our forward method, we must pass x to predict y\n",
    "    def forward(self, x):\n",
    "        y_pred = self.linear(x)\n",
    "        return y_pred\n",
    "\n",
    "# instantiating the model    \n",
    "model = LinearRegression()"
   ]
  },
  {
   "cell_type": "markdown",
   "id": "346753c4-35cb-4b2b-8f38-0a060730de63",
   "metadata": {},
   "source": [
    "### Loss function (Criterion)\n",
    "\n",
    "- After executing the method `forward`, the loss function is used to compute how far if $\\hat{y}$ from $y$\n",
    "- With this loss function we can make some adjustments in the weights to get that difference closest to 0\n",
    "- We will use _Mean Square Error (MSE)_, commonly used at regression tasks.\n",
    "\n",
    "### Optimizer _Stochastic Gradient Descent (SGD)_\n",
    "- This optimizer will be used to update the weights of the model\n",
    "- the function `model.parameters()` tells our optimizer which weights will be updated\n",
    "- `lr` tells us what's going to be the learning rate\n"
   ]
  },
  {
   "cell_type": "code",
   "execution_count": 70,
   "id": "2adf3f58-fd38-4074-8add-fd2e07f793af",
   "metadata": {},
   "outputs": [],
   "source": [
    "criterion = torch.nn.MSELoss()\n",
    "optimizer = torch.optim.SGD(model.parameters(), lr=0.01)"
   ]
  },
  {
   "cell_type": "markdown",
   "id": "bce1c7ff-cfd2-42fb-b92c-4406ce1231d8",
   "metadata": {},
   "source": [
    "### Trainning the model\n",
    "after the forward step, we modify the weights by backpropagation\n",
    "\n",
    "### Backpropagation\n",
    "1) Random weights\n",
    "2) Epochs: partial \n",
    "   - partial derivative of each weight for each layer\n",
    "   - forward step calculates the function of each neuron (a)\n",
    "   - backward\n",
    "   - each neuron loss is calculated\n",
    "   - accumulate each partial derivative\n",
    "   - Mean Gradient\n",
    "   - Use Gradient Descent to update the weights\n",
    "   - evaluate the loss function **J**"
   ]
  },
  {
   "cell_type": "code",
   "execution_count": 71,
   "id": "627fb90a-cc6b-445a-adb9-acd155882b0b",
   "metadata": {},
   "outputs": [],
   "source": [
    "#difining for how many epochs we'll pass to the model\n",
    "epochs = 20\n",
    "\n",
    "for epoch in range(epochs):\n",
    "    model.train()\n",
    "       # Zero the gradients at each epoch (using backpropagation)\n",
    "    optimizer.zero_grad()\n",
    "       # Forward pass\n",
    "    y_pred = model(x_data)\n",
    "       # Computa o erro\n",
    "    loss = criterion(y_pred, y_data)\n",
    "       # propagate error to the previous layers\n",
    "    loss.backward()\n",
    "       # Atualiza os pesos\n",
    "    optimizer.step()"
   ]
  },
  {
   "cell_type": "markdown",
   "id": "97d22f73-48c0-482b-a778-10d983d82cfb",
   "metadata": {},
   "source": [
    "### Making predictions"
   ]
  },
  {
   "cell_type": "code",
   "execution_count": 72,
   "id": "626b2e86-2855-42f3-91a9-5bb6dd14f593",
   "metadata": {},
   "outputs": [
    {
     "name": "stdout",
     "output_type": "stream",
     "text": [
      "estimated value:  39.59628677368164\n"
     ]
    }
   ],
   "source": [
    "new_x = Variable(torch.Tensor([[4.0]]))\n",
    "y_pred = model(new_x)\n",
    "print(\"estimated value: \", float(y_pred.data[0][0]))"
   ]
  },
  {
   "cell_type": "markdown",
   "id": "00269a80-7cde-46cc-9c47-a10b1796ab05",
   "metadata": {},
   "source": [
    "## Logistic Regression\n",
    "- Using Fashion MNIST data \n",
    "- pixels : **28 x 28**\n",
    "- 10 classes of each type (e.g.: 10 pants, 10 shoes, 10 shirts,...)\n",
    "\n",
    "![MNIST](https://d2908q01vomqb2.cloudfront.net/f1f836cb4ea6efb2a0b1b99f41ad8b103eff4b59/2018/05/04/ImagesSageMaker3.png)\n",
    "\n",
    "## Transforms\n",
    "- PyTorch can't process an image pixel directly \n",
    "- So, the images needs to be converted to tensors \n",
    "- Using torchvision (specialized library for vision and image-related tasks) we can call `transform`\n",
    "- Transform provides APIs for:\n",
    "   - converting pixels into tensors\n",
    "   - normalizing standard scaling\n",
    "   - flip data (horizontal, vertical)\n",
    "   - image from RGB ---> b/w\n",
    "   - and so on..."
   ]
  },
  {
   "cell_type": "code",
   "execution_count": 73,
   "id": "0c7600f8-12d9-48f5-a263-c97ae0a6f69d",
   "metadata": {},
   "outputs": [],
   "source": [
    "import torch\n",
    "from torch.autograd import Variable\n",
    "\n",
    "# transforms: we can use this to make some transformations in the original dataset\n",
    "import torchvision.transforms as transforms\n",
    "import torchvision.datasets as dsets"
   ]
  },
  {
   "cell_type": "code",
   "execution_count": 74,
   "id": "2525de01-cc80-4608-a76e-da1b5f636055",
   "metadata": {},
   "outputs": [],
   "source": [
    "### Downloading datasets\n",
    "# 60.000 train samples\n",
    "# 10.000 test samples\n",
    "\n",
    "train_dataset = dsets.FashionMNIST(root='./data', train=True, transform=transforms.ToTensor(), download=True)\n",
    "test_dataset = dsets.FashionMNIST(root='./data', train=False, transform=transforms.ToTensor())"
   ]
  },
  {
   "cell_type": "markdown",
   "id": "5b7e860a-9271-4593-ad1c-ae05b567a7ee",
   "metadata": {},
   "source": [
    "### Creating data loaders "
   ]
  },
  {
   "cell_type": "code",
   "execution_count": 75,
   "id": "f03b1ddd-f594-4fd3-aa6e-df0c69aa09f9",
   "metadata": {},
   "outputs": [],
   "source": [
    "batch_size = 100    # divide our 60.000 samples in 600 batches x 100 batch_size\n",
    "\n",
    "train_loader = torch.utils.data.DataLoader(dataset=train_dataset, batch_size=batch_size, shuffle=True)\n",
    "test_loader = torch.utils.data.DataLoader(dataset=test_dataset, batch_size=batch_size, shuffle=False)\n",
    "\n",
    "input_dim = 784   # pixels 28 x 28 = 784 \n",
    "output_dim = 10   # number of classes"
   ]
  },
  {
   "cell_type": "markdown",
   "id": "dcfbadde-31c9-41b9-8fc8-6c2349c10a49",
   "metadata": {},
   "source": [
    "### Creating the Logistic Regression's class\n",
    "- inherit from `torch.nn.Module`\n",
    "- `__init__` method inherit from super as well\n",
    "- creating the linear parameter with input and output dimensions\n",
    "- method `forward` that receives x and return the output"
   ]
  },
  {
   "cell_type": "code",
   "execution_count": 76,
   "id": "30fc797a-96dc-40e6-9a89-e38b1aabe520",
   "metadata": {},
   "outputs": [],
   "source": [
    "class LogisticRegression(torch.nn.Module):\n",
    "    def __init__(self, input_dim, output_dim):\n",
    "        super(LogisticRegression, self).__init__()\n",
    "        self.linear = torch.nn.Linear(input_dim, output_dim)\n",
    "\n",
    "    def forward(self, x):\n",
    "        outputs = self.linear(x)\n",
    "        return outputs"
   ]
  },
  {
   "cell_type": "markdown",
   "id": "be6e028b-4fa6-4e69-9837-1e114f834c59",
   "metadata": {},
   "source": [
    "### Defining hiperparameters"
   ]
  },
  {
   "cell_type": "code",
   "execution_count": 80,
   "id": "b3faf1b5-4714-40e9-8173-d007cc0c6da9",
   "metadata": {},
   "outputs": [],
   "source": [
    "n_iters = 9000   #iterations at each batch\n",
    "# defining the epochs: in this case, 9000 / (60.000 / 100)\n",
    "epochs = n_iters / (len(train_dataset) / batch_size)\n",
    "#input_dim = 784\n",
    "#output_dim = 10\n",
    "lr_rate = 0.001  # learning rate"
   ]
  },
  {
   "cell_type": "markdown",
   "id": "d8b18d58-7099-4dff-964c-b424bbcc75e2",
   "metadata": {},
   "source": [
    "### Loss function\n",
    "- Cross-Entropy (CE), which is close to Maximum Likelihood Estimation (MLE)\n",
    "\n",
    "### update the weights\n",
    "- using the optimizer _Stochastic Gradient Descent (SGD)_"
   ]
  },
  {
   "cell_type": "code",
   "execution_count": 78,
   "id": "317c292a-68f4-414a-8fa6-2a85a61bf240",
   "metadata": {},
   "outputs": [],
   "source": [
    "model = LogisticRegression(input_dim, output_dim)\n",
    "criterion = torch.nn.CrossEntropyLoss() # computes softmax and then the cross entropy\n",
    "optimizer = torch.optim.SGD(model.parameters(), lr=lr_rate)"
   ]
  },
  {
   "cell_type": "markdown",
   "id": "e9ccde4e-401c-4e8e-b480-ae65b9eca8f8",
   "metadata": {},
   "source": [
    "### Trainning the model"
   ]
  },
  {
   "cell_type": "code",
   "execution_count": 81,
   "id": "5247d921-c3a4-4dbb-b0e8-2c87e0c2383f",
   "metadata": {},
   "outputs": [
    {
     "name": "stdout",
     "output_type": "stream",
     "text": [
      "Iteration: 500. Loss: 0.8174324631690979. Accuracy: 70.4000015258789.\n",
      "Iteration: 1000. Loss: 0.8669449687004089. Accuracy: 71.18000030517578.\n",
      "Iteration: 1500. Loss: 0.9107009172439575. Accuracy: 72.08000183105469.\n",
      "Iteration: 2000. Loss: 0.7608199119567871. Accuracy: 72.41000366210938.\n",
      "Iteration: 2500. Loss: 0.8078849911689758. Accuracy: 73.33999633789062.\n",
      "Iteration: 3000. Loss: 0.7184672355651855. Accuracy: 73.72000122070312.\n",
      "Iteration: 3500. Loss: 0.8137944936752319. Accuracy: 74.12000274658203.\n",
      "Iteration: 4000. Loss: 0.7207720875740051. Accuracy: 74.58999633789062.\n",
      "Iteration: 4500. Loss: 0.7779765129089355. Accuracy: 74.91000366210938.\n",
      "Iteration: 5000. Loss: 0.7306163907051086. Accuracy: 75.25.\n",
      "Iteration: 5500. Loss: 0.7243243455886841. Accuracy: 75.38999938964844.\n",
      "Iteration: 6000. Loss: 0.6138189435005188. Accuracy: 75.63999938964844.\n",
      "Iteration: 6500. Loss: 0.7096003890037537. Accuracy: 75.98999786376953.\n",
      "Iteration: 7000. Loss: 0.7651185393333435. Accuracy: 76.16999816894531.\n",
      "Iteration: 7500. Loss: 0.6718207001686096. Accuracy: 76.37000274658203.\n",
      "Iteration: 8000. Loss: 0.6689777970314026. Accuracy: 76.62000274658203.\n",
      "Iteration: 8500. Loss: 0.7187841534614563. Accuracy: 76.87000274658203.\n",
      "Iteration: 9000. Loss: 0.6757460832595825. Accuracy: 77.04000091552734.\n"
     ]
    }
   ],
   "source": [
    "iter = 0\n",
    "for epoch in range(int(epochs)):\n",
    "             # getting the batches (from train_loader)\n",
    "    for i, (images, labels) in enumerate(train_loader):\n",
    "           # creating and resizing the image from the batch\n",
    "        images = Variable(images.view(-1, 28 * 28))        # reshaping 1 vector of 784 dims\n",
    "           # creating the labels also from batch\n",
    "        labels = Variable(labels)                 # Variable: will be altered by gradient descent\n",
    "           # must zero gradients for each epoch\n",
    "        optimizer.zero_grad()\n",
    "           # forward pass to compute each output\n",
    "        outputs = model(images)\n",
    "           # loss function: cross entropy\n",
    "        loss = criterion(outputs, labels)\n",
    "           # propagating the error by backward step\n",
    "        loss.backward()\n",
    "        optimizer.step()\n",
    "\n",
    "        iter+=1\n",
    "           # each time that iter has no remains when divided by 500, we get into this if\n",
    "           ## and print the iteration time, loss and accuracy comparing to test_loader\n",
    "        if iter%500==0:\n",
    "            # calculate Accuracy\n",
    "            correct = 0\n",
    "            total = 0\n",
    "            for images, labels in test_loader:\n",
    "                images = Variable(images.view(-1, 28*28))\n",
    "                outputs = model(images)\n",
    "                        # .max() gets the class with highest probability (between 10)\n",
    "                _, predicted = torch.max(outputs.data, 1)\n",
    "                total+= labels.size(0)\n",
    "                # for gpu, bring the predicted and labels back to cpu fro python operations to work\n",
    "                correct+= (predicted == labels).sum()\n",
    "            accuracy = 100 * correct.float()/total\n",
    "            print(\"Iteration: {}. Loss: {}. Accuracy: {}.\".format(iter, loss.item(), accuracy))"
   ]
  },
  {
   "cell_type": "markdown",
   "id": "c3573f8a-5c39-4d29-9e99-b33c9eb3def5",
   "metadata": {},
   "source": [
    "## Plotting random images from the dataset\n",
    "- I tried using the method imshow from `helper` lib, but didn't worked\n",
    "- So, the [solution](https://stackoverflow.com/questions/53570181/error-in-importing-libraries-of-helper-though-helper-is-installed) was to define a function to show the Tensor images\n",
    "- also, when calling the second iterator i ran into an error.\n",
    "- At [pytorch forum](https://discuss.pytorch.org/t/typeerror-int-object-is-not-callable-when-using-second-iterator/30312) was the solution:\n",
    "   - replace `iter(object)` for `object.__iter__()`\n"
   ]
  },
  {
   "cell_type": "code",
   "execution_count": 43,
   "id": "a30778a0-2b16-48a1-85b8-7868b72d14ee",
   "metadata": {},
   "outputs": [
    {
     "data": {
      "text/plain": [
       "600"
      ]
     },
     "execution_count": 43,
     "metadata": {},
     "output_type": "execute_result"
    }
   ],
   "source": [
    "len(train_loader)"
   ]
  },
  {
   "cell_type": "code",
   "execution_count": 82,
   "id": "7cda2807-f4e2-4b6a-b33c-925843a9aa78",
   "metadata": {},
   "outputs": [
    {
     "data": {
      "image/png": "[encoded data removed]",
      "text/plain": [
       "<Figure size 200x300 with 1 Axes>"
      ]
     },
     "metadata": {},
     "output_type": "display_data"
    }
   ],
   "source": [
    "import matplotlib.pyplot as plt\n",
    "\n",
    "def imshow(image, ax=None, title=None, normalize=True):\n",
    "    \"\"\"Imshow for Tensor.\"\"\"\n",
    "    if ax is None:\n",
    "        fig, ax = plt.subplots(figsize=(2,3))\n",
    "    image = image.numpy().transpose((1, 2, 0))\n",
    "\n",
    "    if normalize:\n",
    "        mean = np.array([0.485, 0.456, 0.406])\n",
    "        std = np.array([0.229, 0.224, 0.225])\n",
    "        image = std * image + mean\n",
    "        image = np.clip(image, 0, 1)\n",
    "\n",
    "    ax.imshow(image)\n",
    "    ax.spines['top'].set_visible(False)\n",
    "    ax.spines['right'].set_visible(False)\n",
    "    ax.spines['left'].set_visible(False)\n",
    "    ax.spines['bottom'].set_visible(False)\n",
    "    ax.tick_params(axis='both', length=0)\n",
    "    ax.set_xticklabels('')\n",
    "    ax.set_yticklabels('')\n",
    "\n",
    "    return plt.show()\n",
    "\n",
    "image, label = next(train_loader.__iter__())\n",
    "ax = imshow(image[0,:])"
   ]
  },
  {
   "cell_type": "code",
   "execution_count": 83,
   "id": "061e40b7-4332-49ba-9ce6-b5b5e2a6aca1",
   "metadata": {},
   "outputs": [
    {
     "data": {
      "image/png": "[encoded data removed]",
      "text/plain": [
       "<Figure size 1200x400 with 6 Axes>"
      ]
     },
     "metadata": {},
     "output_type": "display_data"
    }
   ],
   "source": [
    "# another way of showing images\n",
    "num_imagens = 6\n",
    "fig, axs = plt.subplots(1, num_imagens, figsize=(12, 4))\n",
    "for i in range(num_imagens):\n",
    "    axs[i].imshow(train_dataset[i][0].reshape(28, 28), cmap=plt.get_cmap(\"gray\"))\n",
    "plt.show()"
   ]
  },
  {
   "cell_type": "markdown",
   "id": "6b7a132d-f27f-46e7-a011-0f6acd121149",
   "metadata": {},
   "source": [
    "## Estimating sample labels from test samples\n",
    "- compute the accuracy and generate a confusion matrix"
   ]
  },
  {
   "cell_type": "code",
   "execution_count": 84,
   "id": "a4960401-808b-46b0-b56c-cb4b713747e4",
   "metadata": {},
   "outputs": [],
   "source": [
    "predicted_list = []\n",
    "estimated_list = []\n",
    "\n",
    "for images, labels in test_dataset:\n",
    "    images = Variable(images.view(-1, 28*28))\n",
    "    outputs = model(images)\n",
    "    _, predicted = torch.max(outputs.data, 1)\n",
    "    # class 'torch.Tensor'\n",
    "    predicted_list.append(predicted.item())\n",
    "    estimated_list.append(labels)"
   ]
  },
  {
   "cell_type": "code",
   "execution_count": 85,
   "id": "6c629ad9-b85e-491a-8433-d90b9a69426f",
   "metadata": {},
   "outputs": [
    {
     "data": {
      "text/html": [
       "<div>\n",
       "<style scoped>\n",
       "    .dataframe tbody tr th:only-of-type {\n",
       "        vertical-align: middle;\n",
       "    }\n",
       "\n",
       "    .dataframe tbody tr th {\n",
       "        vertical-align: top;\n",
       "    }\n",
       "\n",
       "    .dataframe thead th {\n",
       "        text-align: right;\n",
       "    }\n",
       "</style>\n",
       "<table border=\"1\" class=\"dataframe\">\n",
       "  <thead>\n",
       "    <tr style=\"text-align: right;\">\n",
       "      <th></th>\n",
       "      <th>predicted</th>\n",
       "      <th>estimated</th>\n",
       "    </tr>\n",
       "  </thead>\n",
       "  <tbody>\n",
       "    <tr>\n",
       "      <th>0</th>\n",
       "      <td>9</td>\n",
       "      <td>9</td>\n",
       "    </tr>\n",
       "    <tr>\n",
       "      <th>1</th>\n",
       "      <td>2</td>\n",
       "      <td>2</td>\n",
       "    </tr>\n",
       "    <tr>\n",
       "      <th>2</th>\n",
       "      <td>1</td>\n",
       "      <td>1</td>\n",
       "    </tr>\n",
       "    <tr>\n",
       "      <th>3</th>\n",
       "      <td>1</td>\n",
       "      <td>1</td>\n",
       "    </tr>\n",
       "    <tr>\n",
       "      <th>4</th>\n",
       "      <td>6</td>\n",
       "      <td>6</td>\n",
       "    </tr>\n",
       "  </tbody>\n",
       "</table>\n",
       "</div>"
      ],
      "text/plain": [
       "   predicted  estimated\n",
       "0          9          9\n",
       "1          2          2\n",
       "2          1          1\n",
       "3          1          1\n",
       "4          6          6"
      ]
     },
     "execution_count": 85,
     "metadata": {},
     "output_type": "execute_result"
    }
   ],
   "source": [
    "import pandas as pd\n",
    "\n",
    "estimations = pd.DataFrame(data={'predicted':predicted_list, 'estimated':estimated_list})\n",
    "estimations.head()"
   ]
  },
  {
   "cell_type": "markdown",
   "id": "abc00608-90c0-4b24-8a73-e0d3532a971b",
   "metadata": {},
   "source": [
    "## Calculating the Accuracy"
   ]
  },
  {
   "cell_type": "code",
   "execution_count": 86,
   "id": "a055ec09-c24f-461f-9e9c-cce680a64363",
   "metadata": {},
   "outputs": [
    {
     "name": "stdout",
     "output_type": "stream",
     "text": [
      "Accuracy: 77.04%\n"
     ]
    }
   ],
   "source": [
    "## accuracy will be the correct predictions divided by all predictions\n",
    "accuracy = (estimations['predicted'] == estimations['estimated']).sum()/len(estimations)\n",
    "print(f'Accuracy: {accuracy*100:.2f}%')"
   ]
  },
  {
   "cell_type": "code",
   "execution_count": 87,
   "id": "45ff4145-6e16-4034-bf20-906a1f51b8cf",
   "metadata": {},
   "outputs": [
    {
     "data": {
      "image/png": "[encoded data removed]",
      "text/plain": [
       "<Figure size 1000x700 with 2 Axes>"
      ]
     },
     "metadata": {},
     "output_type": "display_data"
    }
   ],
   "source": [
    "from sklearn.metrics import confusion_matrix\n",
    "import seaborn as sns\n",
    "\n",
    "clothes_labels = {0:'T-shirt/top', 1:'Trouser', 2:'Pullover', 3:'Dress', 4:'Coat',\n",
    "                  5:'Sandal', 6:'Shirt', 7:'Sneaker', 8:'Bag', 9:'Ankle boot'}\n",
    "\n",
    "# instantiatin the confusion matrix\n",
    "cm = confusion_matrix(predicted_list, estimated_list)\n",
    "\n",
    "df_cm = pd.DataFrame(cm, columns=clothes_labels.values(), index=clothes_labels.values())\n",
    "df_cm.index.name = \"Real values\"\n",
    "df_cm.columns.name = \"Estimated values\"\n",
    "plt.figure(figsize = (10,7))\n",
    "sns.set(font_scale=1.2)\n",
    "sns.heatmap(df_cm, cmap=\"Blues\", annot=True, fmt=\"d\", annot_kws={\"size\": 10})\n",
    "plt.show()"
   ]
  },
  {
   "cell_type": "markdown",
   "id": "7aeb365c-f1ea-4afa-bf81-c4b99bec6499",
   "metadata": {},
   "source": [
    "## Now, using the dataset Kuzushiji-MNIST (KMNIST)\n",
    "- Using transform with horizontal flipping\n",
    "- Plot a few images as well\n",
    "\n",
    "### Transform\n",
    "- again, we pass the transform method here\n",
    "- takes in an PIL image (e.g. the digits from KMEANS) and transform `ToTensor()`"
   ]
  },
  {
   "cell_type": "code",
   "execution_count": null,
   "id": "e2a3c99a-630b-490e-9018-e8a38be0b303",
   "metadata": {},
   "outputs": [],
   "source": [
    "### Downloading datasets\n",
    "# 60.000 train samples\n",
    "# 10.000 test samples\n",
    "\n",
    "train_dataset = dsets.KMNIST(root='./data', train=True, transform=transforms.ToTensor(), download=True)\n",
    "test_dataset = dsets.KMNIST(root='./data', train=False, transform=transforms.ToTensor())"
   ]
  },
  {
   "cell_type": "code",
   "execution_count": null,
   "id": "c55cd89d-eb45-4507-aae1-a0777e32ff1d",
   "metadata": {},
   "outputs": [],
   "source": []
  }
 ],
 "metadata": {
  "kernelspec": {
   "display_name": "Python 3",
   "language": "python",
   "name": "python3"
  },
  "language_info": {
   "codemirror_mode": {
    "name": "ipython",
    "version": 3
   },
   "file_extension": ".py",
   "mimetype": "text/x-python",
   "name": "python",
   "nbconvert_exporter": "python",
   "pygments_lexer": "ipython3",
   "version": "3.8.11"
  }
 },
 "nbformat": 4,
 "nbformat_minor": 5
}
