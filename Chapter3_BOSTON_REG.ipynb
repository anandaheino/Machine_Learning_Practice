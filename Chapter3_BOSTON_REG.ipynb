{
 "cells": [
  {
   "cell_type": "markdown",
   "metadata": {},
   "source": [
    "# Chapter 3 - Making Decisions with Linear Equations\n",
    "## Estimating the amount paid to the taxi driver\n",
    "\n"
   ]
  },
  {
   "cell_type": "code",
   "execution_count": 1,
   "metadata": {},
   "outputs": [],
   "source": [
    "from sklearn.linear_model import LinearRegression\n",
    "import pandas as pd\n",
    "import numpy as np"
   ]
  },
  {
   "cell_type": "code",
   "execution_count": 2,
   "metadata": {},
   "outputs": [
    {
     "data": {
      "text/html": [
       "<div>\n",
       "<style scoped>\n",
       "    .dataframe tbody tr th:only-of-type {\n",
       "        vertical-align: middle;\n",
       "    }\n",
       "\n",
       "    .dataframe tbody tr th {\n",
       "        vertical-align: top;\n",
       "    }\n",
       "\n",
       "    .dataframe thead th {\n",
       "        text-align: right;\n",
       "    }\n",
       "</style>\n",
       "<table border=\"1\" class=\"dataframe\">\n",
       "  <thead>\n",
       "    <tr style=\"text-align: right;\">\n",
       "      <th></th>\n",
       "      <th>Kilometres</th>\n",
       "      <th>Meter</th>\n",
       "      <th>Paid (incl. tips)</th>\n",
       "    </tr>\n",
       "  </thead>\n",
       "  <tbody>\n",
       "    <tr>\n",
       "      <th>0</th>\n",
       "      <td>1</td>\n",
       "      <td>7.5</td>\n",
       "      <td>8</td>\n",
       "    </tr>\n",
       "    <tr>\n",
       "      <th>1</th>\n",
       "      <td>2</td>\n",
       "      <td>10.0</td>\n",
       "      <td>10</td>\n",
       "    </tr>\n",
       "    <tr>\n",
       "      <th>2</th>\n",
       "      <td>3</td>\n",
       "      <td>12.5</td>\n",
       "      <td>14</td>\n",
       "    </tr>\n",
       "    <tr>\n",
       "      <th>3</th>\n",
       "      <td>4</td>\n",
       "      <td>15.0</td>\n",
       "      <td>15</td>\n",
       "    </tr>\n",
       "    <tr>\n",
       "      <th>4</th>\n",
       "      <td>5</td>\n",
       "      <td>17.5</td>\n",
       "      <td>20</td>\n",
       "    </tr>\n",
       "  </tbody>\n",
       "</table>\n",
       "</div>"
      ],
      "text/plain": [
       "  Kilometres Meter Paid (incl. tips)\n",
       "0          1   7.5                 8\n",
       "1          2  10.0                10\n",
       "2          3  12.5                14\n",
       "3          4  15.0                15\n",
       "4          5  17.5                20"
      ]
     },
     "execution_count": 2,
     "metadata": {},
     "output_type": "execute_result"
    }
   ],
   "source": [
    "data = {'Kilometres': '1 2 3 4 5'.split(), 'Meter': '7.5 10.0 12.5 15.0 17.5'.split(), 'Paid (incl. tips)': '8 10 14 15 20'.split()}\n",
    "\n",
    "df_taxi = pd.DataFrame(data)\n",
    "df_taxi"
   ]
  },
  {
   "cell_type": "code",
   "execution_count": 3,
   "metadata": {},
   "outputs": [],
   "source": [
    "# Initialize and train the model\n",
    "reg = LinearRegression()\n",
    "reg.fit(df_taxi[['Kilometres']], df_taxi['Paid (incl. tips)'])\n",
    "\n",
    "# Make predictions\n",
    "df_taxi['Paid (Predicted)'] = reg.predict(df_taxi[['Kilometres']])"
   ]
  },
  {
   "cell_type": "markdown",
   "metadata": {},
   "source": [
    "We only have one feature this time: Kilometres \n",
    "\n",
    "The fit() and predict() methods expect a two-dimensional ax , which is why we enclosed Kilometers in an extra set of square brackets— `df_taxi[['Kilometres']]` ."
   ]
  },
  {
   "cell_type": "markdown",
   "metadata": {},
   "source": [
    "We put our predictions in the same DataFrame under Paid (Predicted). We can then plot the actual values versus the estimated ones using the following\n",
    "code:"
   ]
  },
  {
   "cell_type": "code",
   "execution_count": 4,
   "metadata": {},
   "outputs": [],
   "source": [
    "import matplotlib.pyplot as plt"
   ]
  },
  {
   "cell_type": "code",
   "execution_count": 5,
   "metadata": {},
   "outputs": [
    {
     "data": {
      "text/plain": [
       "<matplotlib.collections.PathCollection at 0x7fbc2c90bf90>"
      ]
     },
     "execution_count": 5,
     "metadata": {},
     "output_type": "execute_result"
    },
    {
     "data": {
      "image/png": "[encoded data removed]",
      "text/plain": [
       "<Figure size 720x360 with 1 Axes>"
      ]
     },
     "metadata": {
      "needs_background": "light"
     },
     "output_type": "display_data"
    }
   ],
   "source": [
    "fig = plt.subplots(figsize=(10, 5))\n",
    "\n",
    "X = df_taxi.index\n",
    "y = df_taxi['Meter']\n",
    "plt.scatter(x=X, y=y, color='g')\n",
    "#plt.plot(X, reg.predict(X), color='k')\n"
   ]
  },
  {
   "cell_type": "markdown",
   "metadata": {},
   "source": [
    "________________________________________________________________\n",
    "\n",
    "# Predicting house prices in Boston\n",
    "\n",
    "\n",
    "The Boston dataset is a small set representing the house prices in the city of Boston. It\n",
    "contains:\n",
    "- 506 samples\n",
    "- 13 features\n",
    "\n",
    "Let's load the data into a DataFrame, as follows:"
   ]
  },
  {
   "cell_type": "code",
   "execution_count": 6,
   "metadata": {},
   "outputs": [],
   "source": [
    "from sklearn.datasets import load_boston"
   ]
  },
  {
   "cell_type": "code",
   "execution_count": 7,
   "metadata": {},
   "outputs": [
    {
     "name": "stdout",
     "output_type": "stream",
     "text": [
      ".. _boston_dataset:\n",
      "\n",
      "Boston house prices dataset\n",
      "---------------------------\n",
      "\n",
      "**Data Set Characteristics:**  \n",
      "\n",
      "    :Number of Instances: 506 \n",
      "\n",
      "    :Number of Attributes: 13 numeric/categorical predictive. Median Value (attribute 14) is usually the target.\n",
      "\n",
      "    :Attribute Information (in order):\n",
      "        - CRIM     per capita crime rate by town\n",
      "        - ZN       proportion of residential land zoned for lots over 25,000 sq.ft.\n",
      "        - INDUS    proportion of non-retail business acres per town\n",
      "        - CHAS     Charles River dummy variable (= 1 if tract bounds river; 0 otherwise)\n",
      "        - NOX      nitric oxides concentration (parts per 10 million)\n",
      "        - RM       average number of rooms per dwelling\n",
      "        - AGE      proportion of owner-occupied units built prior to 1940\n",
      "        - DIS      weighted distances to five Boston employment centres\n",
      "        - RAD      index of accessibility to radial highways\n",
      "        - TAX      full-value property-tax rate per $10,000\n",
      "        - PTRATIO  pupil-teacher ratio by town\n",
      "        - B        1000(Bk - 0.63)^2 where Bk is the proportion of blacks by town\n",
      "        - LSTAT    % lower status of the population\n",
      "        - MEDV     Median value of owner-occupied homes in $1000's\n",
      "\n",
      "    :Missing Attribute Values: None\n",
      "\n",
      "    :Creator: Harrison, D. and Rubinfeld, D.L.\n",
      "\n",
      "This is a copy of UCI ML housing dataset.\n",
      "https://archive.ics.uci.edu/ml/machine-learning-databases/housing/\n",
      "\n",
      "\n",
      "This dataset was taken from the StatLib library which is maintained at Carnegie Mellon University.\n",
      "\n",
      "The Boston house-price data of Harrison, D. and Rubinfeld, D.L. 'Hedonic\n",
      "prices and the demand for clean air', J. Environ. Economics & Management,\n",
      "vol.5, 81-102, 1978.   Used in Belsley, Kuh & Welsch, 'Regression diagnostics\n",
      "...', Wiley, 1980.   N.B. Various transformations are used in the table on\n",
      "pages 244-261 of the latter.\n",
      "\n",
      "The Boston house-price data has been used in many machine learning papers that address regression\n",
      "problems.   \n",
      "     \n",
      ".. topic:: References\n",
      "\n",
      "   - Belsley, Kuh & Welsch, 'Regression diagnostics: Identifying Influential Data and Sources of Collinearity', Wiley, 1980. 244-261.\n",
      "   - Quinlan,R. (1993). Combining Instance-Based and Model-Based Learning. In Proceedings on the Tenth International Conference of Machine Learning, 236-243, University of Massachusetts, Amherst. Morgan Kaufmann.\n",
      "\n"
     ]
    }
   ],
   "source": [
    "# initializing the dataset\n",
    "boston = load_boston()\n",
    "\n",
    "print(boston.DESCR)"
   ]
  },
  {
   "cell_type": "code",
   "execution_count": 8,
   "metadata": {},
   "outputs": [
    {
     "data": {
      "text/html": [
       "<div>\n",
       "<style scoped>\n",
       "    .dataframe tbody tr th:only-of-type {\n",
       "        vertical-align: middle;\n",
       "    }\n",
       "\n",
       "    .dataframe tbody tr th {\n",
       "        vertical-align: top;\n",
       "    }\n",
       "\n",
       "    .dataframe thead th {\n",
       "        text-align: right;\n",
       "    }\n",
       "</style>\n",
       "<table border=\"1\" class=\"dataframe\">\n",
       "  <thead>\n",
       "    <tr style=\"text-align: right;\">\n",
       "      <th></th>\n",
       "      <th>CRIM</th>\n",
       "      <th>ZN</th>\n",
       "      <th>INDUS</th>\n",
       "      <th>CHAS</th>\n",
       "      <th>NOX</th>\n",
       "      <th>RM</th>\n",
       "      <th>AGE</th>\n",
       "      <th>DIS</th>\n",
       "      <th>RAD</th>\n",
       "      <th>TAX</th>\n",
       "      <th>PTRATIO</th>\n",
       "      <th>B</th>\n",
       "      <th>LSTAT</th>\n",
       "      <th>TARGET</th>\n",
       "    </tr>\n",
       "  </thead>\n",
       "  <tbody>\n",
       "    <tr>\n",
       "      <th>0</th>\n",
       "      <td>0.00632</td>\n",
       "      <td>18.0</td>\n",
       "      <td>2.31</td>\n",
       "      <td>0.0</td>\n",
       "      <td>0.538</td>\n",
       "      <td>6.575</td>\n",
       "      <td>65.2</td>\n",
       "      <td>4.0900</td>\n",
       "      <td>1.0</td>\n",
       "      <td>296.0</td>\n",
       "      <td>15.3</td>\n",
       "      <td>396.90</td>\n",
       "      <td>4.98</td>\n",
       "      <td>24.0</td>\n",
       "    </tr>\n",
       "    <tr>\n",
       "      <th>1</th>\n",
       "      <td>0.02731</td>\n",
       "      <td>0.0</td>\n",
       "      <td>7.07</td>\n",
       "      <td>0.0</td>\n",
       "      <td>0.469</td>\n",
       "      <td>6.421</td>\n",
       "      <td>78.9</td>\n",
       "      <td>4.9671</td>\n",
       "      <td>2.0</td>\n",
       "      <td>242.0</td>\n",
       "      <td>17.8</td>\n",
       "      <td>396.90</td>\n",
       "      <td>9.14</td>\n",
       "      <td>21.6</td>\n",
       "    </tr>\n",
       "    <tr>\n",
       "      <th>2</th>\n",
       "      <td>0.02729</td>\n",
       "      <td>0.0</td>\n",
       "      <td>7.07</td>\n",
       "      <td>0.0</td>\n",
       "      <td>0.469</td>\n",
       "      <td>7.185</td>\n",
       "      <td>61.1</td>\n",
       "      <td>4.9671</td>\n",
       "      <td>2.0</td>\n",
       "      <td>242.0</td>\n",
       "      <td>17.8</td>\n",
       "      <td>392.83</td>\n",
       "      <td>4.03</td>\n",
       "      <td>34.7</td>\n",
       "    </tr>\n",
       "    <tr>\n",
       "      <th>3</th>\n",
       "      <td>0.03237</td>\n",
       "      <td>0.0</td>\n",
       "      <td>2.18</td>\n",
       "      <td>0.0</td>\n",
       "      <td>0.458</td>\n",
       "      <td>6.998</td>\n",
       "      <td>45.8</td>\n",
       "      <td>6.0622</td>\n",
       "      <td>3.0</td>\n",
       "      <td>222.0</td>\n",
       "      <td>18.7</td>\n",
       "      <td>394.63</td>\n",
       "      <td>2.94</td>\n",
       "      <td>33.4</td>\n",
       "    </tr>\n",
       "    <tr>\n",
       "      <th>4</th>\n",
       "      <td>0.06905</td>\n",
       "      <td>0.0</td>\n",
       "      <td>2.18</td>\n",
       "      <td>0.0</td>\n",
       "      <td>0.458</td>\n",
       "      <td>7.147</td>\n",
       "      <td>54.2</td>\n",
       "      <td>6.0622</td>\n",
       "      <td>3.0</td>\n",
       "      <td>222.0</td>\n",
       "      <td>18.7</td>\n",
       "      <td>396.90</td>\n",
       "      <td>5.33</td>\n",
       "      <td>36.2</td>\n",
       "    </tr>\n",
       "    <tr>\n",
       "      <th>...</th>\n",
       "      <td>...</td>\n",
       "      <td>...</td>\n",
       "      <td>...</td>\n",
       "      <td>...</td>\n",
       "      <td>...</td>\n",
       "      <td>...</td>\n",
       "      <td>...</td>\n",
       "      <td>...</td>\n",
       "      <td>...</td>\n",
       "      <td>...</td>\n",
       "      <td>...</td>\n",
       "      <td>...</td>\n",
       "      <td>...</td>\n",
       "      <td>...</td>\n",
       "    </tr>\n",
       "    <tr>\n",
       "      <th>501</th>\n",
       "      <td>0.06263</td>\n",
       "      <td>0.0</td>\n",
       "      <td>11.93</td>\n",
       "      <td>0.0</td>\n",
       "      <td>0.573</td>\n",
       "      <td>6.593</td>\n",
       "      <td>69.1</td>\n",
       "      <td>2.4786</td>\n",
       "      <td>1.0</td>\n",
       "      <td>273.0</td>\n",
       "      <td>21.0</td>\n",
       "      <td>391.99</td>\n",
       "      <td>9.67</td>\n",
       "      <td>22.4</td>\n",
       "    </tr>\n",
       "    <tr>\n",
       "      <th>502</th>\n",
       "      <td>0.04527</td>\n",
       "      <td>0.0</td>\n",
       "      <td>11.93</td>\n",
       "      <td>0.0</td>\n",
       "      <td>0.573</td>\n",
       "      <td>6.120</td>\n",
       "      <td>76.7</td>\n",
       "      <td>2.2875</td>\n",
       "      <td>1.0</td>\n",
       "      <td>273.0</td>\n",
       "      <td>21.0</td>\n",
       "      <td>396.90</td>\n",
       "      <td>9.08</td>\n",
       "      <td>20.6</td>\n",
       "    </tr>\n",
       "    <tr>\n",
       "      <th>503</th>\n",
       "      <td>0.06076</td>\n",
       "      <td>0.0</td>\n",
       "      <td>11.93</td>\n",
       "      <td>0.0</td>\n",
       "      <td>0.573</td>\n",
       "      <td>6.976</td>\n",
       "      <td>91.0</td>\n",
       "      <td>2.1675</td>\n",
       "      <td>1.0</td>\n",
       "      <td>273.0</td>\n",
       "      <td>21.0</td>\n",
       "      <td>396.90</td>\n",
       "      <td>5.64</td>\n",
       "      <td>23.9</td>\n",
       "    </tr>\n",
       "    <tr>\n",
       "      <th>504</th>\n",
       "      <td>0.10959</td>\n",
       "      <td>0.0</td>\n",
       "      <td>11.93</td>\n",
       "      <td>0.0</td>\n",
       "      <td>0.573</td>\n",
       "      <td>6.794</td>\n",
       "      <td>89.3</td>\n",
       "      <td>2.3889</td>\n",
       "      <td>1.0</td>\n",
       "      <td>273.0</td>\n",
       "      <td>21.0</td>\n",
       "      <td>393.45</td>\n",
       "      <td>6.48</td>\n",
       "      <td>22.0</td>\n",
       "    </tr>\n",
       "    <tr>\n",
       "      <th>505</th>\n",
       "      <td>0.04741</td>\n",
       "      <td>0.0</td>\n",
       "      <td>11.93</td>\n",
       "      <td>0.0</td>\n",
       "      <td>0.573</td>\n",
       "      <td>6.030</td>\n",
       "      <td>80.8</td>\n",
       "      <td>2.5050</td>\n",
       "      <td>1.0</td>\n",
       "      <td>273.0</td>\n",
       "      <td>21.0</td>\n",
       "      <td>396.90</td>\n",
       "      <td>7.88</td>\n",
       "      <td>11.9</td>\n",
       "    </tr>\n",
       "  </tbody>\n",
       "</table>\n",
       "<p>506 rows × 14 columns</p>\n",
       "</div>"
      ],
      "text/plain": [
       "        CRIM    ZN  INDUS  CHAS    NOX     RM   AGE     DIS  RAD    TAX  \\\n",
       "0    0.00632  18.0   2.31   0.0  0.538  6.575  65.2  4.0900  1.0  296.0   \n",
       "1    0.02731   0.0   7.07   0.0  0.469  6.421  78.9  4.9671  2.0  242.0   \n",
       "2    0.02729   0.0   7.07   0.0  0.469  7.185  61.1  4.9671  2.0  242.0   \n",
       "3    0.03237   0.0   2.18   0.0  0.458  6.998  45.8  6.0622  3.0  222.0   \n",
       "4    0.06905   0.0   2.18   0.0  0.458  7.147  54.2  6.0622  3.0  222.0   \n",
       "..       ...   ...    ...   ...    ...    ...   ...     ...  ...    ...   \n",
       "501  0.06263   0.0  11.93   0.0  0.573  6.593  69.1  2.4786  1.0  273.0   \n",
       "502  0.04527   0.0  11.93   0.0  0.573  6.120  76.7  2.2875  1.0  273.0   \n",
       "503  0.06076   0.0  11.93   0.0  0.573  6.976  91.0  2.1675  1.0  273.0   \n",
       "504  0.10959   0.0  11.93   0.0  0.573  6.794  89.3  2.3889  1.0  273.0   \n",
       "505  0.04741   0.0  11.93   0.0  0.573  6.030  80.8  2.5050  1.0  273.0   \n",
       "\n",
       "     PTRATIO       B  LSTAT  TARGET  \n",
       "0       15.3  396.90   4.98    24.0  \n",
       "1       17.8  396.90   9.14    21.6  \n",
       "2       17.8  392.83   4.03    34.7  \n",
       "3       18.7  394.63   2.94    33.4  \n",
       "4       18.7  396.90   5.33    36.2  \n",
       "..       ...     ...    ...     ...  \n",
       "501     21.0  391.99   9.67    22.4  \n",
       "502     21.0  396.90   9.08    20.6  \n",
       "503     21.0  396.90   5.64    23.9  \n",
       "504     21.0  393.45   6.48    22.0  \n",
       "505     21.0  396.90   7.88    11.9  \n",
       "\n",
       "[506 rows x 14 columns]"
      ]
     },
     "execution_count": 8,
     "metadata": {},
     "output_type": "execute_result"
    }
   ],
   "source": [
    "df_boston = pd.DataFrame(boston.data, columns=boston.feature_names)\n",
    "\n",
    "df_boston['TARGET'] = boston.target\n",
    "df_boston"
   ]
  },
  {
   "cell_type": "markdown",
   "metadata": {},
   "source": [
    "# Data exploration\n",
    "\n",
    "It's important to make sure you do not have any null values in your data; \n",
    "\n",
    "otherwise, scikit-learn will complain about it. \n",
    "\n",
    "Here, I will count the sum of the null values in each column,\n",
    "then take the sum of it. If I get 0, great:"
   ]
  },
  {
   "cell_type": "code",
   "execution_count": 9,
   "metadata": {},
   "outputs": [
    {
     "data": {
      "text/plain": [
       "0"
      ]
     },
     "execution_count": 9,
     "metadata": {},
     "output_type": "execute_result"
    }
   ],
   "source": [
    "df_boston.isnull().sum().sum()"
   ]
  },
  {
   "cell_type": "markdown",
   "metadata": {},
   "source": [
    "For a regression problem, the most important thing to do is:\n",
    "- to understand the distribution of your target!! \n",
    "\n",
    "If a target ranges between 1 and 10 , and after training our model we get amean absolute error of 5 , we can tell that the error is large in this context.\n",
    "\n",
    "However, the same error for a target that ranges between 500,000 and 1,000,000 is negligible. \n",
    "\n",
    "Histograms are your friend when you want to visualize distributions. Inaddition to the target's distribution, let's also plot the mean values for each feature:"
   ]
  },
  {
   "cell_type": "code",
   "execution_count": 10,
   "metadata": {},
   "outputs": [
    {
     "name": "stderr",
     "output_type": "stream",
     "text": [
      "/home/anandaheino/anaconda3/lib/python3.7/site-packages/ipykernel_launcher.py:7: UserWarning: Matplotlib is currently using module://ipykernel.pylab.backend_inline, which is a non-GUI backend, so cannot show the figure.\n",
      "  import sys\n"
     ]
    },
    {
     "data": {
      "image/png": "[encoded data removed]",
      "text/plain": [
       "<Figure size 720x432 with 2 Axes>"
      ]
     },
     "metadata": {
      "needs_background": "light"
     },
     "output_type": "display_data"
    }
   ],
   "source": [
    "fig, axs = plt.subplots(1, 2, figsize=(10, 6))\n",
    "\n",
    "df_boston['TARGET'].plot(title='Distribution of target prices', kind='hist', ax=axs[0])\n",
    "\n",
    "df_boston[boston.feature_names].mean().plot(title='Mean of features', kind='bar', ax=axs[1])\n",
    "\n",
    "fig.show()"
   ]
  },
  {
   "cell_type": "markdown",
   "metadata": {},
   "source": [
    "In the preceding graph, it is observed that:\n",
    "- The prices range between 5 and 50\n",
    "- Obviously, these are not real prices, probably normalized values\n",
    "- We can tell from the histogram that most of the prices are below 35 \n",
    "\n",
    "## We can use the following code snippet to see that 90% of the prices are below `34.8` :\n",
    "\n"
   ]
  },
  {
   "cell_type": "code",
   "execution_count": 11,
   "metadata": {},
   "outputs": [
    {
     "data": {
      "text/plain": [
       "count    506.000000\n",
       "mean      22.532806\n",
       "std        9.197104\n",
       "min        5.000000\n",
       "50%       21.200000\n",
       "90%       34.800000\n",
       "95%       43.400000\n",
       "99%       50.000000\n",
       "max       50.000000\n",
       "Name: TARGET, dtype: float64"
      ]
     },
     "execution_count": 11,
     "metadata": {},
     "output_type": "execute_result"
    }
   ],
   "source": [
    "df_boston['TARGET'].describe(percentiles=[.9, .95, .99])"
   ]
  },
  {
   "cell_type": "markdown",
   "metadata": {},
   "source": [
    "## Splitting the data\n",
    "\n",
    "When it comes to small datasets, it's advised that you allocate enough data for testing. \n",
    "\n",
    "So, we will split our data into 60% for training and 40% for testing using the train_test_split function:"
   ]
  },
  {
   "cell_type": "code",
   "execution_count": 12,
   "metadata": {},
   "outputs": [],
   "source": [
    "from sklearn.model_selection import train_test_split"
   ]
  },
  {
   "cell_type": "code",
   "execution_count": 13,
   "metadata": {},
   "outputs": [],
   "source": [
    "df_train, df_test = train_test_split(df_boston, test_size = 0.4, random_state = 14)"
   ]
  },
  {
   "cell_type": "code",
   "execution_count": 14,
   "metadata": {},
   "outputs": [],
   "source": [
    "x_train = df_train[boston.feature_names]\n",
    "x_test = df_test[boston.feature_names]\n",
    "y_train = df_train['TARGET']\n",
    "y_test = df_test['TARGET']"
   ]
  },
  {
   "cell_type": "markdown",
   "metadata": {},
   "source": [
    "## Calculating a baseline\n",
    "\n",
    "- The distribution of the target gave us an idea of what level of error we can tolerate.\n",
    "- If we were in the real estate business and human agents were used to estimate house prices, then we would most likely be expected to build a model that can do better than the human agents.\n",
    "\n",
    "#### Nevertheless, since we do not know any real estimations to compare our model to, we can come up with our own baseline instead.\n",
    "- The mean house price is 22.5 . \n",
    "- If we build a dummy model that returns the mean price regardless of the data given to it, then it would make a reasonable baseline.\n",
    "- Keep in mind that the value of 22.5 is calculated for the entire dataset, but since we are pretending to only have access to the training data, then it makes sense to calculate the mean price for the training set only. \n",
    "- To save us all this effort, scikit-learn has dummy regressors available that do all this work for us.\n",
    "\n",
    "### Here, we will create a dummy regressor and use it to calculate baseline predictions for the test set:"
   ]
  },
  {
   "cell_type": "code",
   "execution_count": 15,
   "metadata": {},
   "outputs": [],
   "source": [
    "from sklearn.dummy import DummyRegressor\n",
    "\n",
    "baseline = DummyRegressor(strategy='mean')\n",
    "baseline.fit(x_train, y_train)\n",
    "\n",
    "y_test_baseline = baseline.predict(x_test)"
   ]
  },
  {
   "cell_type": "markdown",
   "metadata": {},
   "source": [
    "## OBS: \n",
    "- There are other strategies that we can use, such as finding the median (the 50 th quantile) or any other N th quantile. \n",
    "- Keep in mind that for the same data, using the mean as an estimation gives a lower MSE compared to when the median is used. \n",
    "- Conversely, the median gives a lower Mean Absolute Error (MAE).\n",
    "- We want our model to beat the baseline for both the MAE and MSE."
   ]
  },
  {
   "cell_type": "markdown",
   "metadata": {},
   "source": [
    "# Training the Linear Regressor"
   ]
  },
  {
   "cell_type": "code",
   "execution_count": 50,
   "metadata": {},
   "outputs": [],
   "source": [
    "reg = LinearRegression()\n",
    "reg.fit(x_train, y_train)\n",
    "\n",
    "y_test_pred = reg.predict(x_test)"
   ]
  },
  {
   "cell_type": "markdown",
   "metadata": {},
   "source": [
    "# Evaluating our model's accuracy\n",
    "\n",
    "There are three commonly used metrics for regression: R² , MAE, and MSE. Let's first write\n",
    "the code that calculates the three metrics and prints the results:"
   ]
  },
  {
   "cell_type": "code",
   "execution_count": 17,
   "metadata": {},
   "outputs": [
    {
     "name": "stdout",
     "output_type": "stream",
     "text": [
      "R2   Regressor = 0.70 vs Baseline = -0.01\n",
      "MAE  Regressor = 3.43 vs Baseline = 6.64\n",
      "MSE  Regressor = 24.12 vs Baseline = 82.47\n"
     ]
    }
   ],
   "source": [
    "from sklearn.metrics import r2_score, mean_absolute_error, mean_squared_error\n",
    "\n",
    "print('R2   Regressor = {:.2f} vs Baseline = {:.2f}'.format(r2_score(y_test, y_test_pred), r2_score(y_test, y_test_baseline)))\n",
    "\n",
    "print('MAE  Regressor = {:.2f} vs Baseline = {:.2f}'.format(mean_absolute_error(y_test, y_test_pred), mean_absolute_error(y_test, y_test_baseline)))\n",
    "\n",
    "print('MSE  Regressor = {:.2f} vs Baseline = {:.2f}'.format(mean_squared_error(y_test, y_test_pred), mean_squared_error(y_test, y_test_baseline)))\n"
   ]
  },
  {
   "cell_type": "markdown",
   "metadata": {},
   "source": [
    "### MSE is more sensitive to outliers than MAE. \n",
    "- That's why the mean estimations for the baseline scored badly there.\n",
    "- Obviously, in the baseline model, we already used the target's mean as the prediction. That's why its R² score is 0 .\n",
    "- For MAE and MSE, the smaller their values, the better the model is.\n",
    "- Conversely, for R 2 , the higher its values, the better the model is.\n",
    "\n",
    "## Good thing: \n",
    "the model scored better than the dummy baseline in all the three scores!"
   ]
  },
  {
   "cell_type": "markdown",
   "metadata": {},
   "source": [
    "# Showing feature coefficients\n",
    "\n",
    "We know that a linear model multiplies each of the features by a certain coefficient, and then gets the sum of these products as its final prediction. We can use the regressor's `coef_`\n",
    "method after the model is trained to print these coefficients:"
   ]
  },
  {
   "cell_type": "code",
   "execution_count": 18,
   "metadata": {},
   "outputs": [],
   "source": [
    "df_feature_importance = pd.DataFrame({'Features': x_train.columns,\n",
    "                                      'Coeff': reg.coef_,\n",
    "                                      'ABS(Coeff)': abs(reg.coef_)}).set_index('Features').sort_values('Coeff', ascending=False)"
   ]
  },
  {
   "cell_type": "code",
   "execution_count": 19,
   "metadata": {},
   "outputs": [
    {
     "data": {
      "text/html": [
       "<div>\n",
       "<style scoped>\n",
       "    .dataframe tbody tr th:only-of-type {\n",
       "        vertical-align: middle;\n",
       "    }\n",
       "\n",
       "    .dataframe tbody tr th {\n",
       "        vertical-align: top;\n",
       "    }\n",
       "\n",
       "    .dataframe thead th {\n",
       "        text-align: right;\n",
       "    }\n",
       "</style>\n",
       "<table border=\"1\" class=\"dataframe\">\n",
       "  <thead>\n",
       "    <tr style=\"text-align: right;\">\n",
       "      <th></th>\n",
       "      <th>Coeff</th>\n",
       "      <th>ABS(Coeff)</th>\n",
       "    </tr>\n",
       "    <tr>\n",
       "      <th>Features</th>\n",
       "      <th></th>\n",
       "      <th></th>\n",
       "    </tr>\n",
       "  </thead>\n",
       "  <tbody>\n",
       "    <tr>\n",
       "      <th>RM</th>\n",
       "      <td>3.861760</td>\n",
       "      <td>3.861760</td>\n",
       "    </tr>\n",
       "    <tr>\n",
       "      <th>CHAS</th>\n",
       "      <td>1.655302</td>\n",
       "      <td>1.655302</td>\n",
       "    </tr>\n",
       "    <tr>\n",
       "      <th>RAD</th>\n",
       "      <td>0.353022</td>\n",
       "      <td>0.353022</td>\n",
       "    </tr>\n",
       "    <tr>\n",
       "      <th>INDUS</th>\n",
       "      <td>0.053782</td>\n",
       "      <td>0.053782</td>\n",
       "    </tr>\n",
       "    <tr>\n",
       "      <th>ZN</th>\n",
       "      <td>0.052559</td>\n",
       "      <td>0.052559</td>\n",
       "    </tr>\n",
       "    <tr>\n",
       "      <th>AGE</th>\n",
       "      <td>0.016805</td>\n",
       "      <td>0.016805</td>\n",
       "    </tr>\n",
       "    <tr>\n",
       "      <th>B</th>\n",
       "      <td>0.006526</td>\n",
       "      <td>0.006526</td>\n",
       "    </tr>\n",
       "    <tr>\n",
       "      <th>TAX</th>\n",
       "      <td>-0.016255</td>\n",
       "      <td>0.016255</td>\n",
       "    </tr>\n",
       "    <tr>\n",
       "      <th>CRIM</th>\n",
       "      <td>-0.097264</td>\n",
       "      <td>0.097264</td>\n",
       "    </tr>\n",
       "    <tr>\n",
       "      <th>LSTAT</th>\n",
       "      <td>-0.583663</td>\n",
       "      <td>0.583663</td>\n",
       "    </tr>\n",
       "    <tr>\n",
       "      <th>PTRATIO</th>\n",
       "      <td>-0.925891</td>\n",
       "      <td>0.925891</td>\n",
       "    </tr>\n",
       "    <tr>\n",
       "      <th>DIS</th>\n",
       "      <td>-1.406427</td>\n",
       "      <td>1.406427</td>\n",
       "    </tr>\n",
       "    <tr>\n",
       "      <th>NOX</th>\n",
       "      <td>-18.344760</td>\n",
       "      <td>18.344760</td>\n",
       "    </tr>\n",
       "  </tbody>\n",
       "</table>\n",
       "</div>"
      ],
      "text/plain": [
       "              Coeff  ABS(Coeff)\n",
       "Features                       \n",
       "RM         3.861760    3.861760\n",
       "CHAS       1.655302    1.655302\n",
       "RAD        0.353022    0.353022\n",
       "INDUS      0.053782    0.053782\n",
       "ZN         0.052559    0.052559\n",
       "AGE        0.016805    0.016805\n",
       "B          0.006526    0.006526\n",
       "TAX       -0.016255    0.016255\n",
       "CRIM      -0.097264    0.097264\n",
       "LSTAT     -0.583663    0.583663\n",
       "PTRATIO   -0.925891    0.925891\n",
       "DIS       -1.406427    1.406427\n",
       "NOX      -18.344760   18.344760"
      ]
     },
     "execution_count": 19,
     "metadata": {},
     "output_type": "execute_result"
    }
   ],
   "source": [
    "df_feature_importance"
   ]
  },
  {
   "cell_type": "markdown",
   "metadata": {},
   "source": [
    "As we can see in these results, some coefficients are positive and others are negative. \n",
    "- A positive coefficient means that the feature correlates positively with the target and vice versa. \n",
    "- I also added another column for the absolute values of the coefficients { ABS ( coefff ) }\n",
    "\n",
    "## BUT . . .\n",
    "- Ideally, the value for each coefficient should tell us how important each feature is. \n",
    "- A higher absolute value, regardless of its sign, reflects high importance.\n",
    "- However, checking the data, we notice that the maximum value for NOX is 0.87 , while TAX goes up to 711 . \n",
    "- This means that if NOX has just marginal importance, its coefficient will still be high to balance its small value, while for TAX , its coefficient will always be small compared to the high values of the feature itself.\n",
    "- So, we need to SCALE the features to keep them all in the comparable ranges."
   ]
  },
  {
   "cell_type": "markdown",
   "metadata": {},
   "source": [
    "## Scaling for more meaningful coefficients\n",
    "\n",
    "Using it with its default configuration will squeeze out all the values for all the features between 0 and 1 .\n",
    "\n",
    "The scaler needs to be fitted first to learn the features' ranges. Fitting should be done on the training x set only. Then, we use the scaler's transform function to scale both the training and test x sets."
   ]
  },
  {
   "cell_type": "code",
   "execution_count": 20,
   "metadata": {},
   "outputs": [],
   "source": [
    "from sklearn.preprocessing import MinMaxScaler"
   ]
  },
  {
   "cell_type": "code",
   "execution_count": 21,
   "metadata": {},
   "outputs": [],
   "source": [
    "# Instance of the scaling model and the linear regression model\n",
    "scaler = MinMaxScaler()\n",
    "reg = LinearRegression()"
   ]
  },
  {
   "cell_type": "code",
   "execution_count": 22,
   "metadata": {},
   "outputs": [],
   "source": [
    "# Fitting the scaler with the training features, so they learn the range\n",
    "scaler.fit(x_train)\n",
    "\n",
    "# Now we use the tranform to scale both train and test sets\n",
    "x_train_scaled = scaler.transform(x_train)\n",
    "x_test_scaler = scaler.transform(x_test)"
   ]
  },
  {
   "cell_type": "code",
   "execution_count": 23,
   "metadata": {},
   "outputs": [],
   "source": [
    "reg.fit(x_train_scaled, y_train)\n",
    "y_test_pred = reg.predict(x_test_scaler)"
   ]
  },
  {
   "cell_type": "markdown",
   "metadata": {},
   "source": [
    "### There is a shorthand version of this code for fitting one dataset and then transforming it. In other words, the following uncommented line takes the place of the two commented ones:\n",
    "- We will be using the `fit_transform()` function a lot from now on where needed.\n",
    "\n",
    " \n",
    "```python\n",
    "# scaler.fit(x_train)\n",
    "# x_train_scaled = scaler.transform(x_train)\n",
    "x_train_scaled = scaler.fit_transform(x_train)\n",
    " "
   ]
  },
  {
   "cell_type": "markdown",
   "metadata": {},
   "source": [
    "- It's important to scale your features if you want meaningful coefficients.\n",
    "- Furthermore, scaling helps gradient-based solvers converge quicker .\n",
    "- In addition to scaling, you should also make sure you don't have highly correlated features for more meaningful coefficients and a stable linear regression model.\n",
    "\n",
    "## Scaled features and retrained the model:"
   ]
  },
  {
   "cell_type": "code",
   "execution_count": 24,
   "metadata": {},
   "outputs": [
    {
     "data": {
      "text/html": [
       "<div>\n",
       "<style scoped>\n",
       "    .dataframe tbody tr th:only-of-type {\n",
       "        vertical-align: middle;\n",
       "    }\n",
       "\n",
       "    .dataframe tbody tr th {\n",
       "        vertical-align: top;\n",
       "    }\n",
       "\n",
       "    .dataframe thead th {\n",
       "        text-align: right;\n",
       "    }\n",
       "</style>\n",
       "<table border=\"1\" class=\"dataframe\">\n",
       "  <thead>\n",
       "    <tr style=\"text-align: right;\">\n",
       "      <th></th>\n",
       "      <th>Coeff</th>\n",
       "      <th>ABS(Coeff)</th>\n",
       "    </tr>\n",
       "    <tr>\n",
       "      <th>Features</th>\n",
       "      <th></th>\n",
       "      <th></th>\n",
       "    </tr>\n",
       "  </thead>\n",
       "  <tbody>\n",
       "    <tr>\n",
       "      <th>RM</th>\n",
       "      <td>19.861033</td>\n",
       "      <td>19.861033</td>\n",
       "    </tr>\n",
       "    <tr>\n",
       "      <th>RAD</th>\n",
       "      <td>8.119513</td>\n",
       "      <td>8.119513</td>\n",
       "    </tr>\n",
       "    <tr>\n",
       "      <th>ZN</th>\n",
       "      <td>5.255855</td>\n",
       "      <td>5.255855</td>\n",
       "    </tr>\n",
       "    <tr>\n",
       "      <th>B</th>\n",
       "      <td>2.573527</td>\n",
       "      <td>2.573527</td>\n",
       "    </tr>\n",
       "    <tr>\n",
       "      <th>CHAS</th>\n",
       "      <td>1.655302</td>\n",
       "      <td>1.655302</td>\n",
       "    </tr>\n",
       "    <tr>\n",
       "      <th>AGE</th>\n",
       "      <td>1.631809</td>\n",
       "      <td>1.631809</td>\n",
       "    </tr>\n",
       "    <tr>\n",
       "      <th>INDUS</th>\n",
       "      <td>1.467174</td>\n",
       "      <td>1.467174</td>\n",
       "    </tr>\n",
       "    <tr>\n",
       "      <th>TAX</th>\n",
       "      <td>-8.517552</td>\n",
       "      <td>8.517552</td>\n",
       "    </tr>\n",
       "    <tr>\n",
       "      <th>CRIM</th>\n",
       "      <td>-8.653583</td>\n",
       "      <td>8.653583</td>\n",
       "    </tr>\n",
       "    <tr>\n",
       "      <th>PTRATIO</th>\n",
       "      <td>-8.703379</td>\n",
       "      <td>8.703379</td>\n",
       "    </tr>\n",
       "    <tr>\n",
       "      <th>NOX</th>\n",
       "      <td>-8.915553</td>\n",
       "      <td>8.915553</td>\n",
       "    </tr>\n",
       "    <tr>\n",
       "      <th>DIS</th>\n",
       "      <td>-15.398121</td>\n",
       "      <td>15.398121</td>\n",
       "    </tr>\n",
       "    <tr>\n",
       "      <th>LSTAT</th>\n",
       "      <td>-20.574124</td>\n",
       "      <td>20.574124</td>\n",
       "    </tr>\n",
       "  </tbody>\n",
       "</table>\n",
       "</div>"
      ],
      "text/plain": [
       "              Coeff  ABS(Coeff)\n",
       "Features                       \n",
       "RM        19.861033   19.861033\n",
       "RAD        8.119513    8.119513\n",
       "ZN         5.255855    5.255855\n",
       "B          2.573527    2.573527\n",
       "CHAS       1.655302    1.655302\n",
       "AGE        1.631809    1.631809\n",
       "INDUS      1.467174    1.467174\n",
       "TAX       -8.517552    8.517552\n",
       "CRIM      -8.653583    8.653583\n",
       "PTRATIO   -8.703379    8.703379\n",
       "NOX       -8.915553    8.915553\n",
       "DIS      -15.398121   15.398121\n",
       "LSTAT    -20.574124   20.574124"
      ]
     },
     "execution_count": 24,
     "metadata": {},
     "output_type": "execute_result"
    }
   ],
   "source": [
    "df_feature_importance = pd.DataFrame({'Features': x_train.columns,\n",
    "                                      'Coeff': reg.coef_,\n",
    "                                      'ABS(Coeff)': abs(reg.coef_)}).set_index('Features').sort_values('Coeff', ascending=False)\n",
    "\n",
    "df_feature_importance"
   ]
  },
  {
   "cell_type": "markdown",
   "metadata": {},
   "source": [
    "### * Notice how NOX is less important now than before.\n",
    "1) LSTAT: % lower status of the population\n",
    "\n",
    "2) RM: average number of rooms per dwelling\n",
    "\n",
    "3) DIS: weighted distances to five Boston employment centres\n",
    "\n",
    "4) RAD: index of accessibility to radial highways\n",
    "\n",
    "5) NOX: nitric oxides concentration (parts per 10 million)\n",
    "\n",
    "## Adding polynomial features\n",
    "\n",
    "Now that we know what the most important features are, we can plot the target against them to see how they correlate with them:"
   ]
  },
  {
   "cell_type": "code",
   "execution_count": 25,
   "metadata": {},
   "outputs": [
    {
     "data": {
      "text/plain": [
       "array(['CRIM', 'ZN', 'INDUS', 'CHAS', 'NOX', 'RM', 'AGE', 'DIS', 'RAD',\n",
       "       'TAX', 'PTRATIO', 'B', 'LSTAT'], dtype='<U7')"
      ]
     },
     "execution_count": 25,
     "metadata": {},
     "output_type": "execute_result"
    }
   ],
   "source": [
    "boston.feature_names"
   ]
  },
  {
   "cell_type": "code",
   "execution_count": 26,
   "metadata": {},
   "outputs": [
    {
     "data": {
      "text/plain": [
       "<matplotlib.axes._subplots.AxesSubplot at 0x7fbc2365ba10>"
      ]
     },
     "execution_count": 26,
     "metadata": {},
     "output_type": "execute_result"
    },
    {
     "data": {
      "image/png": "[encoded data removed]",
      "text/plain": [
       "<Figure size 1296x432 with 5 Axes>"
      ]
     },
     "metadata": {
      "needs_background": "light"
     },
     "output_type": "display_data"
    }
   ],
   "source": [
    "# defining the figure size and number of rows and columns \n",
    "fig, ax = plt.subplots(1, 5, figsize=(18, 6))\n",
    "\n",
    "# Plotting the most important features x target to see their behaviour  \n",
    "df_boston.plot(x='LSTAT', y='TARGET', title='Features x Target', kind='scatter', ax=ax[0])\n",
    "df_boston.plot(x='RM', y='TARGET', kind='scatter', ax=ax[1])\n",
    "df_boston.plot(x='DIS', y='TARGET', kind='scatter', ax=ax[2])\n",
    "df_boston.plot(x='RAD', y='TARGET', kind='scatter', ax=ax[3])\n",
    "df_boston.plot(x='NOX', y='TARGET', kind='scatter', ax=ax[4])"
   ]
  },
  {
   "cell_type": "markdown",
   "metadata": {},
   "source": [
    "- These plots don't seem to be very linear, and a linear model will not be able to capture this non-linearity.\n",
    "- Although we cannot turn a linear model into a non-linear one, we can still transform the data instead.\n",
    "- Think of it this way: if `y` is a function of `x²` , we can either use a non-linear model—one that is capable of capturing the quadratic relation between x and y . . . \n",
    "- OR we can just calculate x² and give it to a linear model instead of x.\n",
    "- Furthermore, linear regression algorithms do not capture feature interactions.\n",
    "- The current model cannot capture interactions between multiple features.\n",
    "\n",
    "### A polynomial transformation can solve both the non-linearity and feature interaction issues "
   ]
  },
  {
   "cell_type": "code",
   "execution_count": 27,
   "metadata": {},
   "outputs": [],
   "source": [
    "from sklearn.preprocessing import PolynomialFeatures\n",
    "\n",
    "# To get both the quadratic and cubic feature transformation, we set the degree parameter to 3\n",
    "poly = PolynomialFeatures(degree=3)\n",
    "\n",
    "x_train_poly = poly.fit_transform(x_train)\n",
    "x_test_poly = poly.transform(x_test)"
   ]
  },
  {
   "cell_type": "markdown",
   "metadata": {},
   "source": [
    "### One annoying thing about PolynomialFeatures is...\n",
    "- that it doesn't keep track of the DataFrame's column names. \n",
    "- It replaces the feature names with x0 , x1 , x2 , and so on.\n",
    "- So, let's replace it back:"
   ]
  },
  {
   "cell_type": "code",
   "execution_count": 28,
   "metadata": {},
   "outputs": [
    {
     "name": "stdout",
     "output_type": "stream",
     "text": [
      "TAKING A LOOK AT THE FEATURE NAMES THAT THE POLYNOMIAL TRANSOFORMATION MADE:\n",
      "\n",
      "['1', 'x0', 'x1', 'x2', 'x3', 'x4', 'x5', 'x6', 'x7', 'x8']  . . .\n"
     ]
    }
   ],
   "source": [
    "print('TAKING A LOOK AT THE FEATURE NAMES THAT THE POLYNOMIAL TRANSOFORMATION MADE:\\n')\n",
    "print(poly.get_feature_names()[:10], ' . . .')"
   ]
  },
  {
   "cell_type": "code",
   "execution_count": 29,
   "metadata": {},
   "outputs": [],
   "source": [
    "feature_translator = [(f'x{i}', feature) for i, feature in enumerate(x_train.columns, 0)]\n",
    "\n",
    "def translate_feature_names(s):\n",
    "    \"\"\"This function replaces all the new made up names from the polynomial \n",
    "    transformation (e.g. x1, x2^2, x3) to the original feature names.\"\"\"\n",
    "    \n",
    "    for key, val in feature_translator:\n",
    "        s = s.replace(key, val)\n",
    "    return s"
   ]
  },
  {
   "cell_type": "code",
   "execution_count": 30,
   "metadata": {},
   "outputs": [],
   "source": [
    "poly_features = [translate_feature_names(f) for f in poly.get_feature_names()]\n",
    "x_train_poly = pd.DataFrame(x_train_poly, columns=poly_features)\n",
    "x_test_poly = pd.DataFrame(x_test_poly, columns=poly_features)"
   ]
  },
  {
   "cell_type": "code",
   "execution_count": 31,
   "metadata": {},
   "outputs": [
    {
     "data": {
      "text/html": [
       "<div>\n",
       "<style scoped>\n",
       "    .dataframe tbody tr th:only-of-type {\n",
       "        vertical-align: middle;\n",
       "    }\n",
       "\n",
       "    .dataframe tbody tr th {\n",
       "        vertical-align: top;\n",
       "    }\n",
       "\n",
       "    .dataframe thead th {\n",
       "        text-align: right;\n",
       "    }\n",
       "</style>\n",
       "<table border=\"1\" class=\"dataframe\">\n",
       "  <thead>\n",
       "    <tr style=\"text-align: right;\">\n",
       "      <th></th>\n",
       "      <th>1</th>\n",
       "      <th>CRIM</th>\n",
       "      <th>ZN</th>\n",
       "      <th>INDUS</th>\n",
       "      <th>CHAS</th>\n",
       "      <th>NOX</th>\n",
       "      <th>RM</th>\n",
       "      <th>AGE</th>\n",
       "      <th>DIS</th>\n",
       "      <th>RAD</th>\n",
       "      <th>...</th>\n",
       "      <th>ZN0^3</th>\n",
       "      <th>ZN0^2 ZN1</th>\n",
       "      <th>ZN0^2 ZN2</th>\n",
       "      <th>ZN0 ZN1^2</th>\n",
       "      <th>ZN0 ZN1 ZN2</th>\n",
       "      <th>ZN0 ZN2^2</th>\n",
       "      <th>ZN1^3</th>\n",
       "      <th>ZN1^2 ZN2</th>\n",
       "      <th>ZN1 ZN2^2</th>\n",
       "      <th>ZN2^3</th>\n",
       "    </tr>\n",
       "  </thead>\n",
       "  <tbody>\n",
       "    <tr>\n",
       "      <th>0</th>\n",
       "      <td>1.0</td>\n",
       "      <td>22.05110</td>\n",
       "      <td>0.0</td>\n",
       "      <td>18.10</td>\n",
       "      <td>0.0</td>\n",
       "      <td>0.740</td>\n",
       "      <td>5.818</td>\n",
       "      <td>92.4</td>\n",
       "      <td>1.8662</td>\n",
       "      <td>24.0</td>\n",
       "      <td>...</td>\n",
       "      <td>8242.408</td>\n",
       "      <td>159727.2580</td>\n",
       "      <td>9021.7644</td>\n",
       "      <td>3.095309e+06</td>\n",
       "      <td>174830.1819</td>\n",
       "      <td>9874.81242</td>\n",
       "      <td>5.998310e+07</td>\n",
       "      <td>3.387984e+06</td>\n",
       "      <td>191361.154545</td>\n",
       "      <td>10808.519931</td>\n",
       "    </tr>\n",
       "    <tr>\n",
       "      <th>1</th>\n",
       "      <td>1.0</td>\n",
       "      <td>0.12650</td>\n",
       "      <td>25.0</td>\n",
       "      <td>5.13</td>\n",
       "      <td>0.0</td>\n",
       "      <td>0.453</td>\n",
       "      <td>6.762</td>\n",
       "      <td>43.4</td>\n",
       "      <td>7.9809</td>\n",
       "      <td>8.0</td>\n",
       "      <td>...</td>\n",
       "      <td>7645.373</td>\n",
       "      <td>153520.6422</td>\n",
       "      <td>3686.8550</td>\n",
       "      <td>3.082726e+06</td>\n",
       "      <td>74032.7970</td>\n",
       "      <td>1777.92500</td>\n",
       "      <td>6.190176e+07</td>\n",
       "      <td>1.486594e+06</td>\n",
       "      <td>35701.095000</td>\n",
       "      <td>857.375000</td>\n",
       "    </tr>\n",
       "    <tr>\n",
       "      <th>2</th>\n",
       "      <td>1.0</td>\n",
       "      <td>0.02055</td>\n",
       "      <td>85.0</td>\n",
       "      <td>0.74</td>\n",
       "      <td>0.0</td>\n",
       "      <td>0.410</td>\n",
       "      <td>6.383</td>\n",
       "      <td>35.7</td>\n",
       "      <td>9.1876</td>\n",
       "      <td>2.0</td>\n",
       "      <td>...</td>\n",
       "      <td>5177.717</td>\n",
       "      <td>118788.2010</td>\n",
       "      <td>1726.9033</td>\n",
       "      <td>2.725262e+06</td>\n",
       "      <td>39618.9549</td>\n",
       "      <td>575.96717</td>\n",
       "      <td>6.252350e+07</td>\n",
       "      <td>9.089458e+05</td>\n",
       "      <td>13213.952010</td>\n",
       "      <td>192.100033</td>\n",
       "    </tr>\n",
       "    <tr>\n",
       "      <th>3</th>\n",
       "      <td>1.0</td>\n",
       "      <td>0.13554</td>\n",
       "      <td>12.5</td>\n",
       "      <td>6.07</td>\n",
       "      <td>0.0</td>\n",
       "      <td>0.409</td>\n",
       "      <td>5.594</td>\n",
       "      <td>36.8</td>\n",
       "      <td>6.4980</td>\n",
       "      <td>4.0</td>\n",
       "      <td>...</td>\n",
       "      <td>6751.269</td>\n",
       "      <td>141776.6490</td>\n",
       "      <td>4675.8789</td>\n",
       "      <td>2.977310e+06</td>\n",
       "      <td>98193.4569</td>\n",
       "      <td>3238.47909</td>\n",
       "      <td>6.252350e+07</td>\n",
       "      <td>2.062063e+06</td>\n",
       "      <td>68008.060890</td>\n",
       "      <td>2242.946629</td>\n",
       "    </tr>\n",
       "    <tr>\n",
       "      <th>4</th>\n",
       "      <td>1.0</td>\n",
       "      <td>0.66351</td>\n",
       "      <td>20.0</td>\n",
       "      <td>3.97</td>\n",
       "      <td>0.0</td>\n",
       "      <td>0.647</td>\n",
       "      <td>7.333</td>\n",
       "      <td>100.0</td>\n",
       "      <td>1.8946</td>\n",
       "      <td>5.0</td>\n",
       "      <td>...</td>\n",
       "      <td>2197.000</td>\n",
       "      <td>64776.0100</td>\n",
       "      <td>1316.5100</td>\n",
       "      <td>1.909846e+06</td>\n",
       "      <td>38815.7783</td>\n",
       "      <td>788.89330</td>\n",
       "      <td>5.630960e+07</td>\n",
       "      <td>1.144438e+06</td>\n",
       "      <td>23259.608689</td>\n",
       "      <td>472.729139</td>\n",
       "    </tr>\n",
       "  </tbody>\n",
       "</table>\n",
       "<p>5 rows × 560 columns</p>\n",
       "</div>"
      ],
      "text/plain": [
       "     1      CRIM    ZN  INDUS  CHAS    NOX     RM    AGE     DIS   RAD  ...  \\\n",
       "0  1.0  22.05110   0.0  18.10   0.0  0.740  5.818   92.4  1.8662  24.0  ...   \n",
       "1  1.0   0.12650  25.0   5.13   0.0  0.453  6.762   43.4  7.9809   8.0  ...   \n",
       "2  1.0   0.02055  85.0   0.74   0.0  0.410  6.383   35.7  9.1876   2.0  ...   \n",
       "3  1.0   0.13554  12.5   6.07   0.0  0.409  5.594   36.8  6.4980   4.0  ...   \n",
       "4  1.0   0.66351  20.0   3.97   0.0  0.647  7.333  100.0  1.8946   5.0  ...   \n",
       "\n",
       "      ZN0^3    ZN0^2 ZN1  ZN0^2 ZN2     ZN0 ZN1^2  ZN0 ZN1 ZN2   ZN0 ZN2^2  \\\n",
       "0  8242.408  159727.2580  9021.7644  3.095309e+06  174830.1819  9874.81242   \n",
       "1  7645.373  153520.6422  3686.8550  3.082726e+06   74032.7970  1777.92500   \n",
       "2  5177.717  118788.2010  1726.9033  2.725262e+06   39618.9549   575.96717   \n",
       "3  6751.269  141776.6490  4675.8789  2.977310e+06   98193.4569  3238.47909   \n",
       "4  2197.000   64776.0100  1316.5100  1.909846e+06   38815.7783   788.89330   \n",
       "\n",
       "          ZN1^3     ZN1^2 ZN2      ZN1 ZN2^2         ZN2^3  \n",
       "0  5.998310e+07  3.387984e+06  191361.154545  10808.519931  \n",
       "1  6.190176e+07  1.486594e+06   35701.095000    857.375000  \n",
       "2  6.252350e+07  9.089458e+05   13213.952010    192.100033  \n",
       "3  6.252350e+07  2.062063e+06   68008.060890   2242.946629  \n",
       "4  5.630960e+07  1.144438e+06   23259.608689    472.729139  \n",
       "\n",
       "[5 rows x 560 columns]"
      ]
     },
     "execution_count": 31,
     "metadata": {},
     "output_type": "execute_result"
    }
   ],
   "source": [
    "x_train_poly.head()"
   ]
  },
  {
   "cell_type": "markdown",
   "metadata": {},
   "source": [
    "## Fitting the linear regressor with the derived features\n",
    "\n",
    "- Now, we are ready to use our linear regressor with the newly transformed features. \n",
    "- One thing to keep in mind is that the `PolynomialFeatures` transformer adds one additional column where all the values are 1 . - The coefficient this column gets after training is equivalent to the intercept. \n",
    "- So, we will not fit an intercept by setting `fit_intercept=False` when training our regressor this time:"
   ]
  },
  {
   "cell_type": "code",
   "execution_count": 32,
   "metadata": {},
   "outputs": [],
   "source": [
    "reg = LinearRegression(fit_intercept=False)\n",
    "reg.fit(x_train_poly, y_train)\n",
    "y_test_pred_poly = reg.predict(x_test_poly)"
   ]
  },
  {
   "cell_type": "code",
   "execution_count": 33,
   "metadata": {},
   "outputs": [
    {
     "name": "stdout",
     "output_type": "stream",
     "text": [
      "R2   Regressor = -90.28 vs Baseline = -0.01\n",
      "MAE  Regressor = 34.34 vs Baseline = 6.64\n",
      "MSE  Regressor = 7438.41 vs Baseline = 82.47\n"
     ]
    }
   ],
   "source": [
    "print('R2   Regressor = {:.2f} vs Baseline = {:.2f}'.format(r2_score(y_test, y_test_pred_poly), r2_score(y_test, y_test_baseline)))\n",
    "\n",
    "print('MAE  Regressor = {:.2f} vs Baseline = {:.2f}'.format(mean_absolute_error(y_test, y_test_pred_poly), mean_absolute_error(y_test, y_test_baseline)))\n",
    "\n",
    "print('MSE  Regressor = {:.2f} vs Baseline = {:.2f}'.format(mean_squared_error(y_test, y_test_pred_poly), mean_squared_error(y_test, y_test_baseline)))"
   ]
  },
  {
   "cell_type": "markdown",
   "metadata": {},
   "source": [
    "## 😞 The regressor is way worse than before and even worse than the baseline. \n",
    "- What did the polynomial features do to our model?\n",
    "- One major problem with the ordinary least squares regression algorithm is that:\n",
    "### it doesn't work well with highly correlated features (multicollinearity).\n",
    "- The polynomial feature transformation's kitchen-sink approach — where we add features, their squared and cubic values, and the product of the features' pairs and triples—will very likely give us multiple correlated features. \n",
    "- This multi-collinearity harms the model's performance. \n",
    "- Shape of `x_train_poly`:"
   ]
  },
  {
   "cell_type": "code",
   "execution_count": 34,
   "metadata": {},
   "outputs": [
    {
     "data": {
      "text/plain": [
       "(303, 560)"
      ]
     },
     "execution_count": 34,
     "metadata": {},
     "output_type": "execute_result"
    }
   ],
   "source": [
    "x_train_poly.shape"
   ]
  },
  {
   "cell_type": "markdown",
   "metadata": {},
   "source": [
    "( samples , features )\n",
    "- This is another problem, where we have too many features compared to our samples...\n",
    "- this is known as: \n",
    "### The curse of dimensionality\n",
    "- the number of possibilities increases exponentially with the number of features. \n",
    "- For a supervised learning algorithm to work well, it needs enough samples to cover a reasonable number of all these possibilities. \n",
    "- This problem is even more drastic when we have non-binary features, as is our case here.\n",
    "\n",
    "# Regularization is the solution\n",
    "- Originally, our objective was to minimize the MSE value of the regressor. \n",
    "- Now, we see that too many features are an issue. \n",
    "- So, we need to improve our objective. \n",
    "   - Now, the model need to IGNORE the useless features! This second part of our objective is what regularization does (in a nutshell).\n",
    "Two algorithms are commonly used for regularized linear regression: LASSO and RIDGE\n",
    "\n",
    "### 1) Lasso pushes the model to have fewer coefficients.\n",
    "\n",
    "- regularization : L1, which penalizes the absolute values of the coefficients\n",
    "\n",
    "### 2) ridge pushes the model to have as small values as possible for its coefficients. \n",
    "\n",
    "- regularization : L2, which penalizes the squared values of the coefficients. \n",
    "\n",
    "### Hyperparameter (alpha): Controls how strongly the coefficients will be regularized. \n",
    "- Setting alpha to 0 means no regularization at all, which brings us back to an ordinary least squares regressor. \n",
    "- Larger values for alpha specify stronger regularization."
   ]
  },
  {
   "cell_type": "code",
   "execution_count": 40,
   "metadata": {},
   "outputs": [
    {
     "name": "stderr",
     "output_type": "stream",
     "text": [
      "/home/anandaheino/anaconda3/lib/python3.7/site-packages/sklearn/linear_model/_coordinate_descent.py:476: ConvergenceWarning: Objective did not converge. You might want to increase the number of iterations. Duality gap: 713.4960223887849, tolerance: 18.537676\n",
      "  positive)\n"
     ]
    }
   ],
   "source": [
    "from sklearn.linear_model import Lasso, Ridge\n",
    "\n",
    "reg_lasso = Lasso(fit_intercept=False)\n",
    "reg_lasso.fit(x_train_poly, y_train)\n",
    "\n",
    "y_test_pred_lasso = reg_lasso.predict(x_test_poly)"
   ]
  },
  {
   "cell_type": "code",
   "execution_count": 41,
   "metadata": {},
   "outputs": [
    {
     "name": "stdout",
     "output_type": "stream",
     "text": [
      "R2   Regressor = 0.76 vs Baseline = -0.01\n",
      "MAE  Regressor = 2.64 vs Baseline = 6.64\n",
      "MSE  Regressor = 19.42 vs Baseline = 82.47\n"
     ]
    }
   ],
   "source": [
    "print('R2   Regressor = {:.2f} vs Baseline = {:.2f}'.format(r2_score(y_test, y_test_pred_lasso), r2_score(y_test, y_test_baseline)))\n",
    "\n",
    "print('MAE  Regressor = {:.2f} vs Baseline = {:.2f}'.format(mean_absolute_error(y_test, y_test_pred_lasso), mean_absolute_error(y_test, y_test_baseline)))\n",
    "\n",
    "print('MSE  Regressor = {:.2f} vs Baseline = {:.2f}'.format(mean_squared_error(y_test, y_test_pred_lasso), mean_squared_error(y_test, y_test_baseline)))"
   ]
  },
  {
   "cell_type": "markdown",
   "metadata": {},
   "source": [
    "- Fix: problems introduced by the polynomial features\n",
    "- Better performance than the original linear regressor:\n",
    "    - MAE is 2.4 here, compared to 3.6 before\n",
    "    - MSE is 16.2 , compared to 25.8 before\n",
    "    - R² is 0.79 , compared to 0.73 before.\n",
    "    \n",
    "### - Now that we have seen promising results after applying regularization, it's time to see how to set an optimum value for the regularization parameter."
   ]
  },
  {
   "cell_type": "markdown",
   "metadata": {},
   "source": [
    "## Finding the optimum regularization parameter\n",
    "- After splitting the data into training and test sets, we would further split the training set into N folds. \n",
    "- Then, we would make a list of all the values of alpha that we would like to test and loop over them one after the other. \n",
    "- With each iteration, we would apply N-fold cross-validation to find the value for alpha that gives the minimal error.\n",
    "### Scikit-learn has a module called LassoCV ( CV = cross-validation ). \n",
    "- Finding the best value for alpha:"
   ]
  },
  {
   "cell_type": "code",
   "execution_count": 42,
   "metadata": {},
   "outputs": [],
   "source": [
    "from sklearn.linear_model import LassoCV"
   ]
  },
  {
   "cell_type": "code",
   "execution_count": 43,
   "metadata": {
    "collapsed": true,
    "jupyter": {
     "outputs_hidden": true
    }
   },
   "outputs": [
    {
     "name": "stderr",
     "output_type": "stream",
     "text": [
      "/home/anandaheino/anaconda3/lib/python3.7/site-packages/sklearn/linear_model/_coordinate_descent.py:476: ConvergenceWarning: Objective did not converge. You might want to increase the number of iterations. Duality gap: 78.28686132631447, tolerance: 13.953584000000001\n",
      "  positive)\n",
      "/home/anandaheino/anaconda3/lib/python3.7/site-packages/sklearn/linear_model/_coordinate_descent.py:476: ConvergenceWarning: Objective did not converge. You might want to increase the number of iterations. Duality gap: 2202.9572100684604, tolerance: 13.953584000000001\n",
      "  positive)\n",
      "/home/anandaheino/anaconda3/lib/python3.7/site-packages/sklearn/linear_model/_coordinate_descent.py:476: ConvergenceWarning: Objective did not converge. You might want to increase the number of iterations. Duality gap: 2202.5612043877454, tolerance: 13.953584000000001\n",
      "  positive)\n",
      "/home/anandaheino/anaconda3/lib/python3.7/site-packages/sklearn/linear_model/_coordinate_descent.py:476: ConvergenceWarning: Objective did not converge. You might want to increase the number of iterations. Duality gap: 2652.6776839966733, tolerance: 13.953584000000001\n",
      "  positive)\n",
      "/home/anandaheino/anaconda3/lib/python3.7/site-packages/sklearn/linear_model/_coordinate_descent.py:476: ConvergenceWarning: Objective did not converge. You might want to increase the number of iterations. Duality gap: 2318.610531555935, tolerance: 13.953584000000001\n",
      "  positive)\n",
      "/home/anandaheino/anaconda3/lib/python3.7/site-packages/sklearn/linear_model/_coordinate_descent.py:476: ConvergenceWarning: Objective did not converge. You might want to increase the number of iterations. Duality gap: 1911.6107573580575, tolerance: 13.953584000000001\n",
      "  positive)\n",
      "/home/anandaheino/anaconda3/lib/python3.7/site-packages/sklearn/linear_model/_coordinate_descent.py:476: ConvergenceWarning: Objective did not converge. You might want to increase the number of iterations. Duality gap: 1690.9922514847453, tolerance: 13.953584000000001\n",
      "  positive)\n",
      "/home/anandaheino/anaconda3/lib/python3.7/site-packages/sklearn/linear_model/_coordinate_descent.py:476: ConvergenceWarning: Objective did not converge. You might want to increase the number of iterations. Duality gap: 1519.8467831537964, tolerance: 13.953584000000001\n",
      "  positive)\n",
      "/home/anandaheino/anaconda3/lib/python3.7/site-packages/sklearn/linear_model/_coordinate_descent.py:476: ConvergenceWarning: Objective did not converge. You might want to increase the number of iterations. Duality gap: 1301.9024591785458, tolerance: 13.953584000000001\n",
      "  positive)\n",
      "/home/anandaheino/anaconda3/lib/python3.7/site-packages/sklearn/linear_model/_coordinate_descent.py:476: ConvergenceWarning: Objective did not converge. You might want to increase the number of iterations. Duality gap: 1145.4065925536786, tolerance: 13.953584000000001\n",
      "  positive)\n",
      "/home/anandaheino/anaconda3/lib/python3.7/site-packages/sklearn/linear_model/_coordinate_descent.py:476: ConvergenceWarning: Objective did not converge. You might want to increase the number of iterations. Duality gap: 997.2019337445402, tolerance: 13.953584000000001\n",
      "  positive)\n",
      "/home/anandaheino/anaconda3/lib/python3.7/site-packages/sklearn/linear_model/_coordinate_descent.py:476: ConvergenceWarning: Objective did not converge. You might want to increase the number of iterations. Duality gap: 878.1750162390201, tolerance: 13.953584000000001\n",
      "  positive)\n",
      "/home/anandaheino/anaconda3/lib/python3.7/site-packages/sklearn/linear_model/_coordinate_descent.py:476: ConvergenceWarning: Objective did not converge. You might want to increase the number of iterations. Duality gap: 785.700598144796, tolerance: 13.953584000000001\n",
      "  positive)\n",
      "/home/anandaheino/anaconda3/lib/python3.7/site-packages/sklearn/linear_model/_coordinate_descent.py:476: ConvergenceWarning: Objective did not converge. You might want to increase the number of iterations. Duality gap: 704.8881315613269, tolerance: 13.953584000000001\n",
      "  positive)\n",
      "/home/anandaheino/anaconda3/lib/python3.7/site-packages/sklearn/linear_model/_coordinate_descent.py:476: ConvergenceWarning: Objective did not converge. You might want to increase the number of iterations. Duality gap: 626.3361531153432, tolerance: 13.953584000000001\n",
      "  positive)\n",
      "/home/anandaheino/anaconda3/lib/python3.7/site-packages/sklearn/linear_model/_coordinate_descent.py:476: ConvergenceWarning: Objective did not converge. You might want to increase the number of iterations. Duality gap: 551.2441748786503, tolerance: 13.953584000000001\n",
      "  positive)\n",
      "/home/anandaheino/anaconda3/lib/python3.7/site-packages/sklearn/linear_model/_coordinate_descent.py:476: ConvergenceWarning: Objective did not converge. You might want to increase the number of iterations. Duality gap: 486.24064355335935, tolerance: 13.953584000000001\n",
      "  positive)\n",
      "/home/anandaheino/anaconda3/lib/python3.7/site-packages/sklearn/linear_model/_coordinate_descent.py:476: ConvergenceWarning: Objective did not converge. You might want to increase the number of iterations. Duality gap: 433.77144590649675, tolerance: 13.953584000000001\n",
      "  positive)\n",
      "/home/anandaheino/anaconda3/lib/python3.7/site-packages/sklearn/linear_model/_coordinate_descent.py:476: ConvergenceWarning: Objective did not converge. You might want to increase the number of iterations. Duality gap: 391.95611699292255, tolerance: 13.953584000000001\n",
      "  positive)\n",
      "/home/anandaheino/anaconda3/lib/python3.7/site-packages/sklearn/linear_model/_coordinate_descent.py:476: ConvergenceWarning: Objective did not converge. You might want to increase the number of iterations. Duality gap: 354.958563889153, tolerance: 13.953584000000001\n",
      "  positive)\n",
      "/home/anandaheino/anaconda3/lib/python3.7/site-packages/sklearn/linear_model/_coordinate_descent.py:476: ConvergenceWarning: Objective did not converge. You might want to increase the number of iterations. Duality gap: 321.2352253497846, tolerance: 13.953584000000001\n",
      "  positive)\n",
      "/home/anandaheino/anaconda3/lib/python3.7/site-packages/sklearn/linear_model/_coordinate_descent.py:476: ConvergenceWarning: Objective did not converge. You might want to increase the number of iterations. Duality gap: 293.8540902671386, tolerance: 13.953584000000001\n",
      "  positive)\n",
      "/home/anandaheino/anaconda3/lib/python3.7/site-packages/sklearn/linear_model/_coordinate_descent.py:476: ConvergenceWarning: Objective did not converge. You might want to increase the number of iterations. Duality gap: 272.07471940486204, tolerance: 13.953584000000001\n",
      "  positive)\n",
      "/home/anandaheino/anaconda3/lib/python3.7/site-packages/sklearn/linear_model/_coordinate_descent.py:476: ConvergenceWarning: Objective did not converge. You might want to increase the number of iterations. Duality gap: 253.47629035879905, tolerance: 13.953584000000001\n",
      "  positive)\n",
      "/home/anandaheino/anaconda3/lib/python3.7/site-packages/sklearn/linear_model/_coordinate_descent.py:476: ConvergenceWarning: Objective did not converge. You might want to increase the number of iterations. Duality gap: 237.33099321631133, tolerance: 13.953584000000001\n",
      "  positive)\n",
      "/home/anandaheino/anaconda3/lib/python3.7/site-packages/sklearn/linear_model/_coordinate_descent.py:476: ConvergenceWarning: Objective did not converge. You might want to increase the number of iterations. Duality gap: 222.83531477643797, tolerance: 13.953584000000001\n",
      "  positive)\n",
      "/home/anandaheino/anaconda3/lib/python3.7/site-packages/sklearn/linear_model/_coordinate_descent.py:476: ConvergenceWarning: Objective did not converge. You might want to increase the number of iterations. Duality gap: 209.66112823932434, tolerance: 13.953584000000001\n",
      "  positive)\n",
      "/home/anandaheino/anaconda3/lib/python3.7/site-packages/sklearn/linear_model/_coordinate_descent.py:476: ConvergenceWarning: Objective did not converge. You might want to increase the number of iterations. Duality gap: 198.10340632055878, tolerance: 13.953584000000001\n",
      "  positive)\n",
      "/home/anandaheino/anaconda3/lib/python3.7/site-packages/sklearn/linear_model/_coordinate_descent.py:476: ConvergenceWarning: Objective did not converge. You might want to increase the number of iterations. Duality gap: 188.1878916893952, tolerance: 13.953584000000001\n",
      "  positive)\n",
      "/home/anandaheino/anaconda3/lib/python3.7/site-packages/sklearn/linear_model/_coordinate_descent.py:476: ConvergenceWarning: Objective did not converge. You might want to increase the number of iterations. Duality gap: 179.68210530228345, tolerance: 13.953584000000001\n",
      "  positive)\n",
      "/home/anandaheino/anaconda3/lib/python3.7/site-packages/sklearn/linear_model/_coordinate_descent.py:476: ConvergenceWarning: Objective did not converge. You might want to increase the number of iterations. Duality gap: 172.07102154841948, tolerance: 13.953584000000001\n",
      "  positive)\n",
      "/home/anandaheino/anaconda3/lib/python3.7/site-packages/sklearn/linear_model/_coordinate_descent.py:476: ConvergenceWarning: Objective did not converge. You might want to increase the number of iterations. Duality gap: 165.17792469250676, tolerance: 13.953584000000001\n",
      "  positive)\n",
      "/home/anandaheino/anaconda3/lib/python3.7/site-packages/sklearn/linear_model/_coordinate_descent.py:476: ConvergenceWarning: Objective did not converge. You might want to increase the number of iterations. Duality gap: 158.99367440864575, tolerance: 13.953584000000001\n",
      "  positive)\n",
      "/home/anandaheino/anaconda3/lib/python3.7/site-packages/sklearn/linear_model/_coordinate_descent.py:476: ConvergenceWarning: Objective did not converge. You might want to increase the number of iterations. Duality gap: 153.41786426729777, tolerance: 13.953584000000001\n",
      "  positive)\n",
      "/home/anandaheino/anaconda3/lib/python3.7/site-packages/sklearn/linear_model/_coordinate_descent.py:476: ConvergenceWarning: Objective did not converge. You might want to increase the number of iterations. Duality gap: 148.26559761182284, tolerance: 13.953584000000001\n",
      "  positive)\n",
      "/home/anandaheino/anaconda3/lib/python3.7/site-packages/sklearn/linear_model/_coordinate_descent.py:476: ConvergenceWarning: Objective did not converge. You might want to increase the number of iterations. Duality gap: 143.52893828970974, tolerance: 13.953584000000001\n",
      "  positive)\n",
      "/home/anandaheino/anaconda3/lib/python3.7/site-packages/sklearn/linear_model/_coordinate_descent.py:476: ConvergenceWarning: Objective did not converge. You might want to increase the number of iterations. Duality gap: 139.16827384166572, tolerance: 13.953584000000001\n",
      "  positive)\n",
      "/home/anandaheino/anaconda3/lib/python3.7/site-packages/sklearn/linear_model/_coordinate_descent.py:476: ConvergenceWarning: Objective did not converge. You might want to increase the number of iterations. Duality gap: 135.19056328250704, tolerance: 13.953584000000001\n",
      "  positive)\n",
      "/home/anandaheino/anaconda3/lib/python3.7/site-packages/sklearn/linear_model/_coordinate_descent.py:476: ConvergenceWarning: Objective did not converge. You might want to increase the number of iterations. Duality gap: 131.58687804133615, tolerance: 13.953584000000001\n",
      "  positive)\n",
      "/home/anandaheino/anaconda3/lib/python3.7/site-packages/sklearn/linear_model/_coordinate_descent.py:476: ConvergenceWarning: Objective did not converge. You might want to increase the number of iterations. Duality gap: 128.31858513625843, tolerance: 13.953584000000001\n",
      "  positive)\n",
      "/home/anandaheino/anaconda3/lib/python3.7/site-packages/sklearn/linear_model/_coordinate_descent.py:476: ConvergenceWarning: Objective did not converge. You might want to increase the number of iterations. Duality gap: 125.33526760538255, tolerance: 13.953584000000001\n",
      "  positive)\n",
      "/home/anandaheino/anaconda3/lib/python3.7/site-packages/sklearn/linear_model/_coordinate_descent.py:476: ConvergenceWarning: Objective did not converge. You might want to increase the number of iterations. Duality gap: 122.59944051109082, tolerance: 13.953584000000001\n",
      "  positive)\n",
      "/home/anandaheino/anaconda3/lib/python3.7/site-packages/sklearn/linear_model/_coordinate_descent.py:476: ConvergenceWarning: Objective did not converge. You might want to increase the number of iterations. Duality gap: 120.08179165836184, tolerance: 13.953584000000001\n",
      "  positive)\n",
      "/home/anandaheino/anaconda3/lib/python3.7/site-packages/sklearn/linear_model/_coordinate_descent.py:476: ConvergenceWarning: Objective did not converge. You might want to increase the number of iterations. Duality gap: 117.75242598837075, tolerance: 13.953584000000001\n",
      "  positive)\n",
      "/home/anandaheino/anaconda3/lib/python3.7/site-packages/sklearn/linear_model/_coordinate_descent.py:476: ConvergenceWarning: Objective did not converge. You might want to increase the number of iterations. Duality gap: 115.58728886378584, tolerance: 13.953584000000001\n",
      "  positive)\n",
      "/home/anandaheino/anaconda3/lib/python3.7/site-packages/sklearn/linear_model/_coordinate_descent.py:476: ConvergenceWarning: Objective did not converge. You might want to increase the number of iterations. Duality gap: 113.56601897778236, tolerance: 13.953584000000001\n",
      "  positive)\n",
      "/home/anandaheino/anaconda3/lib/python3.7/site-packages/sklearn/linear_model/_coordinate_descent.py:476: ConvergenceWarning: Objective did not converge. You might want to increase the number of iterations. Duality gap: 111.67172298867278, tolerance: 13.953584000000001\n",
      "  positive)\n",
      "/home/anandaheino/anaconda3/lib/python3.7/site-packages/sklearn/linear_model/_coordinate_descent.py:476: ConvergenceWarning: Objective did not converge. You might want to increase the number of iterations. Duality gap: 109.8902617056482, tolerance: 13.953584000000001\n",
      "  positive)\n",
      "/home/anandaheino/anaconda3/lib/python3.7/site-packages/sklearn/linear_model/_coordinate_descent.py:476: ConvergenceWarning: Objective did not converge. You might want to increase the number of iterations. Duality gap: 83.34831799485437, tolerance: 14.572078999999999\n",
      "  positive)\n",
      "/home/anandaheino/anaconda3/lib/python3.7/site-packages/sklearn/linear_model/_coordinate_descent.py:476: ConvergenceWarning: Objective did not converge. You might want to increase the number of iterations. Duality gap: 36.030197891099306, tolerance: 14.572078999999999\n",
      "  positive)\n",
      "/home/anandaheino/anaconda3/lib/python3.7/site-packages/sklearn/linear_model/_coordinate_descent.py:476: ConvergenceWarning: Objective did not converge. You might want to increase the number of iterations. Duality gap: 228.98845947215705, tolerance: 14.572078999999999\n",
      "  positive)\n",
      "/home/anandaheino/anaconda3/lib/python3.7/site-packages/sklearn/linear_model/_coordinate_descent.py:476: ConvergenceWarning: Objective did not converge. You might want to increase the number of iterations. Duality gap: 1355.0011528229961, tolerance: 14.572078999999999\n",
      "  positive)\n",
      "/home/anandaheino/anaconda3/lib/python3.7/site-packages/sklearn/linear_model/_coordinate_descent.py:476: ConvergenceWarning: Objective did not converge. You might want to increase the number of iterations. Duality gap: 1251.0099367530179, tolerance: 14.572078999999999\n",
      "  positive)\n",
      "/home/anandaheino/anaconda3/lib/python3.7/site-packages/sklearn/linear_model/_coordinate_descent.py:476: ConvergenceWarning: Objective did not converge. You might want to increase the number of iterations. Duality gap: 3172.265644645206, tolerance: 14.572078999999999\n",
      "  positive)\n",
      "/home/anandaheino/anaconda3/lib/python3.7/site-packages/sklearn/linear_model/_coordinate_descent.py:476: ConvergenceWarning: Objective did not converge. You might want to increase the number of iterations. Duality gap: 2679.3584530571134, tolerance: 14.572078999999999\n",
      "  positive)\n",
      "/home/anandaheino/anaconda3/lib/python3.7/site-packages/sklearn/linear_model/_coordinate_descent.py:476: ConvergenceWarning: Objective did not converge. You might want to increase the number of iterations. Duality gap: 2376.2826503377073, tolerance: 14.572078999999999\n",
      "  positive)\n",
      "/home/anandaheino/anaconda3/lib/python3.7/site-packages/sklearn/linear_model/_coordinate_descent.py:476: ConvergenceWarning: Objective did not converge. You might want to increase the number of iterations. Duality gap: 2116.290113781575, tolerance: 14.572078999999999\n",
      "  positive)\n",
      "/home/anandaheino/anaconda3/lib/python3.7/site-packages/sklearn/linear_model/_coordinate_descent.py:476: ConvergenceWarning: Objective did not converge. You might want to increase the number of iterations. Duality gap: 1786.215059966298, tolerance: 14.572078999999999\n",
      "  positive)\n",
      "/home/anandaheino/anaconda3/lib/python3.7/site-packages/sklearn/linear_model/_coordinate_descent.py:476: ConvergenceWarning: Objective did not converge. You might want to increase the number of iterations. Duality gap: 1539.5696341147036, tolerance: 14.572078999999999\n",
      "  positive)\n",
      "/home/anandaheino/anaconda3/lib/python3.7/site-packages/sklearn/linear_model/_coordinate_descent.py:476: ConvergenceWarning: Objective did not converge. You might want to increase the number of iterations. Duality gap: 1306.5691996671044, tolerance: 14.572078999999999\n",
      "  positive)\n",
      "/home/anandaheino/anaconda3/lib/python3.7/site-packages/sklearn/linear_model/_coordinate_descent.py:476: ConvergenceWarning: Objective did not converge. You might want to increase the number of iterations. Duality gap: 1117.5646527915294, tolerance: 14.572078999999999\n",
      "  positive)\n",
      "/home/anandaheino/anaconda3/lib/python3.7/site-packages/sklearn/linear_model/_coordinate_descent.py:476: ConvergenceWarning: Objective did not converge. You might want to increase the number of iterations. Duality gap: 975.6035242055336, tolerance: 14.572078999999999\n",
      "  positive)\n",
      "/home/anandaheino/anaconda3/lib/python3.7/site-packages/sklearn/linear_model/_coordinate_descent.py:476: ConvergenceWarning: Objective did not converge. You might want to increase the number of iterations. Duality gap: 872.2906295297784, tolerance: 14.572078999999999\n",
      "  positive)\n",
      "/home/anandaheino/anaconda3/lib/python3.7/site-packages/sklearn/linear_model/_coordinate_descent.py:476: ConvergenceWarning: Objective did not converge. You might want to increase the number of iterations. Duality gap: 793.2667068700908, tolerance: 14.572078999999999\n",
      "  positive)\n",
      "/home/anandaheino/anaconda3/lib/python3.7/site-packages/sklearn/linear_model/_coordinate_descent.py:476: ConvergenceWarning: Objective did not converge. You might want to increase the number of iterations. Duality gap: 710.0925487105492, tolerance: 14.572078999999999\n",
      "  positive)\n",
      "/home/anandaheino/anaconda3/lib/python3.7/site-packages/sklearn/linear_model/_coordinate_descent.py:476: ConvergenceWarning: Objective did not converge. You might want to increase the number of iterations. Duality gap: 630.4566380250642, tolerance: 14.572078999999999\n",
      "  positive)\n",
      "/home/anandaheino/anaconda3/lib/python3.7/site-packages/sklearn/linear_model/_coordinate_descent.py:476: ConvergenceWarning: Objective did not converge. You might want to increase the number of iterations. Duality gap: 563.3625653718532, tolerance: 14.572078999999999\n",
      "  positive)\n",
      "/home/anandaheino/anaconda3/lib/python3.7/site-packages/sklearn/linear_model/_coordinate_descent.py:476: ConvergenceWarning: Objective did not converge. You might want to increase the number of iterations. Duality gap: 507.82024833313176, tolerance: 14.572078999999999\n",
      "  positive)\n",
      "/home/anandaheino/anaconda3/lib/python3.7/site-packages/sklearn/linear_model/_coordinate_descent.py:476: ConvergenceWarning: Objective did not converge. You might want to increase the number of iterations. Duality gap: 460.111203405161, tolerance: 14.572078999999999\n",
      "  positive)\n",
      "/home/anandaheino/anaconda3/lib/python3.7/site-packages/sklearn/linear_model/_coordinate_descent.py:476: ConvergenceWarning: Objective did not converge. You might want to increase the number of iterations. Duality gap: 419.1900260620374, tolerance: 14.572078999999999\n",
      "  positive)\n",
      "/home/anandaheino/anaconda3/lib/python3.7/site-packages/sklearn/linear_model/_coordinate_descent.py:476: ConvergenceWarning: Objective did not converge. You might want to increase the number of iterations. Duality gap: 382.9949235344741, tolerance: 14.572078999999999\n",
      "  positive)\n",
      "/home/anandaheino/anaconda3/lib/python3.7/site-packages/sklearn/linear_model/_coordinate_descent.py:476: ConvergenceWarning: Objective did not converge. You might want to increase the number of iterations. Duality gap: 350.71707126253784, tolerance: 14.572078999999999\n",
      "  positive)\n",
      "/home/anandaheino/anaconda3/lib/python3.7/site-packages/sklearn/linear_model/_coordinate_descent.py:476: ConvergenceWarning: Objective did not converge. You might want to increase the number of iterations. Duality gap: 320.8961667191087, tolerance: 14.572078999999999\n",
      "  positive)\n",
      "/home/anandaheino/anaconda3/lib/python3.7/site-packages/sklearn/linear_model/_coordinate_descent.py:476: ConvergenceWarning: Objective did not converge. You might want to increase the number of iterations. Duality gap: 293.8825052883819, tolerance: 14.572078999999999\n",
      "  positive)\n",
      "/home/anandaheino/anaconda3/lib/python3.7/site-packages/sklearn/linear_model/_coordinate_descent.py:476: ConvergenceWarning: Objective did not converge. You might want to increase the number of iterations. Duality gap: 269.4039437276164, tolerance: 14.572078999999999\n",
      "  positive)\n",
      "/home/anandaheino/anaconda3/lib/python3.7/site-packages/sklearn/linear_model/_coordinate_descent.py:476: ConvergenceWarning: Objective did not converge. You might want to increase the number of iterations. Duality gap: 247.89054972973915, tolerance: 14.572078999999999\n",
      "  positive)\n",
      "/home/anandaheino/anaconda3/lib/python3.7/site-packages/sklearn/linear_model/_coordinate_descent.py:476: ConvergenceWarning: Objective did not converge. You might want to increase the number of iterations. Duality gap: 229.49581264873058, tolerance: 14.572078999999999\n",
      "  positive)\n",
      "/home/anandaheino/anaconda3/lib/python3.7/site-packages/sklearn/linear_model/_coordinate_descent.py:476: ConvergenceWarning: Objective did not converge. You might want to increase the number of iterations. Duality gap: 213.29244472684007, tolerance: 14.572078999999999\n",
      "  positive)\n",
      "/home/anandaheino/anaconda3/lib/python3.7/site-packages/sklearn/linear_model/_coordinate_descent.py:476: ConvergenceWarning: Objective did not converge. You might want to increase the number of iterations. Duality gap: 199.55452627706703, tolerance: 14.572078999999999\n",
      "  positive)\n",
      "/home/anandaheino/anaconda3/lib/python3.7/site-packages/sklearn/linear_model/_coordinate_descent.py:476: ConvergenceWarning: Objective did not converge. You might want to increase the number of iterations. Duality gap: 188.35464452806784, tolerance: 14.572078999999999\n",
      "  positive)\n",
      "/home/anandaheino/anaconda3/lib/python3.7/site-packages/sklearn/linear_model/_coordinate_descent.py:476: ConvergenceWarning: Objective did not converge. You might want to increase the number of iterations. Duality gap: 178.97184115834133, tolerance: 14.572078999999999\n",
      "  positive)\n",
      "/home/anandaheino/anaconda3/lib/python3.7/site-packages/sklearn/linear_model/_coordinate_descent.py:476: ConvergenceWarning: Objective did not converge. You might want to increase the number of iterations. Duality gap: 170.59293169611615, tolerance: 14.572078999999999\n",
      "  positive)\n",
      "/home/anandaheino/anaconda3/lib/python3.7/site-packages/sklearn/linear_model/_coordinate_descent.py:476: ConvergenceWarning: Objective did not converge. You might want to increase the number of iterations. Duality gap: 163.17959712315576, tolerance: 14.572078999999999\n",
      "  positive)\n",
      "/home/anandaheino/anaconda3/lib/python3.7/site-packages/sklearn/linear_model/_coordinate_descent.py:476: ConvergenceWarning: Objective did not converge. You might want to increase the number of iterations. Duality gap: 156.54457762074327, tolerance: 14.572078999999999\n",
      "  positive)\n",
      "/home/anandaheino/anaconda3/lib/python3.7/site-packages/sklearn/linear_model/_coordinate_descent.py:476: ConvergenceWarning: Objective did not converge. You might want to increase the number of iterations. Duality gap: 150.60160528220928, tolerance: 14.572078999999999\n",
      "  positive)\n",
      "/home/anandaheino/anaconda3/lib/python3.7/site-packages/sklearn/linear_model/_coordinate_descent.py:476: ConvergenceWarning: Objective did not converge. You might want to increase the number of iterations. Duality gap: 145.33004165033353, tolerance: 14.572078999999999\n",
      "  positive)\n",
      "/home/anandaheino/anaconda3/lib/python3.7/site-packages/sklearn/linear_model/_coordinate_descent.py:476: ConvergenceWarning: Objective did not converge. You might want to increase the number of iterations. Duality gap: 140.64534917532512, tolerance: 14.572078999999999\n",
      "  positive)\n",
      "/home/anandaheino/anaconda3/lib/python3.7/site-packages/sklearn/linear_model/_coordinate_descent.py:476: ConvergenceWarning: Objective did not converge. You might want to increase the number of iterations. Duality gap: 136.47911747024844, tolerance: 14.572078999999999\n",
      "  positive)\n",
      "/home/anandaheino/anaconda3/lib/python3.7/site-packages/sklearn/linear_model/_coordinate_descent.py:476: ConvergenceWarning: Objective did not converge. You might want to increase the number of iterations. Duality gap: 132.72714721897603, tolerance: 14.572078999999999\n",
      "  positive)\n",
      "/home/anandaheino/anaconda3/lib/python3.7/site-packages/sklearn/linear_model/_coordinate_descent.py:476: ConvergenceWarning: Objective did not converge. You might want to increase the number of iterations. Duality gap: 129.2928192080291, tolerance: 14.572078999999999\n",
      "  positive)\n",
      "/home/anandaheino/anaconda3/lib/python3.7/site-packages/sklearn/linear_model/_coordinate_descent.py:476: ConvergenceWarning: Objective did not converge. You might want to increase the number of iterations. Duality gap: 126.12284019072737, tolerance: 14.572078999999999\n",
      "  positive)\n",
      "/home/anandaheino/anaconda3/lib/python3.7/site-packages/sklearn/linear_model/_coordinate_descent.py:476: ConvergenceWarning: Objective did not converge. You might want to increase the number of iterations. Duality gap: 123.18765683550801, tolerance: 14.572078999999999\n",
      "  positive)\n",
      "/home/anandaheino/anaconda3/lib/python3.7/site-packages/sklearn/linear_model/_coordinate_descent.py:476: ConvergenceWarning: Objective did not converge. You might want to increase the number of iterations. Duality gap: 120.46108375150288, tolerance: 14.572078999999999\n",
      "  positive)\n",
      "/home/anandaheino/anaconda3/lib/python3.7/site-packages/sklearn/linear_model/_coordinate_descent.py:476: ConvergenceWarning: Objective did not converge. You might want to increase the number of iterations. Duality gap: 117.9206238527837, tolerance: 14.572078999999999\n",
      "  positive)\n",
      "/home/anandaheino/anaconda3/lib/python3.7/site-packages/sklearn/linear_model/_coordinate_descent.py:476: ConvergenceWarning: Objective did not converge. You might want to increase the number of iterations. Duality gap: 115.54588810426172, tolerance: 14.572078999999999\n",
      "  positive)\n",
      "/home/anandaheino/anaconda3/lib/python3.7/site-packages/sklearn/linear_model/_coordinate_descent.py:476: ConvergenceWarning: Objective did not converge. You might want to increase the number of iterations. Duality gap: 113.31877457834482, tolerance: 14.572078999999999\n",
      "  positive)\n",
      "/home/anandaheino/anaconda3/lib/python3.7/site-packages/sklearn/linear_model/_coordinate_descent.py:476: ConvergenceWarning: Objective did not converge. You might want to increase the number of iterations. Duality gap: 111.22362626577905, tolerance: 14.572078999999999\n",
      "  positive)\n",
      "/home/anandaheino/anaconda3/lib/python3.7/site-packages/sklearn/linear_model/_coordinate_descent.py:476: ConvergenceWarning: Objective did not converge. You might want to increase the number of iterations. Duality gap: 109.24698008194251, tolerance: 14.572078999999999\n",
      "  positive)\n",
      "/home/anandaheino/anaconda3/lib/python3.7/site-packages/sklearn/linear_model/_coordinate_descent.py:476: ConvergenceWarning: Objective did not converge. You might want to increase the number of iterations. Duality gap: 77.58847278453504, tolerance: 15.012168000000003\n",
      "  positive)\n",
      "/home/anandaheino/anaconda3/lib/python3.7/site-packages/sklearn/linear_model/_coordinate_descent.py:476: ConvergenceWarning: Objective did not converge. You might want to increase the number of iterations. Duality gap: 47.99072892302138, tolerance: 15.012168000000003\n",
      "  positive)\n",
      "/home/anandaheino/anaconda3/lib/python3.7/site-packages/sklearn/linear_model/_coordinate_descent.py:476: ConvergenceWarning: Objective did not converge. You might want to increase the number of iterations. Duality gap: 1549.6971562825056, tolerance: 15.012168000000003\n",
      "  positive)\n",
      "/home/anandaheino/anaconda3/lib/python3.7/site-packages/sklearn/linear_model/_coordinate_descent.py:476: ConvergenceWarning: Objective did not converge. You might want to increase the number of iterations. Duality gap: 2010.641583188033, tolerance: 15.012168000000003\n",
      "  positive)\n",
      "/home/anandaheino/anaconda3/lib/python3.7/site-packages/sklearn/linear_model/_coordinate_descent.py:476: ConvergenceWarning: Objective did not converge. You might want to increase the number of iterations. Duality gap: 2971.6837318838116, tolerance: 15.012168000000003\n",
      "  positive)\n",
      "/home/anandaheino/anaconda3/lib/python3.7/site-packages/sklearn/linear_model/_coordinate_descent.py:476: ConvergenceWarning: Objective did not converge. You might want to increase the number of iterations. Duality gap: 2739.9174178547514, tolerance: 15.012168000000003\n",
      "  positive)\n",
      "/home/anandaheino/anaconda3/lib/python3.7/site-packages/sklearn/linear_model/_coordinate_descent.py:476: ConvergenceWarning: Objective did not converge. You might want to increase the number of iterations. Duality gap: 2274.36378842833, tolerance: 15.012168000000003\n",
      "  positive)\n",
      "/home/anandaheino/anaconda3/lib/python3.7/site-packages/sklearn/linear_model/_coordinate_descent.py:476: ConvergenceWarning: Objective did not converge. You might want to increase the number of iterations. Duality gap: 2104.108519022131, tolerance: 15.012168000000003\n",
      "  positive)\n",
      "/home/anandaheino/anaconda3/lib/python3.7/site-packages/sklearn/linear_model/_coordinate_descent.py:476: ConvergenceWarning: Objective did not converge. You might want to increase the number of iterations. Duality gap: 1797.3742933551796, tolerance: 15.012168000000003\n",
      "  positive)\n",
      "/home/anandaheino/anaconda3/lib/python3.7/site-packages/sklearn/linear_model/_coordinate_descent.py:476: ConvergenceWarning: Objective did not converge. You might want to increase the number of iterations. Duality gap: 1545.9776255088811, tolerance: 15.012168000000003\n",
      "  positive)\n",
      "/home/anandaheino/anaconda3/lib/python3.7/site-packages/sklearn/linear_model/_coordinate_descent.py:476: ConvergenceWarning: Objective did not converge. You might want to increase the number of iterations. Duality gap: 1321.5024266265839, tolerance: 15.012168000000003\n",
      "  positive)\n",
      "/home/anandaheino/anaconda3/lib/python3.7/site-packages/sklearn/linear_model/_coordinate_descent.py:476: ConvergenceWarning: Objective did not converge. You might want to increase the number of iterations. Duality gap: 1143.0215089567732, tolerance: 15.012168000000003\n",
      "  positive)\n",
      "/home/anandaheino/anaconda3/lib/python3.7/site-packages/sklearn/linear_model/_coordinate_descent.py:476: ConvergenceWarning: Objective did not converge. You might want to increase the number of iterations. Duality gap: 1007.0905773546506, tolerance: 15.012168000000003\n",
      "  positive)\n",
      "/home/anandaheino/anaconda3/lib/python3.7/site-packages/sklearn/linear_model/_coordinate_descent.py:476: ConvergenceWarning: Objective did not converge. You might want to increase the number of iterations. Duality gap: 906.9244935607386, tolerance: 15.012168000000003\n",
      "  positive)\n",
      "/home/anandaheino/anaconda3/lib/python3.7/site-packages/sklearn/linear_model/_coordinate_descent.py:476: ConvergenceWarning: Objective did not converge. You might want to increase the number of iterations. Duality gap: 838.6018914924134, tolerance: 15.012168000000003\n",
      "  positive)\n",
      "/home/anandaheino/anaconda3/lib/python3.7/site-packages/sklearn/linear_model/_coordinate_descent.py:476: ConvergenceWarning: Objective did not converge. You might want to increase the number of iterations. Duality gap: 770.9337902096794, tolerance: 15.012168000000003\n",
      "  positive)\n",
      "/home/anandaheino/anaconda3/lib/python3.7/site-packages/sklearn/linear_model/_coordinate_descent.py:476: ConvergenceWarning: Objective did not converge. You might want to increase the number of iterations. Duality gap: 698.5643260639647, tolerance: 15.012168000000003\n",
      "  positive)\n",
      "/home/anandaheino/anaconda3/lib/python3.7/site-packages/sklearn/linear_model/_coordinate_descent.py:476: ConvergenceWarning: Objective did not converge. You might want to increase the number of iterations. Duality gap: 627.5720691773971, tolerance: 15.012168000000003\n",
      "  positive)\n",
      "/home/anandaheino/anaconda3/lib/python3.7/site-packages/sklearn/linear_model/_coordinate_descent.py:476: ConvergenceWarning: Objective did not converge. You might want to increase the number of iterations. Duality gap: 567.1660915461457, tolerance: 15.012168000000003\n",
      "  positive)\n",
      "/home/anandaheino/anaconda3/lib/python3.7/site-packages/sklearn/linear_model/_coordinate_descent.py:476: ConvergenceWarning: Objective did not converge. You might want to increase the number of iterations. Duality gap: 516.7432384650217, tolerance: 15.012168000000003\n",
      "  positive)\n",
      "/home/anandaheino/anaconda3/lib/python3.7/site-packages/sklearn/linear_model/_coordinate_descent.py:476: ConvergenceWarning: Objective did not converge. You might want to increase the number of iterations. Duality gap: 473.33296785054216, tolerance: 15.012168000000003\n",
      "  positive)\n",
      "/home/anandaheino/anaconda3/lib/python3.7/site-packages/sklearn/linear_model/_coordinate_descent.py:476: ConvergenceWarning: Objective did not converge. You might want to increase the number of iterations. Duality gap: 435.4848856599636, tolerance: 15.012168000000003\n",
      "  positive)\n",
      "/home/anandaheino/anaconda3/lib/python3.7/site-packages/sklearn/linear_model/_coordinate_descent.py:476: ConvergenceWarning: Objective did not converge. You might want to increase the number of iterations. Duality gap: 400.47117431484213, tolerance: 15.012168000000003\n",
      "  positive)\n",
      "/home/anandaheino/anaconda3/lib/python3.7/site-packages/sklearn/linear_model/_coordinate_descent.py:476: ConvergenceWarning: Objective did not converge. You might want to increase the number of iterations. Duality gap: 369.63666126651697, tolerance: 15.012168000000003\n",
      "  positive)\n",
      "/home/anandaheino/anaconda3/lib/python3.7/site-packages/sklearn/linear_model/_coordinate_descent.py:476: ConvergenceWarning: Objective did not converge. You might want to increase the number of iterations. Duality gap: 342.49693575819765, tolerance: 15.012168000000003\n",
      "  positive)\n",
      "/home/anandaheino/anaconda3/lib/python3.7/site-packages/sklearn/linear_model/_coordinate_descent.py:476: ConvergenceWarning: Objective did not converge. You might want to increase the number of iterations. Duality gap: 318.166325045998, tolerance: 15.012168000000003\n",
      "  positive)\n",
      "/home/anandaheino/anaconda3/lib/python3.7/site-packages/sklearn/linear_model/_coordinate_descent.py:476: ConvergenceWarning: Objective did not converge. You might want to increase the number of iterations. Duality gap: 297.15883328855256, tolerance: 15.012168000000003\n",
      "  positive)\n",
      "/home/anandaheino/anaconda3/lib/python3.7/site-packages/sklearn/linear_model/_coordinate_descent.py:476: ConvergenceWarning: Objective did not converge. You might want to increase the number of iterations. Duality gap: 279.4157226821297, tolerance: 15.012168000000003\n",
      "  positive)\n",
      "/home/anandaheino/anaconda3/lib/python3.7/site-packages/sklearn/linear_model/_coordinate_descent.py:476: ConvergenceWarning: Objective did not converge. You might want to increase the number of iterations. Duality gap: 263.941770999524, tolerance: 15.012168000000003\n",
      "  positive)\n",
      "/home/anandaheino/anaconda3/lib/python3.7/site-packages/sklearn/linear_model/_coordinate_descent.py:476: ConvergenceWarning: Objective did not converge. You might want to increase the number of iterations. Duality gap: 250.45669486170235, tolerance: 15.012168000000003\n",
      "  positive)\n",
      "/home/anandaheino/anaconda3/lib/python3.7/site-packages/sklearn/linear_model/_coordinate_descent.py:476: ConvergenceWarning: Objective did not converge. You might want to increase the number of iterations. Duality gap: 238.62783207769036, tolerance: 15.012168000000003\n",
      "  positive)\n",
      "/home/anandaheino/anaconda3/lib/python3.7/site-packages/sklearn/linear_model/_coordinate_descent.py:476: ConvergenceWarning: Objective did not converge. You might want to increase the number of iterations. Duality gap: 228.29874369381977, tolerance: 15.012168000000003\n",
      "  positive)\n",
      "/home/anandaheino/anaconda3/lib/python3.7/site-packages/sklearn/linear_model/_coordinate_descent.py:476: ConvergenceWarning: Objective did not converge. You might want to increase the number of iterations. Duality gap: 219.18234656087049, tolerance: 15.012168000000003\n",
      "  positive)\n",
      "/home/anandaheino/anaconda3/lib/python3.7/site-packages/sklearn/linear_model/_coordinate_descent.py:476: ConvergenceWarning: Objective did not converge. You might want to increase the number of iterations. Duality gap: 210.94495644951272, tolerance: 15.012168000000003\n",
      "  positive)\n",
      "/home/anandaheino/anaconda3/lib/python3.7/site-packages/sklearn/linear_model/_coordinate_descent.py:476: ConvergenceWarning: Objective did not converge. You might want to increase the number of iterations. Duality gap: 203.42537736388317, tolerance: 15.012168000000003\n",
      "  positive)\n",
      "/home/anandaheino/anaconda3/lib/python3.7/site-packages/sklearn/linear_model/_coordinate_descent.py:476: ConvergenceWarning: Objective did not converge. You might want to increase the number of iterations. Duality gap: 196.54543598475422, tolerance: 15.012168000000003\n",
      "  positive)\n",
      "/home/anandaheino/anaconda3/lib/python3.7/site-packages/sklearn/linear_model/_coordinate_descent.py:476: ConvergenceWarning: Objective did not converge. You might want to increase the number of iterations. Duality gap: 190.2560873991886, tolerance: 15.012168000000003\n",
      "  positive)\n",
      "/home/anandaheino/anaconda3/lib/python3.7/site-packages/sklearn/linear_model/_coordinate_descent.py:476: ConvergenceWarning: Objective did not converge. You might want to increase the number of iterations. Duality gap: 184.55948654456614, tolerance: 15.012168000000003\n",
      "  positive)\n",
      "/home/anandaheino/anaconda3/lib/python3.7/site-packages/sklearn/linear_model/_coordinate_descent.py:476: ConvergenceWarning: Objective did not converge. You might want to increase the number of iterations. Duality gap: 179.41098304464444, tolerance: 15.012168000000003\n",
      "  positive)\n",
      "/home/anandaheino/anaconda3/lib/python3.7/site-packages/sklearn/linear_model/_coordinate_descent.py:476: ConvergenceWarning: Objective did not converge. You might want to increase the number of iterations. Duality gap: 174.7575911783947, tolerance: 15.012168000000003\n",
      "  positive)\n",
      "/home/anandaheino/anaconda3/lib/python3.7/site-packages/sklearn/linear_model/_coordinate_descent.py:476: ConvergenceWarning: Objective did not converge. You might want to increase the number of iterations. Duality gap: 170.4850349566393, tolerance: 15.012168000000003\n",
      "  positive)\n",
      "/home/anandaheino/anaconda3/lib/python3.7/site-packages/sklearn/linear_model/_coordinate_descent.py:476: ConvergenceWarning: Objective did not converge. You might want to increase the number of iterations. Duality gap: 166.5503652349335, tolerance: 15.012168000000003\n",
      "  positive)\n",
      "/home/anandaheino/anaconda3/lib/python3.7/site-packages/sklearn/linear_model/_coordinate_descent.py:476: ConvergenceWarning: Objective did not converge. You might want to increase the number of iterations. Duality gap: 162.91644411004256, tolerance: 15.012168000000003\n",
      "  positive)\n",
      "/home/anandaheino/anaconda3/lib/python3.7/site-packages/sklearn/linear_model/_coordinate_descent.py:476: ConvergenceWarning: Objective did not converge. You might want to increase the number of iterations. Duality gap: 159.54297463350622, tolerance: 15.012168000000003\n",
      "  positive)\n",
      "/home/anandaheino/anaconda3/lib/python3.7/site-packages/sklearn/linear_model/_coordinate_descent.py:476: ConvergenceWarning: Objective did not converge. You might want to increase the number of iterations. Duality gap: 156.39513541797803, tolerance: 15.012168000000003\n",
      "  positive)\n",
      "/home/anandaheino/anaconda3/lib/python3.7/site-packages/sklearn/linear_model/_coordinate_descent.py:476: ConvergenceWarning: Objective did not converge. You might want to increase the number of iterations. Duality gap: 153.44307917491867, tolerance: 15.012168000000003\n",
      "  positive)\n",
      "/home/anandaheino/anaconda3/lib/python3.7/site-packages/sklearn/linear_model/_coordinate_descent.py:476: ConvergenceWarning: Objective did not converge. You might want to increase the number of iterations. Duality gap: 150.6623480595876, tolerance: 15.012168000000003\n",
      "  positive)\n",
      "/home/anandaheino/anaconda3/lib/python3.7/site-packages/sklearn/linear_model/_coordinate_descent.py:476: ConvergenceWarning: Objective did not converge. You might want to increase the number of iterations. Duality gap: 148.03305957457073, tolerance: 15.012168000000003\n",
      "  positive)\n",
      "/home/anandaheino/anaconda3/lib/python3.7/site-packages/sklearn/linear_model/_coordinate_descent.py:476: ConvergenceWarning: Objective did not converge. You might want to increase the number of iterations. Duality gap: 145.53892811945508, tolerance: 15.012168000000003\n",
      "  positive)\n",
      "/home/anandaheino/anaconda3/lib/python3.7/site-packages/sklearn/linear_model/_coordinate_descent.py:476: ConvergenceWarning: Objective did not converge. You might want to increase the number of iterations. Duality gap: 128.87284461064155, tolerance: 15.486801000000005\n",
      "  positive)\n",
      "/home/anandaheino/anaconda3/lib/python3.7/site-packages/sklearn/linear_model/_coordinate_descent.py:476: ConvergenceWarning: Objective did not converge. You might want to increase the number of iterations. Duality gap: 172.5738628681329, tolerance: 15.486801000000005\n",
      "  positive)\n",
      "/home/anandaheino/anaconda3/lib/python3.7/site-packages/sklearn/linear_model/_coordinate_descent.py:476: ConvergenceWarning: Objective did not converge. You might want to increase the number of iterations. Duality gap: 2953.643959629888, tolerance: 15.486801000000005\n",
      "  positive)\n",
      "/home/anandaheino/anaconda3/lib/python3.7/site-packages/sklearn/linear_model/_coordinate_descent.py:476: ConvergenceWarning: Objective did not converge. You might want to increase the number of iterations. Duality gap: 1285.81787385005, tolerance: 15.486801000000005\n",
      "  positive)\n",
      "/home/anandaheino/anaconda3/lib/python3.7/site-packages/sklearn/linear_model/_coordinate_descent.py:476: ConvergenceWarning: Objective did not converge. You might want to increase the number of iterations. Duality gap: 3117.290399620397, tolerance: 15.486801000000005\n",
      "  positive)\n",
      "/home/anandaheino/anaconda3/lib/python3.7/site-packages/sklearn/linear_model/_coordinate_descent.py:476: ConvergenceWarning: Objective did not converge. You might want to increase the number of iterations. Duality gap: 2803.346354085561, tolerance: 15.486801000000005\n",
      "  positive)\n",
      "/home/anandaheino/anaconda3/lib/python3.7/site-packages/sklearn/linear_model/_coordinate_descent.py:476: ConvergenceWarning: Objective did not converge. You might want to increase the number of iterations. Duality gap: 2421.8034460065655, tolerance: 15.486801000000005\n",
      "  positive)\n",
      "/home/anandaheino/anaconda3/lib/python3.7/site-packages/sklearn/linear_model/_coordinate_descent.py:476: ConvergenceWarning: Objective did not converge. You might want to increase the number of iterations. Duality gap: 2147.1854489325287, tolerance: 15.486801000000005\n",
      "  positive)\n",
      "/home/anandaheino/anaconda3/lib/python3.7/site-packages/sklearn/linear_model/_coordinate_descent.py:476: ConvergenceWarning: Objective did not converge. You might want to increase the number of iterations. Duality gap: 1866.115221558537, tolerance: 15.486801000000005\n",
      "  positive)\n",
      "/home/anandaheino/anaconda3/lib/python3.7/site-packages/sklearn/linear_model/_coordinate_descent.py:476: ConvergenceWarning: Objective did not converge. You might want to increase the number of iterations. Duality gap: 1602.4616731175734, tolerance: 15.486801000000005\n",
      "  positive)\n",
      "/home/anandaheino/anaconda3/lib/python3.7/site-packages/sklearn/linear_model/_coordinate_descent.py:476: ConvergenceWarning: Objective did not converge. You might want to increase the number of iterations. Duality gap: 1362.1323937018742, tolerance: 15.486801000000005\n",
      "  positive)\n",
      "/home/anandaheino/anaconda3/lib/python3.7/site-packages/sklearn/linear_model/_coordinate_descent.py:476: ConvergenceWarning: Objective did not converge. You might want to increase the number of iterations. Duality gap: 1177.1307511300715, tolerance: 15.486801000000005\n",
      "  positive)\n",
      "/home/anandaheino/anaconda3/lib/python3.7/site-packages/sklearn/linear_model/_coordinate_descent.py:476: ConvergenceWarning: Objective did not converge. You might want to increase the number of iterations. Duality gap: 1034.1711881967517, tolerance: 15.486801000000005\n",
      "  positive)\n",
      "/home/anandaheino/anaconda3/lib/python3.7/site-packages/sklearn/linear_model/_coordinate_descent.py:476: ConvergenceWarning: Objective did not converge. You might want to increase the number of iterations. Duality gap: 920.7979016731572, tolerance: 15.486801000000005\n",
      "  positive)\n",
      "/home/anandaheino/anaconda3/lib/python3.7/site-packages/sklearn/linear_model/_coordinate_descent.py:476: ConvergenceWarning: Objective did not converge. You might want to increase the number of iterations. Duality gap: 822.6338325198167, tolerance: 15.486801000000005\n",
      "  positive)\n",
      "/home/anandaheino/anaconda3/lib/python3.7/site-packages/sklearn/linear_model/_coordinate_descent.py:476: ConvergenceWarning: Objective did not converge. You might want to increase the number of iterations. Duality gap: 737.2593935084362, tolerance: 15.486801000000005\n",
      "  positive)\n",
      "/home/anandaheino/anaconda3/lib/python3.7/site-packages/sklearn/linear_model/_coordinate_descent.py:476: ConvergenceWarning: Objective did not converge. You might want to increase the number of iterations. Duality gap: 663.4270452928338, tolerance: 15.486801000000005\n",
      "  positive)\n",
      "/home/anandaheino/anaconda3/lib/python3.7/site-packages/sklearn/linear_model/_coordinate_descent.py:476: ConvergenceWarning: Objective did not converge. You might want to increase the number of iterations. Duality gap: 597.2263544279602, tolerance: 15.486801000000005\n",
      "  positive)\n",
      "/home/anandaheino/anaconda3/lib/python3.7/site-packages/sklearn/linear_model/_coordinate_descent.py:476: ConvergenceWarning: Objective did not converge. You might want to increase the number of iterations. Duality gap: 543.6233799789612, tolerance: 15.486801000000005\n",
      "  positive)\n",
      "/home/anandaheino/anaconda3/lib/python3.7/site-packages/sklearn/linear_model/_coordinate_descent.py:476: ConvergenceWarning: Objective did not converge. You might want to increase the number of iterations. Duality gap: 498.0710300426347, tolerance: 15.486801000000005\n",
      "  positive)\n",
      "/home/anandaheino/anaconda3/lib/python3.7/site-packages/sklearn/linear_model/_coordinate_descent.py:476: ConvergenceWarning: Objective did not converge. You might want to increase the number of iterations. Duality gap: 456.5168113115998, tolerance: 15.486801000000005\n",
      "  positive)\n",
      "/home/anandaheino/anaconda3/lib/python3.7/site-packages/sklearn/linear_model/_coordinate_descent.py:476: ConvergenceWarning: Objective did not converge. You might want to increase the number of iterations. Duality gap: 420.1524831821528, tolerance: 15.486801000000005\n",
      "  positive)\n",
      "/home/anandaheino/anaconda3/lib/python3.7/site-packages/sklearn/linear_model/_coordinate_descent.py:476: ConvergenceWarning: Objective did not converge. You might want to increase the number of iterations. Duality gap: 388.4908748762883, tolerance: 15.486801000000005\n",
      "  positive)\n",
      "/home/anandaheino/anaconda3/lib/python3.7/site-packages/sklearn/linear_model/_coordinate_descent.py:476: ConvergenceWarning: Objective did not converge. You might want to increase the number of iterations. Duality gap: 360.3142558392674, tolerance: 15.486801000000005\n",
      "  positive)\n",
      "/home/anandaheino/anaconda3/lib/python3.7/site-packages/sklearn/linear_model/_coordinate_descent.py:476: ConvergenceWarning: Objective did not converge. You might want to increase the number of iterations. Duality gap: 334.9960376557993, tolerance: 15.486801000000005\n",
      "  positive)\n",
      "/home/anandaheino/anaconda3/lib/python3.7/site-packages/sklearn/linear_model/_coordinate_descent.py:476: ConvergenceWarning: Objective did not converge. You might want to increase the number of iterations. Duality gap: 311.3434609143136, tolerance: 15.486801000000005\n",
      "  positive)\n",
      "/home/anandaheino/anaconda3/lib/python3.7/site-packages/sklearn/linear_model/_coordinate_descent.py:476: ConvergenceWarning: Objective did not converge. You might want to increase the number of iterations. Duality gap: 289.7142480151363, tolerance: 15.486801000000005\n",
      "  positive)\n",
      "/home/anandaheino/anaconda3/lib/python3.7/site-packages/sklearn/linear_model/_coordinate_descent.py:476: ConvergenceWarning: Objective did not converge. You might want to increase the number of iterations. Duality gap: 270.459995467527, tolerance: 15.486801000000005\n",
      "  positive)\n",
      "/home/anandaheino/anaconda3/lib/python3.7/site-packages/sklearn/linear_model/_coordinate_descent.py:476: ConvergenceWarning: Objective did not converge. You might want to increase the number of iterations. Duality gap: 253.70489464940624, tolerance: 15.486801000000005\n",
      "  positive)\n",
      "/home/anandaheino/anaconda3/lib/python3.7/site-packages/sklearn/linear_model/_coordinate_descent.py:476: ConvergenceWarning: Objective did not converge. You might want to increase the number of iterations. Duality gap: 239.3711947963448, tolerance: 15.486801000000005\n",
      "  positive)\n",
      "/home/anandaheino/anaconda3/lib/python3.7/site-packages/sklearn/linear_model/_coordinate_descent.py:476: ConvergenceWarning: Objective did not converge. You might want to increase the number of iterations. Duality gap: 227.2060151883658, tolerance: 15.486801000000005\n",
      "  positive)\n",
      "/home/anandaheino/anaconda3/lib/python3.7/site-packages/sklearn/linear_model/_coordinate_descent.py:476: ConvergenceWarning: Objective did not converge. You might want to increase the number of iterations. Duality gap: 216.8901592971992, tolerance: 15.486801000000005\n",
      "  positive)\n",
      "/home/anandaheino/anaconda3/lib/python3.7/site-packages/sklearn/linear_model/_coordinate_descent.py:476: ConvergenceWarning: Objective did not converge. You might want to increase the number of iterations. Duality gap: 207.91952420134533, tolerance: 15.486801000000005\n",
      "  positive)\n",
      "/home/anandaheino/anaconda3/lib/python3.7/site-packages/sklearn/linear_model/_coordinate_descent.py:476: ConvergenceWarning: Objective did not converge. You might want to increase the number of iterations. Duality gap: 200.08421565231717, tolerance: 15.486801000000005\n",
      "  positive)\n",
      "/home/anandaheino/anaconda3/lib/python3.7/site-packages/sklearn/linear_model/_coordinate_descent.py:476: ConvergenceWarning: Objective did not converge. You might want to increase the number of iterations. Duality gap: 193.05127689692412, tolerance: 15.486801000000005\n",
      "  positive)\n",
      "/home/anandaheino/anaconda3/lib/python3.7/site-packages/sklearn/linear_model/_coordinate_descent.py:476: ConvergenceWarning: Objective did not converge. You might want to increase the number of iterations. Duality gap: 186.6356494595541, tolerance: 15.486801000000005\n",
      "  positive)\n",
      "/home/anandaheino/anaconda3/lib/python3.7/site-packages/sklearn/linear_model/_coordinate_descent.py:476: ConvergenceWarning: Objective did not converge. You might want to increase the number of iterations. Duality gap: 180.81780114801742, tolerance: 15.486801000000005\n",
      "  positive)\n",
      "/home/anandaheino/anaconda3/lib/python3.7/site-packages/sklearn/linear_model/_coordinate_descent.py:476: ConvergenceWarning: Objective did not converge. You might want to increase the number of iterations. Duality gap: 175.56306197424448, tolerance: 15.486801000000005\n",
      "  positive)\n",
      "/home/anandaheino/anaconda3/lib/python3.7/site-packages/sklearn/linear_model/_coordinate_descent.py:476: ConvergenceWarning: Objective did not converge. You might want to increase the number of iterations. Duality gap: 170.80991028940454, tolerance: 15.486801000000005\n",
      "  positive)\n",
      "/home/anandaheino/anaconda3/lib/python3.7/site-packages/sklearn/linear_model/_coordinate_descent.py:476: ConvergenceWarning: Objective did not converge. You might want to increase the number of iterations. Duality gap: 166.4925204417691, tolerance: 15.486801000000005\n",
      "  positive)\n",
      "/home/anandaheino/anaconda3/lib/python3.7/site-packages/sklearn/linear_model/_coordinate_descent.py:476: ConvergenceWarning: Objective did not converge. You might want to increase the number of iterations. Duality gap: 162.51696457271967, tolerance: 15.486801000000005\n",
      "  positive)\n",
      "/home/anandaheino/anaconda3/lib/python3.7/site-packages/sklearn/linear_model/_coordinate_descent.py:476: ConvergenceWarning: Objective did not converge. You might want to increase the number of iterations. Duality gap: 158.8397444389576, tolerance: 15.486801000000005\n",
      "  positive)\n",
      "/home/anandaheino/anaconda3/lib/python3.7/site-packages/sklearn/linear_model/_coordinate_descent.py:476: ConvergenceWarning: Objective did not converge. You might want to increase the number of iterations. Duality gap: 155.4367165556641, tolerance: 15.486801000000005\n",
      "  positive)\n",
      "/home/anandaheino/anaconda3/lib/python3.7/site-packages/sklearn/linear_model/_coordinate_descent.py:476: ConvergenceWarning: Objective did not converge. You might want to increase the number of iterations. Duality gap: 152.27459627979925, tolerance: 15.486801000000005\n",
      "  positive)\n",
      "/home/anandaheino/anaconda3/lib/python3.7/site-packages/sklearn/linear_model/_coordinate_descent.py:476: ConvergenceWarning: Objective did not converge. You might want to increase the number of iterations. Duality gap: 149.32298972785196, tolerance: 15.486801000000005\n",
      "  positive)\n",
      "/home/anandaheino/anaconda3/lib/python3.7/site-packages/sklearn/linear_model/_coordinate_descent.py:476: ConvergenceWarning: Objective did not converge. You might want to increase the number of iterations. Duality gap: 146.55489977531028, tolerance: 15.486801000000005\n",
      "  positive)\n",
      "/home/anandaheino/anaconda3/lib/python3.7/site-packages/sklearn/linear_model/_coordinate_descent.py:476: ConvergenceWarning: Objective did not converge. You might want to increase the number of iterations. Duality gap: 143.94712782894462, tolerance: 15.486801000000005\n",
      "  positive)\n",
      "/home/anandaheino/anaconda3/lib/python3.7/site-packages/sklearn/linear_model/_coordinate_descent.py:476: ConvergenceWarning: Objective did not converge. You might want to increase the number of iterations. Duality gap: 141.48010015155853, tolerance: 15.486801000000005\n",
      "  positive)\n",
      "/home/anandaheino/anaconda3/lib/python3.7/site-packages/sklearn/linear_model/_coordinate_descent.py:476: ConvergenceWarning: Objective did not converge. You might want to increase the number of iterations. Duality gap: 139.13751811533368, tolerance: 15.486801000000005\n",
      "  positive)\n",
      "/home/anandaheino/anaconda3/lib/python3.7/site-packages/sklearn/linear_model/_coordinate_descent.py:476: ConvergenceWarning: Objective did not converge. You might want to increase the number of iterations. Duality gap: 50.66152896974381, tolerance: 15.126072\n",
      "  positive)\n",
      "/home/anandaheino/anaconda3/lib/python3.7/site-packages/sklearn/linear_model/_coordinate_descent.py:476: ConvergenceWarning: Objective did not converge. You might want to increase the number of iterations. Duality gap: 107.07034405288141, tolerance: 15.126072\n",
      "  positive)\n",
      "/home/anandaheino/anaconda3/lib/python3.7/site-packages/sklearn/linear_model/_coordinate_descent.py:476: ConvergenceWarning: Objective did not converge. You might want to increase the number of iterations. Duality gap: 2333.7898325376923, tolerance: 15.126072\n",
      "  positive)\n",
      "/home/anandaheino/anaconda3/lib/python3.7/site-packages/sklearn/linear_model/_coordinate_descent.py:476: ConvergenceWarning: Objective did not converge. You might want to increase the number of iterations. Duality gap: 2825.317580876341, tolerance: 15.126072\n",
      "  positive)\n",
      "/home/anandaheino/anaconda3/lib/python3.7/site-packages/sklearn/linear_model/_coordinate_descent.py:476: ConvergenceWarning: Objective did not converge. You might want to increase the number of iterations. Duality gap: 2304.8713604678796, tolerance: 15.126072\n",
      "  positive)\n",
      "/home/anandaheino/anaconda3/lib/python3.7/site-packages/sklearn/linear_model/_coordinate_descent.py:476: ConvergenceWarning: Objective did not converge. You might want to increase the number of iterations. Duality gap: 2793.8711211476143, tolerance: 15.126072\n",
      "  positive)\n",
      "/home/anandaheino/anaconda3/lib/python3.7/site-packages/sklearn/linear_model/_coordinate_descent.py:476: ConvergenceWarning: Objective did not converge. You might want to increase the number of iterations. Duality gap: 2489.494584525835, tolerance: 15.126072\n",
      "  positive)\n",
      "/home/anandaheino/anaconda3/lib/python3.7/site-packages/sklearn/linear_model/_coordinate_descent.py:476: ConvergenceWarning: Objective did not converge. You might want to increase the number of iterations. Duality gap: 2271.1739661457773, tolerance: 15.126072\n",
      "  positive)\n",
      "/home/anandaheino/anaconda3/lib/python3.7/site-packages/sklearn/linear_model/_coordinate_descent.py:476: ConvergenceWarning: Objective did not converge. You might want to increase the number of iterations. Duality gap: 1930.6735405945556, tolerance: 15.126072\n",
      "  positive)\n",
      "/home/anandaheino/anaconda3/lib/python3.7/site-packages/sklearn/linear_model/_coordinate_descent.py:476: ConvergenceWarning: Objective did not converge. You might want to increase the number of iterations. Duality gap: 1673.5804850799723, tolerance: 15.126072\n",
      "  positive)\n",
      "/home/anandaheino/anaconda3/lib/python3.7/site-packages/sklearn/linear_model/_coordinate_descent.py:476: ConvergenceWarning: Objective did not converge. You might want to increase the number of iterations. Duality gap: 1432.7826722259654, tolerance: 15.126072\n",
      "  positive)\n",
      "/home/anandaheino/anaconda3/lib/python3.7/site-packages/sklearn/linear_model/_coordinate_descent.py:476: ConvergenceWarning: Objective did not converge. You might want to increase the number of iterations. Duality gap: 1251.179794910186, tolerance: 15.126072\n",
      "  positive)\n",
      "/home/anandaheino/anaconda3/lib/python3.7/site-packages/sklearn/linear_model/_coordinate_descent.py:476: ConvergenceWarning: Objective did not converge. You might want to increase the number of iterations. Duality gap: 1102.6650048539714, tolerance: 15.126072\n",
      "  positive)\n",
      "/home/anandaheino/anaconda3/lib/python3.7/site-packages/sklearn/linear_model/_coordinate_descent.py:476: ConvergenceWarning: Objective did not converge. You might want to increase the number of iterations. Duality gap: 979.9109801545978, tolerance: 15.126072\n",
      "  positive)\n",
      "/home/anandaheino/anaconda3/lib/python3.7/site-packages/sklearn/linear_model/_coordinate_descent.py:476: ConvergenceWarning: Objective did not converge. You might want to increase the number of iterations. Duality gap: 881.8568498705031, tolerance: 15.126072\n",
      "  positive)\n",
      "/home/anandaheino/anaconda3/lib/python3.7/site-packages/sklearn/linear_model/_coordinate_descent.py:476: ConvergenceWarning: Objective did not converge. You might want to increase the number of iterations. Duality gap: 791.4911898598418, tolerance: 15.126072\n",
      "  positive)\n",
      "/home/anandaheino/anaconda3/lib/python3.7/site-packages/sklearn/linear_model/_coordinate_descent.py:476: ConvergenceWarning: Objective did not converge. You might want to increase the number of iterations. Duality gap: 708.6679939240498, tolerance: 15.126072\n",
      "  positive)\n",
      "/home/anandaheino/anaconda3/lib/python3.7/site-packages/sklearn/linear_model/_coordinate_descent.py:476: ConvergenceWarning: Objective did not converge. You might want to increase the number of iterations. Duality gap: 639.6494022919787, tolerance: 15.126072\n",
      "  positive)\n",
      "/home/anandaheino/anaconda3/lib/python3.7/site-packages/sklearn/linear_model/_coordinate_descent.py:476: ConvergenceWarning: Objective did not converge. You might want to increase the number of iterations. Duality gap: 585.7083511740956, tolerance: 15.126072\n",
      "  positive)\n",
      "/home/anandaheino/anaconda3/lib/python3.7/site-packages/sklearn/linear_model/_coordinate_descent.py:476: ConvergenceWarning: Objective did not converge. You might want to increase the number of iterations. Duality gap: 541.2725487096551, tolerance: 15.126072\n",
      "  positive)\n",
      "/home/anandaheino/anaconda3/lib/python3.7/site-packages/sklearn/linear_model/_coordinate_descent.py:476: ConvergenceWarning: Objective did not converge. You might want to increase the number of iterations. Duality gap: 502.3263313160245, tolerance: 15.126072\n",
      "  positive)\n",
      "/home/anandaheino/anaconda3/lib/python3.7/site-packages/sklearn/linear_model/_coordinate_descent.py:476: ConvergenceWarning: Objective did not converge. You might want to increase the number of iterations. Duality gap: 464.88662441761494, tolerance: 15.126072\n",
      "  positive)\n",
      "/home/anandaheino/anaconda3/lib/python3.7/site-packages/sklearn/linear_model/_coordinate_descent.py:476: ConvergenceWarning: Objective did not converge. You might want to increase the number of iterations. Duality gap: 428.9718521324217, tolerance: 15.126072\n",
      "  positive)\n",
      "/home/anandaheino/anaconda3/lib/python3.7/site-packages/sklearn/linear_model/_coordinate_descent.py:476: ConvergenceWarning: Objective did not converge. You might want to increase the number of iterations. Duality gap: 394.66402805066383, tolerance: 15.126072\n",
      "  positive)\n",
      "/home/anandaheino/anaconda3/lib/python3.7/site-packages/sklearn/linear_model/_coordinate_descent.py:476: ConvergenceWarning: Objective did not converge. You might want to increase the number of iterations. Duality gap: 362.2665198116589, tolerance: 15.126072\n",
      "  positive)\n",
      "/home/anandaheino/anaconda3/lib/python3.7/site-packages/sklearn/linear_model/_coordinate_descent.py:476: ConvergenceWarning: Objective did not converge. You might want to increase the number of iterations. Duality gap: 332.3589186270869, tolerance: 15.126072\n",
      "  positive)\n",
      "/home/anandaheino/anaconda3/lib/python3.7/site-packages/sklearn/linear_model/_coordinate_descent.py:476: ConvergenceWarning: Objective did not converge. You might want to increase the number of iterations. Duality gap: 306.52950700831894, tolerance: 15.126072\n",
      "  positive)\n",
      "/home/anandaheino/anaconda3/lib/python3.7/site-packages/sklearn/linear_model/_coordinate_descent.py:476: ConvergenceWarning: Objective did not converge. You might want to increase the number of iterations. Duality gap: 285.17617817207383, tolerance: 15.126072\n",
      "  positive)\n",
      "/home/anandaheino/anaconda3/lib/python3.7/site-packages/sklearn/linear_model/_coordinate_descent.py:476: ConvergenceWarning: Objective did not converge. You might want to increase the number of iterations. Duality gap: 267.41223353205606, tolerance: 15.126072\n",
      "  positive)\n",
      "/home/anandaheino/anaconda3/lib/python3.7/site-packages/sklearn/linear_model/_coordinate_descent.py:476: ConvergenceWarning: Objective did not converge. You might want to increase the number of iterations. Duality gap: 252.43671132404017, tolerance: 15.126072\n",
      "  positive)\n",
      "/home/anandaheino/anaconda3/lib/python3.7/site-packages/sklearn/linear_model/_coordinate_descent.py:476: ConvergenceWarning: Objective did not converge. You might want to increase the number of iterations. Duality gap: 239.7807733725405, tolerance: 15.126072\n",
      "  positive)\n",
      "/home/anandaheino/anaconda3/lib/python3.7/site-packages/sklearn/linear_model/_coordinate_descent.py:476: ConvergenceWarning: Objective did not converge. You might want to increase the number of iterations. Duality gap: 228.89349914596852, tolerance: 15.126072\n",
      "  positive)\n",
      "/home/anandaheino/anaconda3/lib/python3.7/site-packages/sklearn/linear_model/_coordinate_descent.py:476: ConvergenceWarning: Objective did not converge. You might want to increase the number of iterations. Duality gap: 219.38850624351682, tolerance: 15.126072\n",
      "  positive)\n",
      "/home/anandaheino/anaconda3/lib/python3.7/site-packages/sklearn/linear_model/_coordinate_descent.py:476: ConvergenceWarning: Objective did not converge. You might want to increase the number of iterations. Duality gap: 210.9414253828613, tolerance: 15.126072\n",
      "  positive)\n",
      "/home/anandaheino/anaconda3/lib/python3.7/site-packages/sklearn/linear_model/_coordinate_descent.py:476: ConvergenceWarning: Objective did not converge. You might want to increase the number of iterations. Duality gap: 203.31628119116863, tolerance: 15.126072\n",
      "  positive)\n",
      "/home/anandaheino/anaconda3/lib/python3.7/site-packages/sklearn/linear_model/_coordinate_descent.py:476: ConvergenceWarning: Objective did not converge. You might want to increase the number of iterations. Duality gap: 196.42959852159692, tolerance: 15.126072\n",
      "  positive)\n",
      "/home/anandaheino/anaconda3/lib/python3.7/site-packages/sklearn/linear_model/_coordinate_descent.py:476: ConvergenceWarning: Objective did not converge. You might want to increase the number of iterations. Duality gap: 190.20099294314457, tolerance: 15.126072\n",
      "  positive)\n",
      "/home/anandaheino/anaconda3/lib/python3.7/site-packages/sklearn/linear_model/_coordinate_descent.py:476: ConvergenceWarning: Objective did not converge. You might want to increase the number of iterations. Duality gap: 184.50453551569356, tolerance: 15.126072\n",
      "  positive)\n",
      "/home/anandaheino/anaconda3/lib/python3.7/site-packages/sklearn/linear_model/_coordinate_descent.py:476: ConvergenceWarning: Objective did not converge. You might want to increase the number of iterations. Duality gap: 179.2865347249061, tolerance: 15.126072\n",
      "  positive)\n",
      "/home/anandaheino/anaconda3/lib/python3.7/site-packages/sklearn/linear_model/_coordinate_descent.py:476: ConvergenceWarning: Objective did not converge. You might want to increase the number of iterations. Duality gap: 174.48796412283895, tolerance: 15.126072\n",
      "  positive)\n",
      "/home/anandaheino/anaconda3/lib/python3.7/site-packages/sklearn/linear_model/_coordinate_descent.py:476: ConvergenceWarning: Objective did not converge. You might want to increase the number of iterations. Duality gap: 170.05417893573826, tolerance: 15.126072\n",
      "  positive)\n",
      "/home/anandaheino/anaconda3/lib/python3.7/site-packages/sklearn/linear_model/_coordinate_descent.py:476: ConvergenceWarning: Objective did not converge. You might want to increase the number of iterations. Duality gap: 165.92498118034632, tolerance: 15.126072\n",
      "  positive)\n",
      "/home/anandaheino/anaconda3/lib/python3.7/site-packages/sklearn/linear_model/_coordinate_descent.py:476: ConvergenceWarning: Objective did not converge. You might want to increase the number of iterations. Duality gap: 162.0513913419489, tolerance: 15.126072\n",
      "  positive)\n",
      "/home/anandaheino/anaconda3/lib/python3.7/site-packages/sklearn/linear_model/_coordinate_descent.py:476: ConvergenceWarning: Objective did not converge. You might want to increase the number of iterations. Duality gap: 158.39981005724383, tolerance: 15.126072\n",
      "  positive)\n",
      "/home/anandaheino/anaconda3/lib/python3.7/site-packages/sklearn/linear_model/_coordinate_descent.py:476: ConvergenceWarning: Objective did not converge. You might want to increase the number of iterations. Duality gap: 154.94591141408029, tolerance: 15.126072\n",
      "  positive)\n",
      "/home/anandaheino/anaconda3/lib/python3.7/site-packages/sklearn/linear_model/_coordinate_descent.py:476: ConvergenceWarning: Objective did not converge. You might want to increase the number of iterations. Duality gap: 151.67084186677698, tolerance: 15.126072\n",
      "  positive)\n",
      "/home/anandaheino/anaconda3/lib/python3.7/site-packages/sklearn/linear_model/_coordinate_descent.py:476: ConvergenceWarning: Objective did not converge. You might want to increase the number of iterations. Duality gap: 148.55835809240725, tolerance: 15.126072\n",
      "  positive)\n",
      "/home/anandaheino/anaconda3/lib/python3.7/site-packages/sklearn/linear_model/_coordinate_descent.py:476: ConvergenceWarning: Objective did not converge. You might want to increase the number of iterations. Duality gap: 145.59439118055778, tolerance: 15.126072\n",
      "  positive)\n",
      "/home/anandaheino/anaconda3/lib/python3.7/site-packages/sklearn/linear_model/_coordinate_descent.py:476: ConvergenceWarning: Objective did not converge. You might want to increase the number of iterations. Duality gap: 142.7668862802957, tolerance: 15.126072\n",
      "  positive)\n",
      "/home/anandaheino/anaconda3/lib/python3.7/site-packages/sklearn/linear_model/_coordinate_descent.py:476: ConvergenceWarning: Objective did not converge. You might want to increase the number of iterations. Duality gap: 1336.5611672412294, tolerance: 18.537676\n",
      "  positive)\n"
     ]
    }
   ],
   "source": [
    "# Make a list of 50 values between 0.000001 and 1,000,000\n",
    "alphas = np.logspace(-6, 6, 50)\n",
    "\n",
    "# We will do 5-fold cross validation\n",
    "reg_lasso_CV = LassoCV(alphas=alphas, fit_intercept=False, cv=5)\n",
    "\n",
    "reg_lasso_CV.fit(x_train_poly, y_train)\n",
    "y_train_pred_lasso_CV = reg_lasso_CV.predict(x_train_poly)\n",
    "y_test_pred_lasso_CV = reg_lasso_CV.predict(x_test_poly)"
   ]
  },
  {
   "cell_type": "markdown",
   "metadata": {},
   "source": [
    "## Chosen Alpha:"
   ]
  },
  {
   "cell_type": "code",
   "execution_count": 44,
   "metadata": {},
   "outputs": [
    {
     "data": {
      "text/plain": [
       "68.66488450042998"
      ]
     },
     "execution_count": 44,
     "metadata": {},
     "output_type": "execute_result"
    }
   ],
   "source": [
    "reg_lasso_CV.alpha_"
   ]
  },
  {
   "cell_type": "markdown",
   "metadata": {},
   "source": [
    "## Alpha x MSE ( mean and confidence interval )\n",
    "\n",
    "The following code snippets calculate and plot the confidence intervals for MSE versus\n",
    "alpha:\n",
    "\n",
    "### 1. We start by calculating the descriptive statistics of the MSE values returned:\n"
   ]
  },
  {
   "cell_type": "code",
   "execution_count": 45,
   "metadata": {},
   "outputs": [],
   "source": [
    "# n_folds equals to 5 here\n",
    "n_folds = reg_lasso_CV.mse_path_.shape[1]\n",
    "\n",
    "# Calculate the mean and standard error for MSEs\n",
    "mse_mean = reg_lasso_CV.mse_path_.mean(axis=1)\n",
    "mse_std = reg_lasso_CV.mse_path_.std(axis=1)\n",
    "\n",
    "# Std Error = Std Deviation / SQRT(number of samples)\n",
    "mse_std_error = mse_std / np.sqrt(n_folds)"
   ]
  },
  {
   "cell_type": "markdown",
   "metadata": {},
   "source": [
    "## 2. Then, we put our calculations into a data frame and plot them using the default line chart:"
   ]
  },
  {
   "cell_type": "code",
   "execution_count": 48,
   "metadata": {},
   "outputs": [
    {
     "data": {
      "text/plain": [
       "Text(0, 0.5, 'Mean Squared Error')"
      ]
     },
     "execution_count": 48,
     "metadata": {},
     "output_type": "execute_result"
    },
    {
     "data": {
      "image/png": "[encoded data removed]",
      "text/plain": [
       "<Figure size 720x432 with 1 Axes>"
      ]
     },
     "metadata": {
      "needs_background": "light"
     },
     "output_type": "display_data"
    }
   ],
   "source": [
    "fig, ax = plt.subplots(1, 1, figsize=(10, 6))\n",
    "\n",
    "# We multiply by 1.96 for a 95% Confidence Interval\n",
    "df_alpha_mse = pd.DataFrame({'alpha': reg_lasso_CV.alphas_,'Mean MSE': mse_mean,\n",
    "              'Upper Bound MSE': mse_mean + 1.96 * mse_std_error,\n",
    "              'Lower Bound MSE': mse_mean - 1.96 * mse_std_error}).set_index('alpha')[['Mean MSE', \n",
    "                                                                                      'Upper Bound MSE', \n",
    "                                                                                      'Lower Bound MSE']]\n",
    "\n",
    "df_alpha_mse.plot(title='Regularization plot (MSE vs alpha)', marker='.', logx=True, ax=ax)\n",
    "\n",
    "# Color the confidence interval\n",
    "plt.fill_between(reg_lasso_CV.alphas_, mse_mean + 1.96 * mse_std_error, mse_mean - 1.96 * mse_std_error)\n",
    "\n",
    "# Print a vertical line for the chosen alpha\n",
    "ax.axvline(reg_lasso_CV.alpha_, linestyle='--', color='k')\n",
    "ax.set_xlabel('Alpha')\n",
    "ax.set_ylabel('Mean Squared Error')"
   ]
  },
  {
   "cell_type": "markdown",
   "metadata": {},
   "source": [
    "### The MSE value is NOT the lowest at the chosen alpha value... \n",
    "#### ... but the confidence interval is narrower, which reflects more confidence in the expected MSE result.\n",
    "\n",
    "## Setting the model's alpha value"
   ]
  },
  {
   "cell_type": "code",
   "execution_count": 49,
   "metadata": {},
   "outputs": [
    {
     "name": "stderr",
     "output_type": "stream",
     "text": [
      "/home/anandaheino/anaconda3/lib/python3.7/site-packages/sklearn/linear_model/_coordinate_descent.py:476: ConvergenceWarning: Objective did not converge. You might want to increase the number of iterations. Duality gap: 1336.5612145953182, tolerance: 18.537676\n",
      "  positive)\n"
     ]
    }
   ],
   "source": [
    "reg_lasso = Lasso(alpha=68.6649, fit_intercept=False)\n",
    "reg_lasso.fit(x_train_poly, y_train)\n",
    "\n",
    "y_test_pred_lasso = reg_lasso.predict(x_test_poly)"
   ]
  },
  {
   "cell_type": "code",
   "execution_count": 56,
   "metadata": {},
   "outputs": [
    {
     "name": "stdout",
     "output_type": "stream",
     "text": [
      "R2   Lasso = 0.78  vs   Regressor = 0.70  vs  Baseline = -0.01\n",
      "MAE  Lasso = 2.50  vs   Regressor = 3.43  vs  Baseline = 6.64\n",
      "MSE  Lasso = 17.66 vs   Regressor = 24.12 vs  Baseline = 82.47\n"
     ]
    }
   ],
   "source": [
    "print('R2   Lasso = {:.2f}  vs   Regressor = {:.2f}  vs  Baseline = {:.2f}'.format(r2_score(y_test, y_test_pred_lasso), r2_score(y_test, y_test_pred), r2_score(y_test, y_test_baseline)))\n",
    "\n",
    "print('MAE  Lasso = {:.2f}  vs   Regressor = {:.2f}  vs  Baseline = {:.2f}'.format(mean_absolute_error(y_test, y_test_pred_lasso), mean_absolute_error(y_test, y_test_pred), mean_absolute_error(y_test, y_test_baseline)))\n",
    "\n",
    "print('MSE  Lasso = {:.2f} vs   Regressor = {:.2f} vs  Baseline = {:.2f}'.format(mean_squared_error(y_test, y_test_pred_lasso), mean_squared_error(y_test, y_test_pred), mean_squared_error(y_test, y_test_baseline)))"
   ]
  },
  {
   "cell_type": "markdown",
   "metadata": {},
   "source": [
    "### Clearly, regularization fixed the issues caused by the curse of dimensionality earlier."
   ]
  },
  {
   "cell_type": "code",
   "execution_count": null,
   "metadata": {},
   "outputs": [],
   "source": []
  },
  {
   "cell_type": "code",
   "execution_count": null,
   "metadata": {},
   "outputs": [],
   "source": []
  },
  {
   "cell_type": "code",
   "execution_count": null,
   "metadata": {},
   "outputs": [],
   "source": []
  }
 ],
 "metadata": {
  "kernelspec": {
   "display_name": "Python 3",
   "language": "python",
   "name": "python3"
  },
  "language_info": {
   "codemirror_mode": {
    "name": "ipython",
    "version": 3
   },
   "file_extension": ".py",
   "mimetype": "text/x-python",
   "name": "python",
   "nbconvert_exporter": "python",
   "pygments_lexer": "ipython3",
   "version": "3.9.6"
  }
 },
 "nbformat": 4,
 "nbformat_minor": 4
}
